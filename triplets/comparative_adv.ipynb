{
 "cells": [
  {
   "cell_type": "code",
   "execution_count": 1,
   "metadata": {},
   "outputs": [],
   "source": [
    "import sys\n",
    "sys.path.append('..')\n",
    "\n",
    "import os\n",
    "import psutil\n",
    "\n",
    "import numpy as np\n",
    "np.random.seed(0)"
   ]
  },
  {
   "cell_type": "code",
   "execution_count": 2,
   "metadata": {},
   "outputs": [
    {
     "name": "stderr",
     "output_type": "stream",
     "text": [
      "Using TensorFlow backend.\n"
     ]
    }
   ],
   "source": [
    "import matplotlib.pyplot as plt\n",
    "from pylab import *\n",
    "from keras.models import Sequential\n",
    "from keras import optimizers\n",
    "from keras.models import load_model\n",
    "from keras.optimizers import Adam, SGD\n",
    "from keras.layers import Conv2D, ZeroPadding2D, Activation, Input, concatenate, Dropout, Convolution2D\n",
    "from keras.models import Model\n",
    "from keras.datasets import cifar10\n",
    "\n",
    "from keras.layers.normalization import BatchNormalization\n",
    "from keras.layers.pooling import MaxPooling2D\n",
    "from keras.layers.merge import Concatenate\n",
    "from keras.layers.core import Lambda, Flatten, Dense\n",
    "from keras.initializers import glorot_uniform,he_uniform\n",
    "\n",
    "from keras.preprocessing.image import ImageDataGenerator\n",
    "from keras.engine.topology import Layer\n",
    "from keras.regularizers import l2\n",
    "from keras import backend as K\n",
    "from keras.utils import plot_model,normalize\n",
    "\n",
    "from IPython.display import SVG\n",
    "from keras.utils.vis_utils import model_to_dot\n",
    "\n",
    "from custom_lib.triplet_utils import buildDataSet, build_model\n",
    "from custom_lib.triplet_utils import get_batch_hard, compute_probs\n",
    "from custom_lib.triplet_utils import add_top, remove_top\n",
    "\n",
    "from art.classifiers import KerasClassifier\n",
    "from art.attacks.projected_gradient_descent import ProjectedGradientDescent\n",
    "from art.attacks.iterative_method import BasicIterativeMethod\n",
    "from art.defences.adversarial_trainer import AdversarialTrainer\n",
    "\n",
    "from custom_lib.build_resnet import resnet_v1, resnet_emb"
   ]
  },
  {
   "cell_type": "code",
   "execution_count": 12,
   "metadata": {},
   "outputs": [
    {
     "name": "stdout",
     "output_type": "stream",
     "text": [
      "WARNING:tensorflow:From /home/heigen/.conda/envs/cenv/lib/python3.6/site-packages/tensorflow/python/framework/op_def_library.py:263: colocate_with (from tensorflow.python.framework.ops) is deprecated and will be removed in a future version.\n",
      "Instructions for updating:\n",
      "Colocations handled automatically by placer.\n",
      "WARNING:tensorflow:From /home/heigen/.conda/envs/cenv/lib/python3.6/site-packages/keras/backend/tensorflow_backend.py:3445: calling dropout (from tensorflow.python.ops.nn_ops) with keep_prob is deprecated and will be removed in a future version.\n",
      "Instructions for updating:\n",
      "Please use `rate` instead of `keep_prob`. Rate should be set to `rate = 1 - keep_prob`.\n",
      "WARNING:tensorflow:From /home/heigen/.conda/envs/cenv/lib/python3.6/site-packages/tensorflow/python/ops/math_ops.py:3066: to_int32 (from tensorflow.python.ops.math_ops) is deprecated and will be removed in a future version.\n",
      "Instructions for updating:\n",
      "Use tf.cast instead.\n"
     ]
    }
   ],
   "source": [
    "model = load_model(\"saved_models/cifar10_ResNet32v1_model.h5\")\n",
    "\n",
    "model.compile(optimizer=SGD(lr=0.001),\n",
    "              loss='categorical_crossentropy',\n",
    "              metrics=['accuracy'])"
   ]
  },
  {
   "cell_type": "code",
   "execution_count": 13,
   "metadata": {},
   "outputs": [],
   "source": [
    "from keras.utils import to_categorical\n",
    "\n",
    "(x_train, y_train), (x_test, y_test) = cifar10.load_data()\n",
    "\n",
    "x_train = x_train / 255.\n",
    "x_test = x_test / 255.\n",
    "\n",
    "y_train = to_categorical(y_train, 10)\n",
    "y_test = to_categorical(y_test, 10)"
   ]
  },
  {
   "cell_type": "code",
   "execution_count": 14,
   "metadata": {},
   "outputs": [],
   "source": [
    "def restrict_cpu():\n",
    "    p = psutil.Process()\n",
    "\n",
    "    for i in p.threads():\n",
    "        temp = psutil.Process(i.id)\n",
    "\n",
    "        temp.cpu_affinity([i for i in range(4)])"
   ]
  },
  {
   "cell_type": "code",
   "execution_count": 5,
   "metadata": {},
   "outputs": [
    {
     "name": "stdout",
     "output_type": "stream",
     "text": [
      "WARNING:tensorflow:From /home/heigen/.conda/envs/cenv/lib/python3.6/site-packages/keras/backend/tensorflow_backend.py:3298: softmax_cross_entropy_with_logits (from tensorflow.python.ops.nn_ops) is deprecated and will be removed in a future version.\n",
      "Instructions for updating:\n",
      "\n",
      "Future major versions of TensorFlow will allow gradients to flow\n",
      "into the labels input on backprop by default.\n",
      "\n",
      "See `tf.nn.softmax_cross_entropy_with_logits_v2`.\n",
      "\n"
     ]
    }
   ],
   "source": [
    "from art.attacks.fast_gradient import FastGradientMethod\n",
    "\n",
    "art_model = KerasClassifier(clip_values=(0, 1.), model=model, use_logits=False)\n",
    "attack = FastGradientMethod(art_model, eps=0.04, batch_size=64)\n",
    "\n",
    "adv_imgs = attack.generate(x_test[0:10])\n",
    "\n",
    "restrict_cpu()\n",
    "\n",
    "adv_train = attack.generate(x_train)"
   ]
  },
  {
   "cell_type": "code",
   "execution_count": 8,
   "metadata": {},
   "outputs": [
    {
     "name": "stdout",
     "output_type": "stream",
     "text": [
      "10000/10000 [==============================] - 3s 277us/step\n",
      "[0.3938062877178192, 0.9184]\n",
      "10000/10000 [==============================] - 2s 189us/step\n",
      "[4.849322650146484, 0.2105]\n"
     ]
    }
   ],
   "source": [
    "print(model.evaluate(x_test, y_test))\n",
    "print(model.evaluate(adv_imgs, y_test))"
   ]
  },
  {
   "cell_type": "code",
   "execution_count": 9,
   "metadata": {},
   "outputs": [],
   "source": [
    "trainer = AdversarialTrainer(art_model, attack, ratio=1.0)\n",
    "trainer.fit(x_train, y_train, nb_epochs=5, batch_size=32, verbose=0)"
   ]
  },
  {
   "cell_type": "code",
   "execution_count": 11,
   "metadata": {},
   "outputs": [
    {
     "name": "stdout",
     "output_type": "stream",
     "text": [
      "10000/10000 [==============================] - 2s 202us/step\n",
      "[1.3223604904174804, 0.6053]\n",
      "10000/10000 [==============================] - 2s 192us/step\n",
      "[1.6293663112640382, 0.4343]\n"
     ]
    }
   ],
   "source": [
    "adv_imgs = attack.generate(x_test)\n",
    "\n",
    "print(model.evaluate(x_test, y_test))\n",
    "print(model.evaluate(adv_imgs, y_test))"
   ]
  },
  {
   "cell_type": "code",
   "execution_count": 42,
   "metadata": {},
   "outputs": [
    {
     "data": {
      "text/plain": [
       "0"
      ]
     },
     "execution_count": 42,
     "metadata": {},
     "output_type": "execute_result"
    }
   ],
   "source": [
    "diffs = abs(adv_imgs - x_test)\n",
    "zeros = [i.sum() < 1e-2 for i in x_test]\n",
    "sum(zeros)"
   ]
  },
  {
   "cell_type": "code",
   "execution_count": 8,
   "metadata": {},
   "outputs": [
    {
     "name": "stdout",
     "output_type": "stream",
     "text": [
      "Train on 50000 samples, validate on 10000 samples\n",
      "Epoch 1/10\n",
      "50000/50000 [==============================] - 26s 523us/step - loss: 1.2708 - acc: 0.6106 - val_loss: 0.7560 - val_acc: 0.7905\n",
      "Epoch 2/10\n",
      "50000/50000 [==============================] - 25s 498us/step - loss: 1.0550 - acc: 0.6676 - val_loss: 0.7027 - val_acc: 0.8034\n",
      "Epoch 3/10\n",
      "50000/50000 [==============================] - 25s 500us/step - loss: 0.9441 - acc: 0.7013 - val_loss: 0.6673 - val_acc: 0.8135\n",
      "Epoch 4/10\n",
      "50000/50000 [==============================] - 25s 497us/step - loss: 0.8745 - acc: 0.7240 - val_loss: 0.6494 - val_acc: 0.8183\n",
      "Epoch 5/10\n",
      "50000/50000 [==============================] - 25s 497us/step - loss: 0.8212 - acc: 0.7432 - val_loss: 0.6272 - val_acc: 0.8257\n",
      "Epoch 6/10\n",
      "50000/50000 [==============================] - 25s 494us/step - loss: 0.7871 - acc: 0.7523 - val_loss: 0.6190 - val_acc: 0.8285\n",
      "Epoch 7/10\n",
      "50000/50000 [==============================] - 25s 492us/step - loss: 0.7576 - acc: 0.7662 - val_loss: 0.6064 - val_acc: 0.8327\n",
      "Epoch 8/10\n",
      "50000/50000 [==============================] - 25s 493us/step - loss: 0.7347 - acc: 0.7743 - val_loss: 0.6007 - val_acc: 0.8348\n",
      "Epoch 9/10\n",
      "50000/50000 [==============================] - 25s 491us/step - loss: 0.7099 - acc: 0.7847 - val_loss: 0.5952 - val_acc: 0.8358\n",
      "Epoch 10/10\n",
      "50000/50000 [==============================] - 25s 491us/step - loss: 0.6975 - acc: 0.7876 - val_loss: 0.5896 - val_acc: 0.8394\n"
     ]
    },
    {
     "data": {
      "text/plain": [
       "<keras.callbacks.History at 0x7fd098168400>"
      ]
     },
     "execution_count": 8,
     "metadata": {},
     "output_type": "execute_result"
    }
   ],
   "source": [
    "model.fit(adv_train, y_train, validation_data=(x_test, y_test), batch_size=64, epochs=10)"
   ]
  },
  {
   "cell_type": "code",
   "execution_count": 9,
   "metadata": {},
   "outputs": [
    {
     "name": "stdout",
     "output_type": "stream",
     "text": [
      "10000/10000 [==============================] - 2s 189us/step\n",
      "[0.5895575842380524, 0.8394]\n",
      "10000/10000 [==============================] - 2s 186us/step\n",
      "[3.599535289001465, 0.214]\n"
     ]
    }
   ],
   "source": [
    "adv_imgs = attack.generate(x_test)\n",
    "\n",
    "print(model.evaluate(x_test, y_test))\n",
    "print(model.evaluate(adv_imgs, y_test))"
   ]
  },
  {
   "cell_type": "code",
   "execution_count": 6,
   "metadata": {},
   "outputs": [],
   "source": [
    "trainer = AdversarialTrainer(art_model, attack, ratio=0.5)\n",
    "trainer.fit(x_train, y_train, nb_epochs=5, batch_size=32, verbose=0)"
   ]
  },
  {
   "cell_type": "code",
   "execution_count": 7,
   "metadata": {},
   "outputs": [
    {
     "name": "stdout",
     "output_type": "stream",
     "text": [
      "10000/10000 [==============================] - 3s 309us/step\n",
      "[0.41616658363342285, 0.9049]\n",
      "10000/10000 [==============================] - 2s 190us/step\n",
      "[1.519617756652832, 0.4683]\n"
     ]
    }
   ],
   "source": [
    "adv_imgs = attack.generate(x_test)\n",
    "\n",
    "print(model.evaluate(x_test, y_test))\n",
    "print(model.evaluate(adv_imgs, y_test))"
   ]
  },
  {
   "cell_type": "code",
   "execution_count": null,
   "metadata": {},
   "outputs": [],
   "source": []
  },
  {
   "cell_type": "code",
   "execution_count": null,
   "metadata": {},
   "outputs": [],
   "source": []
  },
  {
   "cell_type": "code",
   "execution_count": null,
   "metadata": {},
   "outputs": [],
   "source": []
  },
  {
   "cell_type": "code",
   "execution_count": null,
   "metadata": {},
   "outputs": [],
   "source": []
  },
  {
   "cell_type": "code",
   "execution_count": null,
   "metadata": {},
   "outputs": [],
   "source": []
  },
  {
   "cell_type": "code",
   "execution_count": null,
   "metadata": {},
   "outputs": [],
   "source": []
  },
  {
   "cell_type": "code",
   "execution_count": null,
   "metadata": {},
   "outputs": [],
   "source": []
  },
  {
   "cell_type": "code",
   "execution_count": null,
   "metadata": {},
   "outputs": [],
   "source": []
  },
  {
   "cell_type": "code",
   "execution_count": null,
   "metadata": {},
   "outputs": [],
   "source": []
  }
 ],
 "metadata": {
  "kernelspec": {
   "display_name": "Python 3",
   "language": "python",
   "name": "python3"
  },
  "language_info": {
   "codemirror_mode": {
    "name": "ipython",
    "version": 3
   },
   "file_extension": ".py",
   "mimetype": "text/x-python",
   "name": "python",
   "nbconvert_exporter": "python",
   "pygments_lexer": "ipython3",
   "version": "3.6.8"
  }
 },
 "nbformat": 4,
 "nbformat_minor": 2
}
