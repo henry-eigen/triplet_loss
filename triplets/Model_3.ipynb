{
 "cells": [
  {
   "cell_type": "code",
   "execution_count": 1,
   "metadata": {},
   "outputs": [],
   "source": [
    "import sys\n",
    "sys.path.append('..')\n",
    "\n",
    "import os\n",
    "import psutil\n",
    "os.environ[\"CUDA_VISIBLE_DEVICES\"]=\"0\"\n",
    "\n",
    "import numpy as np\n",
    "np.random.seed(0)"
   ]
  },
  {
   "cell_type": "code",
   "execution_count": 2,
   "metadata": {},
   "outputs": [
    {
     "name": "stderr",
     "output_type": "stream",
     "text": [
      "Using TensorFlow backend.\n"
     ]
    }
   ],
   "source": [
    "import matplotlib.pyplot as plt\n",
    "from pylab import *\n",
    "from keras.models import Sequential\n",
    "from keras import optimizers\n",
    "from keras.models import load_model\n",
    "from keras.optimizers import Adam, SGD\n",
    "from keras.layers import Conv2D, ZeroPadding2D, Activation, Input, concatenate, Dropout, Convolution2D, Dense\n",
    "from keras.models import Model\n",
    "from keras.datasets import cifar10\n",
    "\n",
    "from keras.layers.normalization import BatchNormalization\n",
    "from keras.layers.pooling import MaxPooling2D\n",
    "from keras.layers.merge import Concatenate\n",
    "from keras.layers.core import Lambda, Flatten, Dense\n",
    "from keras.initializers import glorot_uniform,he_uniform\n",
    "\n",
    "from keras.preprocessing.image import ImageDataGenerator\n",
    "from keras.engine.topology import Layer\n",
    "from keras.regularizers import l2\n",
    "from keras import backend as K\n",
    "\n",
    "from IPython.display import SVG\n",
    "from keras.utils.vis_utils import model_to_dot\n",
    "\n",
    "from custom_lib.triplet_utils import buildDataSet, build_model\n",
    "from custom_lib.triplet_utils import get_batch_hard, compute_probs\n",
    "from custom_lib.triplet_utils import add_top, remove_top\n",
    "\n",
    "from art.classifiers import KerasClassifier\n",
    "from art.attacks.projected_gradient_descent import ProjectedGradientDescent\n",
    "from art.attacks.iterative_method import BasicIterativeMethod\n",
    "from art.defences.adversarial_trainer import AdversarialTrainer\n",
    "from art.attacks.fast_gradient import FastGradientMethod\n",
    "\n",
    "from custom_lib.build_resnet import resnet_v1, resnet_emb"
   ]
  },
  {
   "cell_type": "code",
   "execution_count": 3,
   "metadata": {},
   "outputs": [],
   "source": [
    "def restrict_cpu():\n",
    "    p = psutil.Process()\n",
    "\n",
    "    for i in p.threads():\n",
    "        temp = psutil.Process(i.id)\n",
    "\n",
    "        temp.cpu_affinity([i for i in range(10,20)])"
   ]
  },
  {
   "cell_type": "code",
   "execution_count": 4,
   "metadata": {},
   "outputs": [],
   "source": [
    "from keras.utils import to_categorical\n",
    "\n",
    "(x_train, y_train), (x_test, y_test) = cifar10.load_data()\n",
    "\n",
    "x_train = x_train / 255.\n",
    "x_test = x_test / 255.\n",
    "\n",
    "y_train = to_categorical(y_train, 10)\n",
    "y_test = to_categorical(y_test, 10)"
   ]
  },
  {
   "cell_type": "code",
   "execution_count": 5,
   "metadata": {},
   "outputs": [],
   "source": [
    "learning_rate = 5e-6\n",
    "batch_size=64\n",
    "epochs=10\n",
    "\n",
    "nb_classes = 10\n",
    "img_rows, img_cols = 32, 32\n",
    "input_shape = (img_rows, img_cols, 3)\n",
    "in_shape = input_shape\n",
    "\n",
    "#dataset_train, dataset_test, x_train_origin, y_train_origin, x_test_origin, y_test_origin = buildDataSet(cifar=True)"
   ]
  },
  {
   "cell_type": "code",
   "execution_count": 6,
   "metadata": {},
   "outputs": [
    {
     "name": "stdout",
     "output_type": "stream",
     "text": [
      "WARNING:tensorflow:From /home/heigen/.conda/envs/cenv/lib/python3.6/site-packages/tensorflow/python/framework/op_def_library.py:263: colocate_with (from tensorflow.python.framework.ops) is deprecated and will be removed in a future version.\n",
      "Instructions for updating:\n",
      "Colocations handled automatically by placer.\n",
      "WARNING:tensorflow:From /home/heigen/.conda/envs/cenv/lib/python3.6/site-packages/keras/backend/tensorflow_backend.py:3445: calling dropout (from tensorflow.python.ops.nn_ops) with keep_prob is deprecated and will be removed in a future version.\n",
      "Instructions for updating:\n",
      "Please use `rate` instead of `keep_prob`. Rate should be set to `rate = 1 - keep_prob`.\n"
     ]
    },
    {
     "data": {
      "image/svg+xml": [
       "<svg height=\"191pt\" viewBox=\"0.00 0.00 133.00 191.00\" width=\"133pt\" xmlns=\"http://www.w3.org/2000/svg\" xmlns:xlink=\"http://www.w3.org/1999/xlink\">\n",
       "<g class=\"graph\" id=\"graph0\" transform=\"scale(1 1) rotate(0) translate(4 187)\">\n",
       "<title>G</title>\n",
       "<polygon fill=\"white\" points=\"-4,4 -4,-187 129,-187 129,4 -4,4\" stroke=\"none\"/>\n",
       "<!-- 140586187604712 -->\n",
       "<g class=\"node\" id=\"node1\"><title>140586187604712</title>\n",
       "<polygon fill=\"none\" points=\"-7.10543e-15,-146.5 -7.10543e-15,-182.5 125,-182.5 125,-146.5 -7.10543e-15,-146.5\" stroke=\"black\"/>\n",
       "<text font-family=\"Times,serif\" font-size=\"14.00\" text-anchor=\"middle\" x=\"62.5\" y=\"-160.8\">input_2: InputLayer</text>\n",
       "</g>\n",
       "<!-- 140586187997136 -->\n",
       "<g class=\"node\" id=\"node2\"><title>140586187997136</title>\n",
       "<polygon fill=\"none\" points=\"8.5,-73.5 8.5,-109.5 116.5,-109.5 116.5,-73.5 8.5,-73.5\" stroke=\"black\"/>\n",
       "<text font-family=\"Times,serif\" font-size=\"14.00\" text-anchor=\"middle\" x=\"62.5\" y=\"-87.8\">model_1: Model</text>\n",
       "</g>\n",
       "<!-- 140586187604712&#45;&gt;140586187997136 -->\n",
       "<g class=\"edge\" id=\"edge1\"><title>140586187604712-&gt;140586187997136</title>\n",
       "<path d=\"M62.5,-146.313C62.5,-138.289 62.5,-128.547 62.5,-119.569\" fill=\"none\" stroke=\"black\"/>\n",
       "<polygon fill=\"black\" points=\"66.0001,-119.529 62.5,-109.529 59.0001,-119.529 66.0001,-119.529\" stroke=\"black\"/>\n",
       "</g>\n",
       "<!-- 140586187700152 -->\n",
       "<g class=\"node\" id=\"node3\"><title>140586187700152</title>\n",
       "<polygon fill=\"none\" points=\"13.5,-0.5 13.5,-36.5 111.5,-36.5 111.5,-0.5 13.5,-0.5\" stroke=\"black\"/>\n",
       "<text font-family=\"Times,serif\" font-size=\"14.00\" text-anchor=\"middle\" x=\"62.5\" y=\"-14.8\">cat_out: Dense</text>\n",
       "</g>\n",
       "<!-- 140586187997136&#45;&gt;140586187700152 -->\n",
       "<g class=\"edge\" id=\"edge2\"><title>140586187997136-&gt;140586187700152</title>\n",
       "<path d=\"M62.5,-73.3129C62.5,-65.2895 62.5,-55.5475 62.5,-46.5691\" fill=\"none\" stroke=\"black\"/>\n",
       "<polygon fill=\"black\" points=\"66.0001,-46.5288 62.5,-36.5288 59.0001,-46.5289 66.0001,-46.5288\" stroke=\"black\"/>\n",
       "</g>\n",
       "</g>\n",
       "</svg>"
      ],
      "text/plain": [
       "<IPython.core.display.SVG object>"
      ]
     },
     "execution_count": 6,
     "metadata": {},
     "output_type": "execute_result"
    }
   ],
   "source": [
    "# -------------------- Base Model --------------------------\n",
    "\n",
    "base_model = resnet_emb(input_shape)\n",
    "base_model.load_weights(\"saved_models/old_base.h5\")\n",
    "\n",
    "base_in = Input(shape=in_shape)\n",
    "base_out = base_model(base_in)\n",
    "\n",
    "# -------------------- New Model ---------------------------\n",
    "\n",
    "new_out = Dense(10, activation='softmax', name=\"cat_out\")(base_out)\n",
    "\n",
    "model = Model(inputs=base_in, \n",
    "              outputs=new_out, \n",
    "              name=\"fullnet\")\n",
    "\n",
    "model.compile(loss=\"categorical_crossentropy\", optimizer=Adam(5e-4), metrics=[\"accuracy\"])\n",
    "\n",
    "SVG(model_to_dot(model).create(prog='dot', format='svg'))"
   ]
  },
  {
   "cell_type": "code",
   "execution_count": 11,
   "metadata": {},
   "outputs": [
    {
     "name": "stdout",
     "output_type": "stream",
     "text": [
      "Train on 50000 samples, validate on 10000 samples\n",
      "Epoch 1/1\n",
      "50000/50000 [==============================] - 62s 1ms/step - loss: 0.3654 - acc: 0.9197 - val_loss: 0.4400 - val_acc: 0.8996\n"
     ]
    },
    {
     "data": {
      "text/plain": [
       "<keras.callbacks.History at 0x7fda94698ac8>"
      ]
     },
     "execution_count": 11,
     "metadata": {},
     "output_type": "execute_result"
    }
   ],
   "source": [
    "model.fit(x_train, y_train,\n",
    "          validation_data=(x_test, y_test),\n",
    "          epochs=1, \n",
    "          batch_size=32,\n",
    "          verbose=1)"
   ]
  },
  {
   "cell_type": "code",
   "execution_count": 12,
   "metadata": {},
   "outputs": [],
   "source": [
    "art_model = KerasClassifier(clip_values=(0, 1.), model=model, use_logits=False)\n",
    "attack = ProjectedGradientDescent(art_model, norm=2, eps=5, random_eps=True, eps_step=0.8, max_iter=6, batch_size=16)\n",
    "\n",
    "adv_test = attack.generate(x_test[:10])\n",
    "\n",
    "restrict_cpu()"
   ]
  },
  {
   "cell_type": "code",
   "execution_count": 13,
   "metadata": {},
   "outputs": [],
   "source": [
    "def adv_batch_generator(X, Y, batch_size = 64):\n",
    "    indices = np.arange(len(X)) \n",
    "    batch=[]\n",
    "    while True:\n",
    "            # it might be a good idea to shuffle your data before each epoch\n",
    "            np.random.shuffle(indices) \n",
    "            for i in indices:\n",
    "                batch.append(i)\n",
    "                if len(batch)==batch_size:\n",
    "                    adv_x = X[batch]\n",
    "                    adv_x[:64] = attack.generate(adv_x[:64])\n",
    "                    yield adv_x, Y[batch]\n",
    "                    batch=[]\n",
    "\n",
    "train_generator = adv_batch_generator(x_train, y_train, batch_size = 128)"
   ]
  },
  {
   "cell_type": "code",
   "execution_count": 10,
   "metadata": {},
   "outputs": [],
   "source": [
    "'''\n",
    "temp = np.copy(attack.classifier._model.layers[1].layers[7].get_weights()[0])\n",
    "\n",
    "batch = train_generator.__next__()\n",
    "    \n",
    "loss = model.train_on_batch(batch[0], batch[1])\n",
    "\n",
    "(temp == attack.classifier._model.layers[1].layers[7].get_weights()[0]).sum()\n",
    "'''\n",
    "None"
   ]
  },
  {
   "cell_type": "code",
   "execution_count": 41,
   "metadata": {},
   "outputs": [],
   "source": [
    "for i, layer in enumerate(model.layers[1].layers[:-7]):\n",
    "    layer.trainable = False\n",
    "    \n",
    "model.compile(loss=\"categorical_crossentropy\", optimizer=Adam(5e-4), metrics=[\"accuracy\"])"
   ]
  },
  {
   "cell_type": "code",
   "execution_count": 15,
   "metadata": {},
   "outputs": [
    {
     "data": {
      "text/plain": [
       "['loss', 'acc']"
      ]
     },
     "execution_count": 15,
     "metadata": {},
     "output_type": "execute_result"
    }
   ],
   "source": [
    "model.metrics_names"
   ]
  },
  {
   "cell_type": "code",
   "execution_count": 14,
   "metadata": {},
   "outputs": [
    {
     "name": "stdout",
     "output_type": "stream",
     "text": [
      "Starting training process!\n",
      "-------------------------------------\n",
      "\n",
      " ------------- \n",
      "\n",
      "[250] Time for 250 iterations: 2.0 mins, Train Loss: (1.8476074, 0.5565625)\n",
      "\n",
      " ------------- \n",
      "\n",
      "[500] Time for 500 iterations: 4.0 mins, Train Loss: (1.6314021, 0.54225)\n",
      "\n",
      " ------------- \n",
      "\n",
      "[750] Time for 750 iterations: 6.1 mins, Train Loss: (1.5711886, 0.5487813)\n",
      "\n",
      " ------------- \n",
      "\n",
      "[1000] Time for 1000 iterations: 8.2 mins, Train Loss: (1.4277153, 0.5833125)\n",
      "\n",
      " ------------- \n",
      "\n",
      "[1250] Time for 1250 iterations: 10.2 mins, Train Loss: (1.3752751, 0.589875)\n",
      "\n",
      " ------------- \n",
      "\n",
      "[1500] Time for 1500 iterations: 12.2 mins, Train Loss: (1.3297795, 0.5929375)\n",
      "\n",
      " ------------- \n",
      "\n",
      "[1750] Time for 1750 iterations: 14.3 mins, Train Loss: (1.2695773, 0.6145313)\n",
      "\n",
      " ------------- \n",
      "\n",
      "[2000] Time for 2000 iterations: 16.4 mins, Train Loss: (1.2271535, 0.62709373)\n",
      "\n",
      " ------------- \n",
      "\n",
      "[2250] Time for 2250 iterations: 18.4 mins, Train Loss: (1.2180816, 0.62771875)\n",
      "\n",
      " ------------- \n",
      "\n",
      "[2500] Time for 2500 iterations: 20.5 mins, Train Loss: (1.1948155, 0.63240623)\n",
      "\n",
      " ------------- \n",
      "\n",
      "[2750] Time for 2750 iterations: 22.7 mins, Train Loss: (1.1689087, 0.64346874)\n",
      "\n",
      " ------------- \n",
      "\n",
      "[3000] Time for 3000 iterations: 24.8 mins, Train Loss: (1.1910928, 0.62709373)\n",
      "\n",
      " ------------- \n",
      "\n",
      "[3250] Time for 3250 iterations: 26.9 mins, Train Loss: (1.1826596, 0.6279687)\n",
      "\n",
      " ------------- \n",
      "\n",
      "[3500] Time for 3500 iterations: 28.9 mins, Train Loss: (1.1272403, 0.6466875)\n",
      "\n",
      " ------------- \n",
      "\n",
      "[3750] Time for 3750 iterations: 31.1 mins, Train Loss: (1.0865033, 0.65453124)\n",
      "\n",
      " ------------- \n",
      "\n",
      "[4000] Time for 4000 iterations: 33.1 mins, Train Loss: (1.0586818, 0.66328126)\n",
      "\n",
      " ------------- \n",
      "\n",
      "[4250] Time for 4250 iterations: 35.4 mins, Train Loss: (1.063726, 0.65375)\n",
      "\n",
      " ------------- \n",
      "\n",
      "[4500] Time for 4500 iterations: 37.5 mins, Train Loss: (1.0175056, 0.66775)\n",
      "\n",
      " ------------- \n",
      "\n",
      "[4750] Time for 4750 iterations: 39.5 mins, Train Loss: (0.99320203, 0.6756875)\n",
      "\n",
      " ------------- \n",
      "\n",
      "[5000] Time for 5000 iterations: 41.5 mins, Train Loss: (1.0043515, 0.6694375)\n",
      "\n",
      " ------------- \n",
      "\n",
      "[5250] Time for 5250 iterations: 43.7 mins, Train Loss: (1.0237612, 0.6655625)\n",
      "\n",
      " ------------- \n",
      "\n",
      "[5500] Time for 5500 iterations: 45.8 mins, Train Loss: (0.97709453, 0.68328124)\n",
      "\n",
      " ------------- \n",
      "\n",
      "[5750] Time for 5750 iterations: 48.0 mins, Train Loss: (0.94100356, 0.69315624)\n",
      "\n",
      " ------------- \n",
      "\n",
      "[6000] Time for 6000 iterations: 50.2 mins, Train Loss: (0.9147509, 0.70290625)\n",
      "\n",
      " ------------- \n",
      "\n",
      "[6250] Time for 6250 iterations: 52.3 mins, Train Loss: (0.954434, 0.6940625)\n",
      "\n",
      " ------------- \n",
      "\n",
      "[6500] Time for 6500 iterations: 54.4 mins, Train Loss: (0.9042781, 0.7079375)\n",
      "\n",
      " ------------- \n",
      "\n",
      "[6750] Time for 6750 iterations: 56.6 mins, Train Loss: (0.8722665, 0.723875)\n",
      "\n",
      " ------------- \n",
      "\n",
      "[7000] Time for 7000 iterations: 58.7 mins, Train Loss: (0.9266356, 0.7025313)\n",
      "\n",
      " ------------- \n",
      "\n",
      "[7250] Time for 7250 iterations: 60.9 mins, Train Loss: (0.8944597, 0.71428126)\n",
      "\n",
      " ------------- \n",
      "\n",
      "[7500] Time for 7500 iterations: 63.0 mins, Train Loss: (0.8645474, 0.7250937)\n",
      "\n",
      " ------------- \n",
      "\n",
      "[7750] Time for 7750 iterations: 65.2 mins, Train Loss: (0.9160143, 0.7065)\n",
      "\n",
      " ------------- \n",
      "\n",
      "[8000] Time for 8000 iterations: 67.4 mins, Train Loss: (0.8985689, 0.716625)\n",
      "\n",
      " ------------- \n",
      "\n",
      "[8250] Time for 8250 iterations: 69.5 mins, Train Loss: (0.820895, 0.7404063)\n",
      "\n",
      " ------------- \n",
      "\n",
      "[8500] Time for 8500 iterations: 71.6 mins, Train Loss: (0.7945742, 0.749125)\n",
      "\n",
      " ------------- \n",
      "\n",
      "[8750] Time for 8750 iterations: 73.8 mins, Train Loss: (0.813037, 0.743625)\n",
      "\n",
      " ------------- \n",
      "\n",
      "[9000] Time for 9000 iterations: 75.9 mins, Train Loss: (0.78583753, 0.7510625)\n",
      "\n",
      " ------------- \n",
      "\n",
      "[9250] Time for 9250 iterations: 78.1 mins, Train Loss: (0.7964779, 0.74715626)\n",
      "\n",
      " ------------- \n",
      "\n",
      "[9500] Time for 9500 iterations: 80.3 mins, Train Loss: (0.7483467, 0.7670938)\n",
      "\n",
      " ------------- \n",
      "\n",
      "[9750] Time for 9750 iterations: 82.4 mins, Train Loss: (0.748745, 0.7694687)\n",
      "\n",
      " ------------- \n",
      "\n",
      "[10000] Time for 10000 iterations: 84.6 mins, Train Loss: (0.7714729, 0.75534374)\n",
      "\n",
      " ------------- \n",
      "\n",
      "[10250] Time for 10250 iterations: 86.7 mins, Train Loss: (0.78573126, 0.751875)\n",
      "\n",
      " ------------- \n",
      "\n",
      "[10500] Time for 10500 iterations: 88.9 mins, Train Loss: (0.7392569, 0.7710937)\n",
      "\n",
      " ------------- \n",
      "\n",
      "[10750] Time for 10750 iterations: 91.0 mins, Train Loss: (0.7225713, 0.7745)\n",
      "\n",
      " ------------- \n",
      "\n",
      "[11000] Time for 11000 iterations: 93.2 mins, Train Loss: (0.745536, 0.7659063)\n",
      "\n",
      " ------------- \n",
      "\n",
      "[11250] Time for 11250 iterations: 95.3 mins, Train Loss: (0.74007106, 0.77203125)\n",
      "\n",
      " ------------- \n",
      "\n",
      "[11500] Time for 11500 iterations: 97.5 mins, Train Loss: (0.7357506, 0.76815623)\n",
      "\n",
      " ------------- \n",
      "\n",
      "[11750] Time for 11750 iterations: 99.6 mins, Train Loss: (0.75741243, 0.7614375)\n",
      "\n",
      " ------------- \n",
      "\n",
      "[12000] Time for 12000 iterations: 101.8 mins, Train Loss: (0.70874786, 0.78046876)\n",
      "\n",
      " ------------- \n",
      "\n",
      "[12250] Time for 12250 iterations: 103.9 mins, Train Loss: (0.7095106, 0.7799375)\n",
      "\n",
      " ------------- \n",
      "\n",
      "[12500] Time for 12500 iterations: 106.0 mins, Train Loss: (0.69073, 0.78525)\n",
      "\n",
      " ------------- \n",
      "\n",
      "[12750] Time for 12750 iterations: 108.2 mins, Train Loss: (0.71015257, 0.77721876)\n",
      "\n",
      " ------------- \n",
      "\n",
      "[13000] Time for 13000 iterations: 110.4 mins, Train Loss: (0.68310094, 0.7895)\n",
      "\n",
      " ------------- \n",
      "\n",
      "[13250] Time for 13250 iterations: 112.5 mins, Train Loss: (0.7004193, 0.78128123)\n",
      "\n",
      " ------------- \n",
      "\n",
      "[13500] Time for 13500 iterations: 114.6 mins, Train Loss: (0.71824855, 0.7745)\n",
      "\n",
      " ------------- \n",
      "\n",
      "[13750] Time for 13750 iterations: 116.7 mins, Train Loss: (0.6868097, 0.7887812)\n",
      "\n",
      " ------------- \n",
      "\n",
      "[14000] Time for 14000 iterations: 118.9 mins, Train Loss: (0.68716455, 0.78665626)\n",
      "\n",
      " ------------- \n",
      "\n",
      "[14250] Time for 14250 iterations: 121.1 mins, Train Loss: (0.67006993, 0.79478127)\n",
      "\n",
      " ------------- \n",
      "\n",
      "[14500] Time for 14500 iterations: 123.2 mins, Train Loss: (0.67781734, 0.7904375)\n",
      "\n",
      " ------------- \n",
      "\n",
      "[14750] Time for 14750 iterations: 125.3 mins, Train Loss: (0.6893976, 0.78490627)\n",
      "\n",
      " ------------- \n",
      "\n",
      "[15000] Time for 15000 iterations: 127.5 mins, Train Loss: (0.6495853, 0.80153126)\n"
     ]
    }
   ],
   "source": [
    "# Hyper parameters\n",
    "\n",
    "#K.set_value(adv_model.optimizer.lr, 1e-8)\n",
    "\n",
    "evaluate_every = 250 # interval for evaluating on one-shot tasks\n",
    "n_iter = 15000 # No. of training iterations\n",
    "n_val = 250 # how many one-shot tasks to validate on\n",
    "n_iteration=0\n",
    "\n",
    "loss_list = []\n",
    "cat_vals = []\n",
    "acc_vals = []\n",
    "\n",
    "print(\"Starting training process!\")\n",
    "print(\"-------------------------------------\")\n",
    "\n",
    "t_start = time.time()\n",
    "\n",
    "for i in range(1, n_iter+1):\n",
    "    \n",
    "    batch = train_generator.__next__()\n",
    "    \n",
    "    loss = model.train_on_batch(batch[0], batch[1])\n",
    "    \n",
    "    cat_vals.append(loss[0])\n",
    "    acc_vals.append(loss[1])\n",
    "    \n",
    "    n_iteration += 1\n",
    "    \n",
    "    if i % 8000 == 0:\n",
    "        K.set_value(model.optimizer.lr, K.get_value(model.optimizer.lr)/2.0)\n",
    "    \n",
    "    if i % evaluate_every == 0:\n",
    "        ploss = (np.mean(cat_vals), np.mean(acc_vals))\n",
    "        loss_list.append(ploss)\n",
    "        cat_vals = []\n",
    "        acc_vals = []\n",
    "        print(\"\\n ------------- \\n\")\n",
    "        print(\"[{3}] Time for {0} iterations: {1:.1f} mins, Train Loss: {2}\".format(i, (time.time()-t_start)/60.0,ploss,n_iteration))"
   ]
  },
  {
   "cell_type": "code",
   "execution_count": 12,
   "metadata": {},
   "outputs": [
    {
     "name": "stdout",
     "output_type": "stream",
     "text": [
      "Base images:\n",
      "loss 0.5240786637306213\n",
      "acc 0.8696\n",
      "\n",
      "Adv images:\n",
      "loss 1.2284334247112274\n",
      "acc 0.6005\n"
     ]
    }
   ],
   "source": [
    "eval_loss = model.evaluate(x_test, y_test, verbose=0)\n",
    "\n",
    "print(\"Base images:\")\n",
    "for i, name in enumerate(model.metrics_names):\n",
    "    print(name, eval_loss[i])\n",
    "    \n",
    "losses = []\n",
    "accs = []\n",
    "\n",
    "\n",
    "for i in range(0, 8000, 32):\n",
    "    adv_test = attack.generate(x_test[i:i+32])\n",
    "    eval_loss = model.evaluate(adv_test, y_test[i:i+32], verbose=0)\n",
    "    losses.append(eval_loss[0])\n",
    "    accs.append(eval_loss[1])\n",
    "\n",
    "print(\"\\nAdv images:\")\n",
    "print('loss', np.mean(losses))\n",
    "print('acc', np.mean(accs))"
   ]
  },
  {
   "cell_type": "code",
   "execution_count": 42,
   "metadata": {},
   "outputs": [
    {
     "name": "stdout",
     "output_type": "stream",
     "text": [
      "Base images:\n",
      "loss 0.5240786637306213\n",
      "acc 0.8696\n",
      "\n",
      "Adv images:\n",
      "loss 3.0347892313599587\n",
      "acc 0.46225\n"
     ]
    }
   ],
   "source": [
    "eval_loss = model.evaluate(x_test, y_test, verbose=0)\n",
    "\n",
    "print(\"Base images:\")\n",
    "for i, name in enumerate(model.metrics_names):\n",
    "    print(name, eval_loss[i])\n",
    "    \n",
    "losses = []\n",
    "accs = []\n",
    "\n",
    "\n",
    "for i in range(0, 8000, 32):\n",
    "    adv_test = attack.generate(x_test[i:i+32])\n",
    "    eval_loss = model.evaluate(adv_test, y_test[i:i+32], verbose=0)\n",
    "    losses.append(eval_loss[0])\n",
    "    accs.append(eval_loss[1])\n",
    "\n",
    "print(\"\\nAdv images:\")\n",
    "print('loss', np.mean(losses))\n",
    "print('acc', np.mean(accs))"
   ]
  },
  {
   "cell_type": "code",
   "execution_count": 41,
   "metadata": {},
   "outputs": [
    {
     "name": "stdout",
     "output_type": "stream",
     "text": [
      "0.006197215156541669\n",
      "0.006197243855823749\n",
      "0.0061972067740091435\n",
      "0.006197201702287278\n",
      "0.006197222693584718\n",
      "0.006197235302991689\n",
      "0.00619720735373796\n",
      "0.006197215513875389\n",
      "0.006197225669063938\n",
      "0.0061972143298269725\n",
      "0.006197225178481423\n",
      "0.006197242504137799\n",
      "0.006197238739406758\n",
      "0.006197225144388643\n",
      "0.006197228389528877\n",
      "0.006197224125079469\n",
      "0.0061972182416762025\n",
      "0.0061972101946314575\n",
      "0.00619723100151571\n",
      "0.006197212628345494\n",
      "0.006197213144013635\n",
      "0.00619723060904374\n",
      "0.006197242732787031\n",
      "0.006197213891473591\n",
      "0.006197218991405546\n",
      "0.006197187412586909\n",
      "0.0061972341181269425\n",
      "0.006197247351868629\n",
      "0.006197242019843722\n",
      "0.006197218416101002\n",
      "0.006197206832209025\n",
      "0.006197248756918049\n"
     ]
    }
   ],
   "source": [
    "adv_test = attack.generate(x_test[:128])\n",
    "\n",
    "for i in range(0, 128, 4):\n",
    "    print(norm(adv_test[i] - x_test[i]))"
   ]
  },
  {
   "cell_type": "code",
   "execution_count": 39,
   "metadata": {},
   "outputs": [],
   "source": [
    "attack = ProjectedGradientDescent(art_model, norm=2, eps=2, random_eps=True, eps_step=0.2, max_iter=15, batch_size=16)"
   ]
  },
  {
   "cell_type": "code",
   "execution_count": 31,
   "metadata": {},
   "outputs": [
    {
     "name": "stdout",
     "output_type": "stream",
     "text": [
      "1.9999999290232593\n"
     ]
    },
    {
     "data": {
      "image/png": "[encoded data removed]",
      "text/plain": [
       "<Figure size 432x288 with 1 Axes>"
      ]
     },
     "metadata": {
      "needs_background": "light"
     },
     "output_type": "display_data"
    },
    {
     "name": "stdout",
     "output_type": "stream",
     "text": [
      "1.9999999106637287\n"
     ]
    },
    {
     "data": {
      "image/png": "[encoded data removed]",
      "text/plain": [
       "<Figure size 432x288 with 1 Axes>"
      ]
     },
     "metadata": {
      "needs_background": "light"
     },
     "output_type": "display_data"
    },
    {
     "name": "stdout",
     "output_type": "stream",
     "text": [
      "1.9999998988015772\n"
     ]
    },
    {
     "data": {
      "image/png": "[encoded data removed]",
      "text/plain": [
       "<Figure size 432x288 with 1 Axes>"
      ]
     },
     "metadata": {
      "needs_background": "light"
     },
     "output_type": "display_data"
    },
    {
     "name": "stdout",
     "output_type": "stream",
     "text": [
      "1.9999999060020972\n"
     ]
    },
    {
     "data": {
      "image/png": "[encoded data removed]",
      "text/plain": [
       "<Figure size 432x288 with 1 Axes>"
      ]
     },
     "metadata": {
      "needs_background": "light"
     },
     "output_type": "display_data"
    },
    {
     "name": "stdout",
     "output_type": "stream",
     "text": [
      "1.9999998892417459\n"
     ]
    },
    {
     "data": {
      "image/png": "[encoded data removed]",
      "text/plain": [
       "<Figure size 432x288 with 1 Axes>"
      ]
     },
     "metadata": {
      "needs_background": "light"
     },
     "output_type": "display_data"
    },
    {
     "name": "stdout",
     "output_type": "stream",
     "text": [
      "1.9999999216215256\n"
     ]
    },
    {
     "data": {
      "image/png": "[encoded data removed]",
      "text/plain": [
       "<Figure size 432x288 with 1 Axes>"
      ]
     },
     "metadata": {
      "needs_background": "light"
     },
     "output_type": "display_data"
    },
    {
     "name": "stdout",
     "output_type": "stream",
     "text": [
      "1.999999903680686\n"
     ]
    },
    {
     "data": {
      "image/png": "[encoded data removed]",
      "text/plain": [
       "<Figure size 432x288 with 1 Axes>"
      ]
     },
     "metadata": {
      "needs_background": "light"
     },
     "output_type": "display_data"
    },
    {
     "name": "stdout",
     "output_type": "stream",
     "text": [
      "1.9999998954695075\n"
     ]
    },
    {
     "data": {
      "image/png": "[encoded data removed]",
      "text/plain": [
       "<Figure size 432x288 with 1 Axes>"
      ]
     },
     "metadata": {
      "needs_background": "light"
     },
     "output_type": "display_data"
    },
    {
     "name": "stdout",
     "output_type": "stream",
     "text": [
      "1.9999999032240767\n"
     ]
    },
    {
     "data": {
      "image/png": "[encoded data removed]",
      "text/plain": [
       "<Figure size 432x288 with 1 Axes>"
      ]
     },
     "metadata": {
      "needs_background": "light"
     },
     "output_type": "display_data"
    },
    {
     "name": "stdout",
     "output_type": "stream",
     "text": [
      "1.9999999166826508\n"
     ]
    },
    {
     "data": {
      "image/png": "[encoded data removed]",
      "text/plain": [
       "<Figure size 432x288 with 1 Axes>"
      ]
     },
     "metadata": {
      "needs_background": "light"
     },
     "output_type": "display_data"
    }
   ],
   "source": [
    "test = attack.generate(x_test[:128])\n",
    "\n",
    "for i in range(10):\n",
    "    print(norm(x_test[i] - test[i]))\n",
    "    plt.imshow(test[i])\n",
    "    plt.show()"
   ]
  },
  {
   "cell_type": "code",
   "execution_count": 23,
   "metadata": {},
   "outputs": [
    {
     "name": "stdout",
     "output_type": "stream",
     "text": [
      "5.204604960601356\n",
      "5.494351031482995\n",
      "5.103363795289662\n",
      "5.05073533569002\n",
      "5.2633554792717225\n",
      "5.756252286114137\n",
      "4.955649275104176\n",
      "5.732947268842704\n",
      "5.174839179720812\n",
      "5.063101119768573\n",
      "5.8821484900622325\n",
      "4.910766770076563\n",
      "5.287793382002518\n",
      "4.748030904769984\n",
      "5.858552277972406\n",
      "5.299062441451149\n",
      "5.3373449430114555\n",
      "5.553007123335353\n",
      "5.094175075161047\n",
      "5.241378246558858\n",
      "5.029332814108348\n",
      "5.289005006269352\n",
      "6.235220130077853\n",
      "6.190959098928997\n",
      "6.1654507085886685\n",
      "5.3017782887559495\n",
      "5.901200251036498\n",
      "5.462805809907195\n",
      "5.201209759155052\n",
      "5.361814386889475\n",
      "5.532402915766574\n",
      "4.975001209350393\n"
     ]
    }
   ],
   "source": [
    "\n",
    "\n",
    "for i in range(0, 128, 4):\n",
    "    print(norm(x_test[i] - test[i]))"
   ]
  },
  {
   "cell_type": "code",
   "execution_count": null,
   "metadata": {},
   "outputs": [],
   "source": [
    "dist_matrix = np.zeros(shape=(10, 10))\n",
    "\n",
    "for i in range(10):\n",
    "    start = time.time()\n",
    "    outs_1 = pen_output([dataset_train[i]])[0]\n",
    "    print(i)\n",
    "    for j in range(10):\n",
    "        outs_2 = pen_output([attack.generate(dataset_train[j][:2000])])[0]\n",
    "        norms = []\n",
    "        for k in range(1000):\n",
    "            norms.append(norm(outs_1[\n",
    "                np.random.randint(0, 5000)] - outs_2[\n",
    "                np.random.randint(0, 2000)]))\n",
    "        dist_matrix[i][j] = np.mean(norms)\n",
    "    end = time.time()\n",
    "    print(end-start)\n",
    "\n",
    "print(dist_matrix.round(3))\n",
    "\n",
    "plt.imshow(dist_matrix / dist_matrix.max(), cmap=\"Greys\")\n",
    "plt.show()"
   ]
  },
  {
   "cell_type": "code",
   "execution_count": null,
   "metadata": {},
   "outputs": [],
   "source": []
  },
  {
   "cell_type": "code",
   "execution_count": null,
   "metadata": {},
   "outputs": [],
   "source": []
  },
  {
   "cell_type": "code",
   "execution_count": null,
   "metadata": {},
   "outputs": [],
   "source": []
  },
  {
   "cell_type": "code",
   "execution_count": null,
   "metadata": {},
   "outputs": [],
   "source": []
  }
 ],
 "metadata": {
  "kernelspec": {
   "display_name": "Python 3",
   "language": "python",
   "name": "python3"
  },
  "language_info": {
   "codemirror_mode": {
    "name": "ipython",
    "version": 3
   },
   "file_extension": ".py",
   "mimetype": "text/x-python",
   "name": "python",
   "nbconvert_exporter": "python",
   "pygments_lexer": "ipython3",
   "version": "3.6.8"
  }
 },
 "nbformat": 4,
 "nbformat_minor": 2
}
