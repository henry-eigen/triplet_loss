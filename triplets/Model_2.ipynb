{
 "cells": [
  {
   "cell_type": "code",
   "execution_count": 1,
   "metadata": {},
   "outputs": [],
   "source": [
    "import sys\n",
    "sys.path.append('..')\n",
    "\n",
    "import os\n",
    "import psutil\n",
    "os.environ[\"CUDA_VISIBLE_DEVICES\"]=\"1\"\n",
    "\n",
    "import numpy as np\n",
    "np.random.seed(0)"
   ]
  },
  {
   "cell_type": "code",
   "execution_count": 2,
   "metadata": {},
   "outputs": [
    {
     "name": "stderr",
     "output_type": "stream",
     "text": [
      "Using TensorFlow backend.\n"
     ]
    }
   ],
   "source": [
    "import matplotlib.pyplot as plt\n",
    "from pylab import *\n",
    "from keras.models import Sequential\n",
    "from keras import optimizers\n",
    "from keras.models import load_model\n",
    "from keras.optimizers import Adam, SGD\n",
    "from keras.layers import Conv2D, ZeroPadding2D, Activation, Input, concatenate \n",
    "from keras.layers import Dropout, Convolution2D, AveragePooling2D\n",
    "from keras.models import Model\n",
    "from keras.datasets import cifar10\n",
    "\n",
    "from keras.layers.normalization import BatchNormalization\n",
    "from keras.layers.pooling import MaxPooling2D\n",
    "from keras.layers.merge import Concatenate\n",
    "from keras.layers.core import Lambda, Flatten, Dense\n",
    "from keras.initializers import glorot_uniform,he_uniform\n",
    "\n",
    "from keras.preprocessing.image import ImageDataGenerator\n",
    "from keras.engine.topology import Layer\n",
    "from keras.regularizers import l2\n",
    "from keras import backend as K\n",
    "\n",
    "from IPython.display import SVG\n",
    "from keras.utils.vis_utils import model_to_dot\n",
    "\n",
    "from custom_lib.triplet_utils import buildDataSet, build_model\n",
    "from custom_lib.triplet_utils import get_batch_hard, compute_probs\n",
    "from custom_lib.triplet_utils import add_top, remove_top\n",
    "\n",
    "from art.classifiers import KerasClassifier\n",
    "from art.attacks.projected_gradient_descent import ProjectedGradientDescent\n",
    "from art.attacks.iterative_method import BasicIterativeMethod\n",
    "from art.defences.adversarial_trainer import AdversarialTrainer\n",
    "from art.attacks.fast_gradient import FastGradientMethod\n",
    "\n",
    "from custom_lib.build_resnet import resnet_v1, new_emb"
   ]
  },
  {
   "cell_type": "code",
   "execution_count": 23,
   "metadata": {},
   "outputs": [],
   "source": [
    "from custom_lib.triplet_loss import batch_hard_triplet_loss\n",
    "from custom_lib.triplet_loss import batch_all_triplet_loss\n",
    "from custom_lib.triplet_loss import mixed_loss\n",
    "from tensorflow.contrib.losses import metric_learning\n",
    "\n",
    "def keras_batch_hard_triplet_loss(labels, y_pred):\n",
    "    labels = K.flatten(labels)\n",
    "    return batch_hard_triplet_loss(labels, y_pred, margin = 0.7)\n",
    "\n",
    "def keras_batch_all_triplet_loss(labels, y_pred):\n",
    "    labels = K.flatten(labels)\n",
    "    return batch_all_triplet_loss(labels, y_pred, margin = 0.7)\n",
    "\n",
    "def keras_semi_hard_loss(labels, y_pred):\n",
    "    labels = K.flatten(labels)\n",
    "    return metric_learning.triplet_semihard_loss(labels, y_pred, margin=0.7)\n",
    "\n",
    "def keras_mixed_loss(labels, y_pred):\n",
    "    labels = K.flatten(labels)\n",
    "    return mixed_loss(labels, y_pred, margin = 0.7, ratio=0.5)"
   ]
  },
  {
   "cell_type": "code",
   "execution_count": 4,
   "metadata": {},
   "outputs": [],
   "source": [
    "def restrict_cpu():\n",
    "    p = psutil.Process()\n",
    "\n",
    "    for i in p.threads():\n",
    "        temp = psutil.Process(i.id)\n",
    "\n",
    "        temp.cpu_affinity([i+4 for i in range(4)])"
   ]
  },
  {
   "cell_type": "code",
   "execution_count": 5,
   "metadata": {},
   "outputs": [],
   "source": [
    "from keras.utils import to_categorical\n",
    "\n",
    "(x_train, y_train), (x_test, y_test) = cifar10.load_data()\n",
    "\n",
    "x_train = x_train / 255.\n",
    "x_test = x_test / 255.\n",
    "\n",
    "val_train = to_categorical(y_train, 10)\n",
    "val_test = to_categorical(y_test, 10)"
   ]
  },
  {
   "cell_type": "code",
   "execution_count": 6,
   "metadata": {},
   "outputs": [],
   "source": [
    "learning_rate = 5e-6\n",
    "batch_size=64\n",
    "epochs=10\n",
    "\n",
    "nb_classes = 10\n",
    "img_rows, img_cols = 32, 32\n",
    "input_shape = (img_rows, img_cols, 3)\n",
    "in_shape = input_shape\n",
    "\n",
    "#dataset_train, dataset_test, x_train_origin, y_train_origin, x_test_origin, y_test_origin = buildDataSet(cifar=True)"
   ]
  },
  {
   "cell_type": "code",
   "execution_count": 7,
   "metadata": {},
   "outputs": [],
   "source": [
    "'''\n",
    "temp = resnet_v1(input_shape)\n",
    "\n",
    "temp.load_weights(\"saved_models/resnet.h5\")\n",
    "temp.compile(optimizer=Adam(lr=5e-4), loss='categorical_crossentropy', metrics=[\"accuracy\"])\n",
    "\n",
    "base_model = new_emb(input_shape)\n",
    "\n",
    "for i, layer in enumerate(base_model.layers):\n",
    "    layer.set_weights(temp.layers[i].get_weights())\n",
    "    \n",
    "base_model.save_weights(\"saved_models/new_base.h5\")\n",
    "'''\n",
    "None"
   ]
  },
  {
   "cell_type": "code",
   "execution_count": 8,
   "metadata": {},
   "outputs": [
    {
     "name": "stdout",
     "output_type": "stream",
     "text": [
      "WARNING:tensorflow:From /home/heigen/.conda/envs/cenv/lib/python3.6/site-packages/tensorflow/python/framework/op_def_library.py:263: colocate_with (from tensorflow.python.framework.ops) is deprecated and will be removed in a future version.\n",
      "Instructions for updating:\n",
      "Colocations handled automatically by placer.\n",
      "WARNING:tensorflow:From /home/heigen/.conda/envs/cenv/lib/python3.6/site-packages/keras/backend/tensorflow_backend.py:3445: calling dropout (from tensorflow.python.ops.nn_ops) with keep_prob is deprecated and will be removed in a future version.\n",
      "Instructions for updating:\n",
      "Please use `rate` instead of `keep_prob`. Rate should be set to `rate = 1 - keep_prob`.\n"
     ]
    },
    {
     "data": {
      "image/svg+xml": [
       "<svg height=\"337pt\" viewBox=\"0.00 0.00 385.00 337.00\" width=\"385pt\" xmlns=\"http://www.w3.org/2000/svg\" xmlns:xlink=\"http://www.w3.org/1999/xlink\">\n",
       "<g class=\"graph\" id=\"graph0\" transform=\"scale(1 1) rotate(0) translate(4 333)\">\n",
       "<title>G</title>\n",
       "<polygon fill=\"white\" points=\"-4,4 -4,-333 381,-333 381,4 -4,4\" stroke=\"none\"/>\n",
       "<!-- 140664657822664 -->\n",
       "<g class=\"node\" id=\"node1\"><title>140664657822664</title>\n",
       "<polygon fill=\"none\" points=\"94,-292.5 94,-328.5 219,-328.5 219,-292.5 94,-292.5\" stroke=\"black\"/>\n",
       "<text font-family=\"Times,serif\" font-size=\"14.00\" text-anchor=\"middle\" x=\"156.5\" y=\"-306.8\">input_2: InputLayer</text>\n",
       "</g>\n",
       "<!-- 140659445348616 -->\n",
       "<g class=\"node\" id=\"node2\"><title>140659445348616</title>\n",
       "<polygon fill=\"none\" points=\"102.5,-219.5 102.5,-255.5 210.5,-255.5 210.5,-219.5 102.5,-219.5\" stroke=\"black\"/>\n",
       "<text font-family=\"Times,serif\" font-size=\"14.00\" text-anchor=\"middle\" x=\"156.5\" y=\"-233.8\">model_1: Model</text>\n",
       "</g>\n",
       "<!-- 140664657822664&#45;&gt;140659445348616 -->\n",
       "<g class=\"edge\" id=\"edge1\"><title>140664657822664-&gt;140659445348616</title>\n",
       "<path d=\"M156.5,-292.313C156.5,-284.289 156.5,-274.547 156.5,-265.569\" fill=\"none\" stroke=\"black\"/>\n",
       "<polygon fill=\"black\" points=\"160,-265.529 156.5,-255.529 153,-265.529 160,-265.529\" stroke=\"black\"/>\n",
       "</g>\n",
       "<!-- 140659444258576 -->\n",
       "<g class=\"node\" id=\"node3\"><title>140659444258576</title>\n",
       "<polygon fill=\"none\" points=\"3.5,-146.5 3.5,-182.5 113.5,-182.5 113.5,-146.5 3.5,-146.5\" stroke=\"black\"/>\n",
       "<text font-family=\"Times,serif\" font-size=\"14.00\" text-anchor=\"middle\" x=\"58.5\" y=\"-160.8\">flatten_1: Flatten</text>\n",
       "</g>\n",
       "<!-- 140659445348616&#45;&gt;140659444258576 -->\n",
       "<g class=\"edge\" id=\"edge2\"><title>140659445348616-&gt;140659444258576</title>\n",
       "<path d=\"M132.777,-219.313C120.017,-210.069 104.108,-198.543 90.2908,-188.532\" fill=\"none\" stroke=\"black\"/>\n",
       "<polygon fill=\"black\" points=\"92.1561,-185.562 82.0046,-182.529 88.0492,-191.23 92.1561,-185.562\" stroke=\"black\"/>\n",
       "</g>\n",
       "<!-- 140657366884080 -->\n",
       "<g class=\"node\" id=\"node4\"><title>140657366884080</title>\n",
       "<polygon fill=\"none\" points=\"132,-146.5 132,-182.5 377,-182.5 377,-146.5 132,-146.5\" stroke=\"black\"/>\n",
       "<text font-family=\"Times,serif\" font-size=\"14.00\" text-anchor=\"middle\" x=\"254.5\" y=\"-160.8\">average_pooling2d_1: AveragePooling2D</text>\n",
       "</g>\n",
       "<!-- 140659445348616&#45;&gt;140657366884080 -->\n",
       "<g class=\"edge\" id=\"edge3\"><title>140659445348616-&gt;140657366884080</title>\n",
       "<path d=\"M180.223,-219.313C192.983,-210.069 208.892,-198.543 222.709,-188.532\" fill=\"none\" stroke=\"black\"/>\n",
       "<polygon fill=\"black\" points=\"224.951,-191.23 230.995,-182.529 220.844,-185.562 224.951,-191.23\" stroke=\"black\"/>\n",
       "</g>\n",
       "<!-- 140659444798016 -->\n",
       "<g class=\"node\" id=\"node5\"><title>140659444798016</title>\n",
       "<polygon fill=\"none\" points=\"7.5,-73.5 7.5,-109.5 109.5,-109.5 109.5,-73.5 7.5,-73.5\" stroke=\"black\"/>\n",
       "<text font-family=\"Times,serif\" font-size=\"14.00\" text-anchor=\"middle\" x=\"58.5\" y=\"-87.8\">dense_1: Dense</text>\n",
       "</g>\n",
       "<!-- 140659444258576&#45;&gt;140659444798016 -->\n",
       "<g class=\"edge\" id=\"edge4\"><title>140659444258576-&gt;140659444798016</title>\n",
       "<path d=\"M58.5,-146.313C58.5,-138.289 58.5,-128.547 58.5,-119.569\" fill=\"none\" stroke=\"black\"/>\n",
       "<polygon fill=\"black\" points=\"62.0001,-119.529 58.5,-109.529 55.0001,-119.529 62.0001,-119.529\" stroke=\"black\"/>\n",
       "</g>\n",
       "<!-- 140657366883912 -->\n",
       "<g class=\"node\" id=\"node6\"><title>140657366883912</title>\n",
       "<polygon fill=\"none\" points=\"199.5,-73.5 199.5,-109.5 309.5,-109.5 309.5,-73.5 199.5,-73.5\" stroke=\"black\"/>\n",
       "<text font-family=\"Times,serif\" font-size=\"14.00\" text-anchor=\"middle\" x=\"254.5\" y=\"-87.8\">flatten_2: Flatten</text>\n",
       "</g>\n",
       "<!-- 140657366884080&#45;&gt;140657366883912 -->\n",
       "<g class=\"edge\" id=\"edge5\"><title>140657366884080-&gt;140657366883912</title>\n",
       "<path d=\"M254.5,-146.313C254.5,-138.289 254.5,-128.547 254.5,-119.569\" fill=\"none\" stroke=\"black\"/>\n",
       "<polygon fill=\"black\" points=\"258,-119.529 254.5,-109.529 251,-119.529 258,-119.529\" stroke=\"black\"/>\n",
       "</g>\n",
       "<!-- 140659444260032 -->\n",
       "<g class=\"node\" id=\"node7\"><title>140659444260032</title>\n",
       "<polygon fill=\"none\" points=\"0,-0.5 0,-36.5 117,-36.5 117,-0.5 0,-0.5\" stroke=\"black\"/>\n",
       "<text font-family=\"Times,serif\" font-size=\"14.00\" text-anchor=\"middle\" x=\"58.5\" y=\"-14.8\">emb_out: Lambda</text>\n",
       "</g>\n",
       "<!-- 140659444798016&#45;&gt;140659444260032 -->\n",
       "<g class=\"edge\" id=\"edge6\"><title>140659444798016-&gt;140659444260032</title>\n",
       "<path d=\"M58.5,-73.3129C58.5,-65.2895 58.5,-55.5475 58.5,-46.5691\" fill=\"none\" stroke=\"black\"/>\n",
       "<polygon fill=\"black\" points=\"62.0001,-46.5288 58.5,-36.5288 55.0001,-46.5289 62.0001,-46.5288\" stroke=\"black\"/>\n",
       "</g>\n",
       "<!-- 140657366884192 -->\n",
       "<g class=\"node\" id=\"node8\"><title>140657366884192</title>\n",
       "<polygon fill=\"none\" points=\"205.5,-0.5 205.5,-36.5 303.5,-36.5 303.5,-0.5 205.5,-0.5\" stroke=\"black\"/>\n",
       "<text font-family=\"Times,serif\" font-size=\"14.00\" text-anchor=\"middle\" x=\"254.5\" y=\"-14.8\">cat_out: Dense</text>\n",
       "</g>\n",
       "<!-- 140657366883912&#45;&gt;140657366884192 -->\n",
       "<g class=\"edge\" id=\"edge7\"><title>140657366883912-&gt;140657366884192</title>\n",
       "<path d=\"M254.5,-73.3129C254.5,-65.2895 254.5,-55.5475 254.5,-46.5691\" fill=\"none\" stroke=\"black\"/>\n",
       "<polygon fill=\"black\" points=\"258,-46.5288 254.5,-36.5288 251,-46.5289 258,-46.5288\" stroke=\"black\"/>\n",
       "</g>\n",
       "</g>\n",
       "</svg>"
      ],
      "text/plain": [
       "<IPython.core.display.SVG object>"
      ]
     },
     "execution_count": 8,
     "metadata": {},
     "output_type": "execute_result"
    }
   ],
   "source": [
    "# -------------------- Base Model --------------------------\n",
    "\n",
    "base_model = new_emb(input_shape)\n",
    "base_model.load_weights(\"saved_models/new_base.h5\")\n",
    "\n",
    "base_in = Input(shape=in_shape)\n",
    "base_out = base_model(base_in)\n",
    "\n",
    "# -------------------- Emb Model ---------------------------\n",
    "\n",
    "emb_branch = Flatten()(base_out)\n",
    "emb_branch = Dense(128, activation='relu', kernel_initializer='he_normal')(emb_branch)\n",
    "emb_branch = Lambda(lambda t: K.l2_normalize(t,axis=-1), name=\"emb_out\")(emb_branch)\n",
    "                                                  \n",
    "# -------------------- Categorical Model -------------------\n",
    "\n",
    "cat_branch = AveragePooling2D(pool_size=8)(base_out)\n",
    "cat_branch = Flatten()(cat_branch)\n",
    "cat_branch = Dense(10, activation='softmax', name=\"cat_out\")(cat_branch)\n",
    "\n",
    "# -------------------- Compile -----------------------------\n",
    "\n",
    "model = Model(inputs=base_in, \n",
    "              outputs=[emb_branch, cat_branch], \n",
    "              name=\"fullnet\")\n",
    "\n",
    "SVG(model_to_dot(model).create(prog='dot', format='svg'))"
   ]
  },
  {
   "cell_type": "code",
   "execution_count": 9,
   "metadata": {},
   "outputs": [],
   "source": [
    "#model.load_weights(\"saved_models/adv_model_2_1.h5\")"
   ]
  },
  {
   "cell_type": "code",
   "execution_count": 24,
   "metadata": {},
   "outputs": [],
   "source": [
    "losses = {\n",
    "    \"emb_out\": keras_mixed_loss,\n",
    "    \"cat_out\": \"categorical_crossentropy\",\n",
    "}\n",
    "\n",
    "lossWeights = {\"emb_out\": 0.65, \"cat_out\": 0.35}\n",
    "\n",
    "model.compile(optimizer=Adam(lr=5e-5), loss=losses, loss_weights=lossWeights, metrics=[\"accuracy\"])"
   ]
  },
  {
   "cell_type": "code",
   "execution_count": 13,
   "metadata": {},
   "outputs": [],
   "source": [
    "b_in = Input(shape=in_shape)\n",
    "b_out = model(b_in)[1]\n",
    "\n",
    "adv_model = Model(inputs=b_in, outputs=b_out)\n",
    "adv_model.compile(loss=\"categorical_crossentropy\", optimizer=Adam(5e-4), metrics=[\"accuracy\"])"
   ]
  },
  {
   "cell_type": "code",
   "execution_count": 12,
   "metadata": {},
   "outputs": [],
   "source": [
    "model.fit(x_train, [y_train, val_train],\n",
    "          validation_data=(x_test, [y_test, val_test]),\n",
    "          epochs=3, \n",
    "          batch_size=32,\n",
    "          verbose=1)"
   ]
  },
  {
   "cell_type": "code",
   "execution_count": 13,
   "metadata": {},
   "outputs": [],
   "source": [
    "#import art.attacks.projected_gradient_descent\n",
    "\n",
    "#from importlib import reload\n",
    "#reload(art.attacks.projected_gradient_descent)"
   ]
  },
  {
   "cell_type": "code",
   "execution_count": 14,
   "metadata": {},
   "outputs": [
    {
     "name": "stdout",
     "output_type": "stream",
     "text": [
      "WARNING:tensorflow:From /home/heigen/.conda/envs/cenv/lib/python3.6/site-packages/keras/backend/tensorflow_backend.py:3298: softmax_cross_entropy_with_logits (from tensorflow.python.ops.nn_ops) is deprecated and will be removed in a future version.\n",
      "Instructions for updating:\n",
      "\n",
      "Future major versions of TensorFlow will allow gradients to flow\n",
      "into the labels input on backprop by default.\n",
      "\n",
      "See `tf.nn.softmax_cross_entropy_with_logits_v2`.\n",
      "\n"
     ]
    }
   ],
   "source": [
    "art_model = KerasClassifier(clip_values=(0, 1.), model=adv_model, use_logits=False)\n",
    "attack = ProjectedGradientDescent(art_model, norm=2, eps=8, random_eps=True, eps_step=0.1, max_iter=5, batch_size=16)\n",
    "\n",
    "adv_test = attack.generate(x_test[:10])\n",
    "\n",
    "restrict_cpu()"
   ]
  },
  {
   "cell_type": "code",
   "execution_count": 15,
   "metadata": {},
   "outputs": [
    {
     "name": "stdout",
     "output_type": "stream",
     "text": [
      "Base images:\n",
      "loss 0.44513707695007326\n",
      "acc 0.8979\n",
      "\n",
      "Adv images:\n",
      "loss 13.068375983357429\n",
      "acc 0.097625\n"
     ]
    }
   ],
   "source": [
    "eval_loss = adv_model.evaluate(x_test, val_test, verbose=0)\n",
    "\n",
    "print(\"Base images:\")\n",
    "for i, name in enumerate(adv_model.metrics_names):\n",
    "    print(name, eval_loss[i])\n",
    "    \n",
    "losses = []\n",
    "accs = []\n",
    "\n",
    "\n",
    "for i in range(0, 8000, 32):\n",
    "    adv_test = attack.generate(x_test[i:i+32])\n",
    "    eval_loss = adv_model.evaluate(adv_test, val_test[i:i+32], verbose=0)\n",
    "    losses.append(eval_loss[0])\n",
    "    accs.append(eval_loss[1])\n",
    "\n",
    "print(\"\\nAdv images:\")\n",
    "print('loss', np.mean(losses))\n",
    "print('acc', np.mean(accs))"
   ]
  },
  {
   "cell_type": "code",
   "execution_count": 25,
   "metadata": {},
   "outputs": [],
   "source": [
    "def batch_generator(X, Y, VAL, batch_size = 64):\n",
    "    indices = np.arange(len(X)) \n",
    "    batch=[]\n",
    "    while True:\n",
    "            # it might be a good idea to shuffle your data before each epoch\n",
    "            np.random.shuffle(indices) \n",
    "            for i in indices:\n",
    "                batch.append(i)\n",
    "                if len(batch)==batch_size:\n",
    "                    adv_x = X[batch]\n",
    "                    adv_x[:48] = attack.generate(adv_x[:48])\n",
    "                    yield adv_x, [Y[batch], VAL[batch]]\n",
    "                    batch=[]\n",
    "\n",
    "train_generator = batch_generator(x_train, y_train, val_train, batch_size = 64)"
   ]
  },
  {
   "cell_type": "code",
   "execution_count": 26,
   "metadata": {},
   "outputs": [],
   "source": [
    "#K.set_value(model.optimizer.lr, 1e-5)"
   ]
  },
  {
   "cell_type": "code",
   "execution_count": 27,
   "metadata": {},
   "outputs": [
    {
     "name": "stdout",
     "output_type": "stream",
     "text": [
      "Starting training process!\n",
      "-------------------------------------\n",
      "\n",
      " ------------- \n",
      "\n",
      "[250] Time for 250 iterations: 2.3 mins, Train Loss: (0.9581433, 0.7001682)\n",
      "\n",
      " ------------- \n",
      "\n",
      "[500] Time for 500 iterations: 4.3 mins, Train Loss: (0.9592888, 0.7001564)\n",
      "\n",
      " ------------- \n",
      "\n",
      "[750] Time for 750 iterations: 6.3 mins, Train Loss: (0.97203356, 0.70015186)\n",
      "\n",
      " ------------- \n",
      "\n",
      "[1000] Time for 1000 iterations: 8.3 mins, Train Loss: (0.9653899, 0.70017123)\n",
      "\n",
      " ------------- \n",
      "\n",
      "[1250] Time for 1250 iterations: 10.2 mins, Train Loss: (0.9628843, 0.70017546)\n",
      "\n",
      " ------------- \n",
      "\n",
      "[1500] Time for 1500 iterations: 12.2 mins, Train Loss: (0.97539115, 0.70016575)\n",
      "\n",
      " ------------- \n",
      "\n",
      "[1750] Time for 1750 iterations: 14.1 mins, Train Loss: (0.9638762, 0.7001509)\n",
      "\n",
      " ------------- \n",
      "\n",
      "[2000] Time for 2000 iterations: 16.1 mins, Train Loss: (0.96149814, 0.700145)\n",
      "\n",
      " ------------- \n",
      "\n",
      "[2250] Time for 2250 iterations: 18.0 mins, Train Loss: (0.98073804, 0.7001445)\n",
      "\n",
      " ------------- \n",
      "\n",
      "[2500] Time for 2500 iterations: 20.0 mins, Train Loss: (0.9623234, 0.7001497)\n",
      "\n",
      " ------------- \n",
      "\n",
      "[2750] Time for 2750 iterations: 21.9 mins, Train Loss: (0.95186776, 0.7001919)\n",
      "\n",
      " ------------- \n",
      "\n",
      "[3000] Time for 3000 iterations: 23.9 mins, Train Loss: (0.96230227, 0.7001746)\n",
      "\n",
      " ------------- \n",
      "\n",
      "[3250] Time for 3250 iterations: 25.9 mins, Train Loss: (0.9549824, 0.70015323)\n",
      "\n",
      " ------------- \n",
      "\n",
      "[3500] Time for 3500 iterations: 27.9 mins, Train Loss: (0.95812166, 0.7001482)\n",
      "\n",
      " ------------- \n",
      "\n",
      "[3750] Time for 3750 iterations: 29.9 mins, Train Loss: (0.9660067, 0.7001492)\n",
      "\n",
      " ------------- \n",
      "\n",
      "[4000] Time for 4000 iterations: 31.9 mins, Train Loss: (0.972273, 0.70015585)\n",
      "\n",
      " ------------- \n",
      "\n",
      "[4250] Time for 4250 iterations: 33.8 mins, Train Loss: (0.9474, 0.70014745)\n",
      "\n",
      " ------------- \n",
      "\n",
      "[4500] Time for 4500 iterations: 35.8 mins, Train Loss: (0.97633946, 0.7001372)\n",
      "\n",
      " ------------- \n",
      "\n",
      "[4750] Time for 4750 iterations: 37.8 mins, Train Loss: (0.9404193, 0.7001373)\n",
      "\n",
      " ------------- \n",
      "\n",
      "[5000] Time for 5000 iterations: 39.8 mins, Train Loss: (0.9726681, 0.700137)\n",
      "\n",
      " ------------- \n",
      "\n",
      "[5250] Time for 5250 iterations: 41.8 mins, Train Loss: (0.94963986, 0.7001351)\n",
      "\n",
      " ------------- \n",
      "\n",
      "[5500] Time for 5500 iterations: 43.8 mins, Train Loss: (0.9547706, 0.70013547)\n",
      "\n",
      " ------------- \n",
      "\n",
      "[5750] Time for 5750 iterations: 45.7 mins, Train Loss: (0.95414555, 0.70013696)\n",
      "\n",
      " ------------- \n",
      "\n",
      "[6000] Time for 6000 iterations: 47.7 mins, Train Loss: (0.9629046, 0.70013696)\n",
      "\n",
      " ------------- \n",
      "\n",
      "[6250] Time for 6250 iterations: 49.7 mins, Train Loss: (0.96039623, 0.7001388)\n",
      "\n",
      " ------------- \n",
      "\n",
      "[6500] Time for 6500 iterations: 51.6 mins, Train Loss: (0.95703334, 0.7001521)\n"
     ]
    },
    {
     "ename": "KeyboardInterrupt",
     "evalue": "",
     "output_type": "error",
     "traceback": [
      "\u001b[0;31m---------------------------------------------------------------------------\u001b[0m",
      "\u001b[0;31mKeyboardInterrupt\u001b[0m                         Traceback (most recent call last)",
      "\u001b[0;32m<ipython-input-27-7052baff5364>\u001b[0m in \u001b[0;36m<module>\u001b[0;34m\u001b[0m\n\u001b[1;32m     16\u001b[0m \u001b[0;32mfor\u001b[0m \u001b[0mi\u001b[0m \u001b[0;32min\u001b[0m \u001b[0mrange\u001b[0m\u001b[0;34m(\u001b[0m\u001b[0;36m1\u001b[0m\u001b[0;34m,\u001b[0m \u001b[0mn_iter\u001b[0m\u001b[0;34m+\u001b[0m\u001b[0;36m1\u001b[0m\u001b[0;34m)\u001b[0m\u001b[0;34m:\u001b[0m\u001b[0;34m\u001b[0m\u001b[0;34m\u001b[0m\u001b[0m\n\u001b[1;32m     17\u001b[0m \u001b[0;34m\u001b[0m\u001b[0m\n\u001b[0;32m---> 18\u001b[0;31m     \u001b[0mbatch\u001b[0m \u001b[0;34m=\u001b[0m \u001b[0mtrain_generator\u001b[0m\u001b[0;34m.\u001b[0m\u001b[0m__next__\u001b[0m\u001b[0;34m(\u001b[0m\u001b[0;34m)\u001b[0m\u001b[0;34m\u001b[0m\u001b[0;34m\u001b[0m\u001b[0m\n\u001b[0m\u001b[1;32m     19\u001b[0m \u001b[0;34m\u001b[0m\u001b[0m\n\u001b[1;32m     20\u001b[0m     \u001b[0mloss\u001b[0m \u001b[0;34m=\u001b[0m \u001b[0mmodel\u001b[0m\u001b[0;34m.\u001b[0m\u001b[0mtrain_on_batch\u001b[0m\u001b[0;34m(\u001b[0m\u001b[0mbatch\u001b[0m\u001b[0;34m[\u001b[0m\u001b[0;36m0\u001b[0m\u001b[0;34m]\u001b[0m\u001b[0;34m,\u001b[0m \u001b[0mbatch\u001b[0m\u001b[0;34m[\u001b[0m\u001b[0;36m1\u001b[0m\u001b[0;34m]\u001b[0m\u001b[0;34m)\u001b[0m\u001b[0;34m\u001b[0m\u001b[0;34m\u001b[0m\u001b[0m\n",
      "\u001b[0;32m<ipython-input-25-6dc76c055999>\u001b[0m in \u001b[0;36mbatch_generator\u001b[0;34m(X, Y, VAL, batch_size)\u001b[0m\n\u001b[1;32m      9\u001b[0m                 \u001b[0;32mif\u001b[0m \u001b[0mlen\u001b[0m\u001b[0;34m(\u001b[0m\u001b[0mbatch\u001b[0m\u001b[0;34m)\u001b[0m\u001b[0;34m==\u001b[0m\u001b[0mbatch_size\u001b[0m\u001b[0;34m:\u001b[0m\u001b[0;34m\u001b[0m\u001b[0;34m\u001b[0m\u001b[0m\n\u001b[1;32m     10\u001b[0m                     \u001b[0madv_x\u001b[0m \u001b[0;34m=\u001b[0m \u001b[0mX\u001b[0m\u001b[0;34m[\u001b[0m\u001b[0mbatch\u001b[0m\u001b[0;34m]\u001b[0m\u001b[0;34m\u001b[0m\u001b[0;34m\u001b[0m\u001b[0m\n\u001b[0;32m---> 11\u001b[0;31m                     \u001b[0madv_x\u001b[0m\u001b[0;34m[\u001b[0m\u001b[0;34m:\u001b[0m\u001b[0;36m48\u001b[0m\u001b[0;34m]\u001b[0m \u001b[0;34m=\u001b[0m \u001b[0mattack\u001b[0m\u001b[0;34m.\u001b[0m\u001b[0mgenerate\u001b[0m\u001b[0;34m(\u001b[0m\u001b[0madv_x\u001b[0m\u001b[0;34m[\u001b[0m\u001b[0;34m:\u001b[0m\u001b[0;36m48\u001b[0m\u001b[0;34m]\u001b[0m\u001b[0;34m)\u001b[0m\u001b[0;34m\u001b[0m\u001b[0;34m\u001b[0m\u001b[0m\n\u001b[0m\u001b[1;32m     12\u001b[0m                     \u001b[0;32myield\u001b[0m \u001b[0madv_x\u001b[0m\u001b[0;34m,\u001b[0m \u001b[0;34m[\u001b[0m\u001b[0mY\u001b[0m\u001b[0;34m[\u001b[0m\u001b[0mbatch\u001b[0m\u001b[0;34m]\u001b[0m\u001b[0;34m,\u001b[0m \u001b[0mVAL\u001b[0m\u001b[0;34m[\u001b[0m\u001b[0mbatch\u001b[0m\u001b[0;34m]\u001b[0m\u001b[0;34m]\u001b[0m\u001b[0;34m\u001b[0m\u001b[0;34m\u001b[0m\u001b[0m\n\u001b[1;32m     13\u001b[0m                     \u001b[0mbatch\u001b[0m\u001b[0;34m=\u001b[0m\u001b[0;34m[\u001b[0m\u001b[0;34m]\u001b[0m\u001b[0;34m\u001b[0m\u001b[0;34m\u001b[0m\u001b[0m\n",
      "\u001b[0;32m~/.conda/envs/cenv/lib/python3.6/site-packages/art/attacks/projected_gradient_descent.py\u001b[0m in \u001b[0;36mgenerate\u001b[0;34m(self, x, y, **kwargs)\u001b[0m\n\u001b[1;32m    144\u001b[0m \u001b[0;34m\u001b[0m\u001b[0m\n\u001b[1;32m    145\u001b[0m         logger.info('Success rate of attack: %.2f%%', rate_best if rate_best is not None else\n\u001b[0;32m--> 146\u001b[0;31m                     100 * compute_success(self.classifier, x, y, adv_x, self.targeted, batch_size=self.batch_size))\n\u001b[0m\u001b[1;32m    147\u001b[0m \u001b[0;34m\u001b[0m\u001b[0m\n\u001b[1;32m    148\u001b[0m         \u001b[0;32mreturn\u001b[0m \u001b[0madv_x_best\u001b[0m\u001b[0;34m\u001b[0m\u001b[0;34m\u001b[0m\u001b[0m\n",
      "\u001b[0;32m~/.conda/envs/cenv/lib/python3.6/site-packages/art/utils.py\u001b[0m in \u001b[0;36mcompute_success\u001b[0;34m(classifier, x_clean, labels, x_adv, targeted, batch_size)\u001b[0m\n\u001b[1;32m    363\u001b[0m         \u001b[0mrate\u001b[0m \u001b[0;34m=\u001b[0m \u001b[0mnp\u001b[0m\u001b[0;34m.\u001b[0m\u001b[0msum\u001b[0m\u001b[0;34m(\u001b[0m\u001b[0madv_preds\u001b[0m \u001b[0;34m==\u001b[0m \u001b[0mnp\u001b[0m\u001b[0;34m.\u001b[0m\u001b[0margmax\u001b[0m\u001b[0;34m(\u001b[0m\u001b[0mlabels\u001b[0m\u001b[0;34m,\u001b[0m \u001b[0maxis\u001b[0m\u001b[0;34m=\u001b[0m\u001b[0;36m1\u001b[0m\u001b[0;34m)\u001b[0m\u001b[0;34m)\u001b[0m \u001b[0;34m/\u001b[0m \u001b[0mx_adv\u001b[0m\u001b[0;34m.\u001b[0m\u001b[0mshape\u001b[0m\u001b[0;34m[\u001b[0m\u001b[0;36m0\u001b[0m\u001b[0;34m]\u001b[0m\u001b[0;34m\u001b[0m\u001b[0;34m\u001b[0m\u001b[0m\n\u001b[1;32m    364\u001b[0m     \u001b[0;32melse\u001b[0m\u001b[0;34m:\u001b[0m\u001b[0;34m\u001b[0m\u001b[0;34m\u001b[0m\u001b[0m\n\u001b[0;32m--> 365\u001b[0;31m         \u001b[0mpreds\u001b[0m \u001b[0;34m=\u001b[0m \u001b[0mnp\u001b[0m\u001b[0;34m.\u001b[0m\u001b[0margmax\u001b[0m\u001b[0;34m(\u001b[0m\u001b[0mclassifier\u001b[0m\u001b[0;34m.\u001b[0m\u001b[0mpredict\u001b[0m\u001b[0;34m(\u001b[0m\u001b[0mx_clean\u001b[0m\u001b[0;34m,\u001b[0m \u001b[0mbatch_size\u001b[0m\u001b[0;34m=\u001b[0m\u001b[0mbatch_size\u001b[0m\u001b[0;34m)\u001b[0m\u001b[0;34m,\u001b[0m \u001b[0maxis\u001b[0m\u001b[0;34m=\u001b[0m\u001b[0;36m1\u001b[0m\u001b[0;34m)\u001b[0m\u001b[0;34m\u001b[0m\u001b[0;34m\u001b[0m\u001b[0m\n\u001b[0m\u001b[1;32m    366\u001b[0m         \u001b[0mrate\u001b[0m \u001b[0;34m=\u001b[0m \u001b[0mnp\u001b[0m\u001b[0;34m.\u001b[0m\u001b[0msum\u001b[0m\u001b[0;34m(\u001b[0m\u001b[0madv_preds\u001b[0m \u001b[0;34m!=\u001b[0m \u001b[0mpreds\u001b[0m\u001b[0;34m)\u001b[0m \u001b[0;34m/\u001b[0m \u001b[0mx_adv\u001b[0m\u001b[0;34m.\u001b[0m\u001b[0mshape\u001b[0m\u001b[0;34m[\u001b[0m\u001b[0;36m0\u001b[0m\u001b[0;34m]\u001b[0m\u001b[0;34m\u001b[0m\u001b[0;34m\u001b[0m\u001b[0m\n\u001b[1;32m    367\u001b[0m \u001b[0;34m\u001b[0m\u001b[0m\n",
      "\u001b[0;32m~/.conda/envs/cenv/lib/python3.6/site-packages/art/classifiers/keras.py\u001b[0m in \u001b[0;36mpredict\u001b[0;34m(self, x, batch_size, **kwargs)\u001b[0m\n\u001b[1;32m    275\u001b[0m \u001b[0;34m\u001b[0m\u001b[0m\n\u001b[1;32m    276\u001b[0m         \u001b[0;31m# Apply defences\u001b[0m\u001b[0;34m\u001b[0m\u001b[0;34m\u001b[0m\u001b[0;34m\u001b[0m\u001b[0m\n\u001b[0;32m--> 277\u001b[0;31m         \u001b[0mx_preprocessed\u001b[0m\u001b[0;34m,\u001b[0m \u001b[0m_\u001b[0m \u001b[0;34m=\u001b[0m \u001b[0mself\u001b[0m\u001b[0;34m.\u001b[0m\u001b[0m_apply_preprocessing\u001b[0m\u001b[0;34m(\u001b[0m\u001b[0mx\u001b[0m\u001b[0;34m,\u001b[0m \u001b[0my\u001b[0m\u001b[0;34m=\u001b[0m\u001b[0;32mNone\u001b[0m\u001b[0;34m,\u001b[0m \u001b[0mfit\u001b[0m\u001b[0;34m=\u001b[0m\u001b[0;32mFalse\u001b[0m\u001b[0;34m)\u001b[0m\u001b[0;34m\u001b[0m\u001b[0;34m\u001b[0m\u001b[0m\n\u001b[0m\u001b[1;32m    278\u001b[0m \u001b[0;34m\u001b[0m\u001b[0m\n\u001b[1;32m    279\u001b[0m         \u001b[0;31m# Run predictions with batching\u001b[0m\u001b[0;34m\u001b[0m\u001b[0;34m\u001b[0m\u001b[0;34m\u001b[0m\u001b[0m\n",
      "\u001b[0;32m~/.conda/envs/cenv/lib/python3.6/site-packages/art/classifiers/classifier.py\u001b[0m in \u001b[0;36m_apply_preprocessing\u001b[0;34m(self, x, y, fit)\u001b[0m\n\u001b[1;32m    166\u001b[0m         \u001b[0my\u001b[0m \u001b[0;34m=\u001b[0m \u001b[0mcheck_and_transform_label_format\u001b[0m\u001b[0;34m(\u001b[0m\u001b[0my\u001b[0m\u001b[0;34m,\u001b[0m \u001b[0mself\u001b[0m\u001b[0;34m.\u001b[0m\u001b[0mnb_classes\u001b[0m\u001b[0;34m(\u001b[0m\u001b[0;34m)\u001b[0m\u001b[0;34m)\u001b[0m\u001b[0;34m\u001b[0m\u001b[0;34m\u001b[0m\u001b[0m\n\u001b[1;32m    167\u001b[0m         \u001b[0mx_preprocessed\u001b[0m\u001b[0;34m,\u001b[0m \u001b[0my_preprocessed\u001b[0m \u001b[0;34m=\u001b[0m \u001b[0mself\u001b[0m\u001b[0;34m.\u001b[0m\u001b[0m_apply_preprocessing_defences\u001b[0m\u001b[0;34m(\u001b[0m\u001b[0mx\u001b[0m\u001b[0;34m,\u001b[0m \u001b[0my\u001b[0m\u001b[0;34m,\u001b[0m \u001b[0mfit\u001b[0m\u001b[0;34m=\u001b[0m\u001b[0mfit\u001b[0m\u001b[0;34m)\u001b[0m\u001b[0;34m\u001b[0m\u001b[0;34m\u001b[0m\u001b[0m\n\u001b[0;32m--> 168\u001b[0;31m         \u001b[0mx_preprocessed\u001b[0m \u001b[0;34m=\u001b[0m \u001b[0mself\u001b[0m\u001b[0;34m.\u001b[0m\u001b[0m_apply_preprocessing_standardisation\u001b[0m\u001b[0;34m(\u001b[0m\u001b[0mx_preprocessed\u001b[0m\u001b[0;34m)\u001b[0m\u001b[0;34m\u001b[0m\u001b[0;34m\u001b[0m\u001b[0m\n\u001b[0m\u001b[1;32m    169\u001b[0m         \u001b[0;32mreturn\u001b[0m \u001b[0mx_preprocessed\u001b[0m\u001b[0;34m,\u001b[0m \u001b[0my_preprocessed\u001b[0m\u001b[0;34m\u001b[0m\u001b[0;34m\u001b[0m\u001b[0m\n\u001b[1;32m    170\u001b[0m \u001b[0;34m\u001b[0m\u001b[0m\n",
      "\u001b[0;32m~/.conda/envs/cenv/lib/python3.6/site-packages/art/classifiers/classifier.py\u001b[0m in \u001b[0;36m_apply_preprocessing_standardisation\u001b[0;34m(self, x)\u001b[0m\n\u001b[1;32m    208\u001b[0m             \u001b[0mdiv\u001b[0m \u001b[0;34m=\u001b[0m \u001b[0mnp\u001b[0m\u001b[0;34m.\u001b[0m\u001b[0masarray\u001b[0m\u001b[0;34m(\u001b[0m\u001b[0mdiv\u001b[0m\u001b[0;34m,\u001b[0m \u001b[0mdtype\u001b[0m\u001b[0;34m=\u001b[0m\u001b[0mx\u001b[0m\u001b[0;34m.\u001b[0m\u001b[0mdtype\u001b[0m\u001b[0;34m)\u001b[0m\u001b[0;34m\u001b[0m\u001b[0;34m\u001b[0m\u001b[0m\n\u001b[1;32m    209\u001b[0m \u001b[0;34m\u001b[0m\u001b[0m\n\u001b[0;32m--> 210\u001b[0;31m             \u001b[0mres\u001b[0m \u001b[0;34m=\u001b[0m \u001b[0mx\u001b[0m \u001b[0;34m-\u001b[0m \u001b[0msub\u001b[0m\u001b[0;34m\u001b[0m\u001b[0;34m\u001b[0m\u001b[0m\n\u001b[0m\u001b[1;32m    211\u001b[0m             \u001b[0mres\u001b[0m \u001b[0;34m=\u001b[0m \u001b[0mres\u001b[0m \u001b[0;34m/\u001b[0m \u001b[0mdiv\u001b[0m\u001b[0;34m\u001b[0m\u001b[0;34m\u001b[0m\u001b[0m\n\u001b[1;32m    212\u001b[0m \u001b[0;34m\u001b[0m\u001b[0m\n",
      "\u001b[0;31mKeyboardInterrupt\u001b[0m: "
     ]
    }
   ],
   "source": [
    "# Hyper parameters\n",
    "evaluate_every = 250 # interval for evaluating on one-shot tasks\n",
    "n_iter = 10_000 # No. of training iterations\n",
    "n_val = 250 # how many one-shot tasks to validate on\n",
    "n_iteration=0\n",
    "\n",
    "loss_list = []\n",
    "emb_vals = []\n",
    "cat_vals = []\n",
    "\n",
    "print(\"Starting training process!\")\n",
    "print(\"-------------------------------------\")\n",
    "\n",
    "t_start = time.time()\n",
    "\n",
    "for i in range(1, n_iter+1):\n",
    "    \n",
    "    batch = train_generator.__next__()\n",
    "    \n",
    "    loss = model.train_on_batch(batch[0], batch[1])\n",
    "    \n",
    "    emb_vals.append(loss[0])\n",
    "    cat_vals.append(loss[1])\n",
    "    \n",
    "    n_iteration += 1\n",
    "    \n",
    "    if i % 4000 == 0:\n",
    "        K.set_value(model.optimizer.lr, K.get_value(model.optimizer.lr)/2.0)\n",
    "    \n",
    "    if i % evaluate_every == 0:\n",
    "        ploss = (np.mean(emb_vals), np.mean(cat_vals))\n",
    "        loss_list.append(ploss)\n",
    "        emb_vals = []\n",
    "        cat_vals = []\n",
    "        print(\"\\n ------------- \\n\")\n",
    "        print(\"[{3}] Time for {0} iterations: {1:.1f} mins, Train Loss: {2}\".format(i, (time.time()-t_start)/60.0,ploss,n_iteration))"
   ]
  },
  {
   "cell_type": "code",
   "execution_count": 28,
   "metadata": {},
   "outputs": [
    {
     "name": "stdout",
     "output_type": "stream",
     "text": [
      "Base images:\n",
      "loss 0.5470993059158326\n",
      "acc 0.8509\n",
      "\n",
      "Adv images:\n",
      "loss 1.9823062419891357\n",
      "acc 0.335625\n"
     ]
    }
   ],
   "source": [
    "eval_loss = adv_model.evaluate(x_test, val_test, verbose=0)\n",
    "\n",
    "print(\"Base images:\")\n",
    "for i, name in enumerate(adv_model.metrics_names):\n",
    "    print(name, eval_loss[i])\n",
    "    \n",
    "losses = []\n",
    "accs = []\n",
    "\n",
    "\n",
    "for i in range(0, 8000, 32):\n",
    "    adv_test = attack.generate(x_test[i:i+32])\n",
    "    eval_loss = adv_model.evaluate(adv_test, val_test[i:i+32], verbose=0)\n",
    "    losses.append(eval_loss[0])\n",
    "    accs.append(eval_loss[1])\n",
    "\n",
    "print(\"\\nAdv images:\")\n",
    "print('loss', np.mean(losses))\n",
    "print('acc', np.mean(accs))"
   ]
  },
  {
   "cell_type": "code",
   "execution_count": 21,
   "metadata": {},
   "outputs": [
    {
     "name": "stdout",
     "output_type": "stream",
     "text": [
      "comparative_adv.ipynb  \u001b[0m\u001b[01;35mmodel.png\u001b[0m             test_advs.ipynb\n",
      "Model_1.ipynb          resnet_tests.ipynb    train_resnet.py\n",
      "Model_2.ipynb          resnet_triplet.ipynb\n",
      "Model_3.ipynb          \u001b[01;34msaved_models\u001b[0m/\n"
     ]
    }
   ],
   "source": [
    "ls"
   ]
  },
  {
   "cell_type": "code",
   "execution_count": 20,
   "metadata": {},
   "outputs": [],
   "source": [
    "model.save_weights(\"saved_models/adv_model_2_1.h5\")"
   ]
  },
  {
   "cell_type": "code",
   "execution_count": 24,
   "metadata": {},
   "outputs": [
    {
     "data": {
      "image/png": "[encoded data removed]",
      "text/plain": [
       "<Figure size 432x288 with 1 Axes>"
      ]
     },
     "metadata": {
      "needs_background": "light"
     },
     "output_type": "display_data"
    },
    {
     "data": {
      "image/png": "[encoded data removed]",
      "text/plain": [
       "<Figure size 432x288 with 1 Axes>"
      ]
     },
     "metadata": {
      "needs_background": "light"
     },
     "output_type": "display_data"
    }
   ],
   "source": [
    "y_axis = [l[0] for l in loss_list[3:]]\n",
    "x_axis = np.linspace(0, 10_000, len(y_axis)).round()\n",
    "plt.plot(x_axis, y_axis)\n",
    "plt.title(\"Triplet loss\")\n",
    "plt.show()\n",
    "\n",
    "y_axis = [l[1] for l in loss_list[3:]]\n",
    "x_axis = np.linspace(0, 10_000, len(y_axis)).round()\n",
    "plt.plot(x_axis, y_axis, 'm')\n",
    "plt.title(\"Categorical loss\")\n",
    "plt.show()"
   ]
  },
  {
   "cell_type": "code",
   "execution_count": 17,
   "metadata": {},
   "outputs": [
    {
     "name": "stdout",
     "output_type": "stream",
     "text": [
      "Starting training process!\n",
      "-------------------------------------\n",
      "\n",
      " ------------- \n",
      "\n",
      "[200] Time for 200 iterations: 0.8 mins, Train Loss: (1.581496, 0.59828126)\n",
      "\n",
      " ------------- \n",
      "\n",
      "[400] Time for 400 iterations: 1.5 mins, Train Loss: (1.3955872, 0.5590625)\n",
      "\n",
      " ------------- \n",
      "\n",
      "[600] Time for 600 iterations: 2.3 mins, Train Loss: (1.3457147, 0.5750781)\n",
      "\n",
      " ------------- \n",
      "\n",
      "[800] Time for 800 iterations: 3.0 mins, Train Loss: (1.3410496, 0.5733594)\n",
      "\n",
      " ------------- \n",
      "\n",
      "[1000] Time for 1000 iterations: 3.8 mins, Train Loss: (1.2519614, 0.60117185)\n",
      "\n",
      " ------------- \n",
      "\n",
      "[1200] Time for 1200 iterations: 4.5 mins, Train Loss: (1.2337501, 0.6077344)\n",
      "\n",
      " ------------- \n",
      "\n",
      "[1400] Time for 1400 iterations: 5.3 mins, Train Loss: (1.2415715, 0.60398436)\n",
      "\n",
      " ------------- \n",
      "\n",
      "[1600] Time for 1600 iterations: 6.0 mins, Train Loss: (1.2121341, 0.6152344)\n",
      "\n",
      " ------------- \n",
      "\n",
      "[1800] Time for 1800 iterations: 6.8 mins, Train Loss: (1.189574, 0.6180469)\n",
      "\n",
      " ------------- \n",
      "\n",
      "[2000] Time for 2000 iterations: 7.6 mins, Train Loss: (1.1882862, 0.6216406)\n",
      "\n",
      " ------------- \n",
      "\n",
      "[2200] Time for 2200 iterations: 8.3 mins, Train Loss: (1.1992526, 0.6188281)\n",
      "\n",
      " ------------- \n",
      "\n",
      "[2400] Time for 2400 iterations: 9.1 mins, Train Loss: (1.1707294, 0.6284375)\n",
      "\n",
      " ------------- \n",
      "\n",
      "[2600] Time for 2600 iterations: 9.9 mins, Train Loss: (1.1753253, 0.62546873)\n",
      "\n",
      " ------------- \n",
      "\n",
      "[2800] Time for 2800 iterations: 10.6 mins, Train Loss: (1.150346, 0.63070315)\n",
      "\n",
      " ------------- \n",
      "\n",
      "[3000] Time for 3000 iterations: 11.4 mins, Train Loss: (1.142037, 0.63390625)\n",
      "\n",
      " ------------- \n",
      "\n",
      "[3200] Time for 3200 iterations: 12.1 mins, Train Loss: (1.1463988, 0.6309375)\n",
      "\n",
      " ------------- \n",
      "\n",
      "[3400] Time for 3400 iterations: 12.9 mins, Train Loss: (1.1254901, 0.6416406)\n",
      "\n",
      " ------------- \n",
      "\n",
      "[3600] Time for 3600 iterations: 13.7 mins, Train Loss: (1.1312634, 0.6429688)\n",
      "\n",
      " ------------- \n",
      "\n",
      "[3800] Time for 3800 iterations: 14.4 mins, Train Loss: (1.1133208, 0.6442969)\n",
      "\n",
      " ------------- \n",
      "\n",
      "[4000] Time for 4000 iterations: 15.2 mins, Train Loss: (1.1264111, 0.6436719)\n",
      "\n",
      " ------------- \n",
      "\n",
      "[4200] Time for 4200 iterations: 16.0 mins, Train Loss: (1.0817037, 0.65382814)\n",
      "\n",
      " ------------- \n",
      "\n",
      "[4400] Time for 4400 iterations: 16.8 mins, Train Loss: (1.0803337, 0.660625)\n",
      "\n",
      " ------------- \n",
      "\n",
      "[4600] Time for 4600 iterations: 17.5 mins, Train Loss: (1.0789552, 0.65945315)\n",
      "\n",
      " ------------- \n",
      "\n",
      "[4800] Time for 4800 iterations: 18.3 mins, Train Loss: (1.0694805, 0.6632031)\n",
      "\n",
      " ------------- \n",
      "\n",
      "[5000] Time for 5000 iterations: 19.1 mins, Train Loss: (1.09766, 0.6497656)\n",
      "\n",
      " ------------- \n",
      "\n",
      "[5200] Time for 5200 iterations: 19.8 mins, Train Loss: (1.0914785, 0.65171874)\n",
      "\n",
      " ------------- \n",
      "\n",
      "[5400] Time for 5400 iterations: 20.6 mins, Train Loss: (1.0793195, 0.6534375)\n",
      "\n",
      " ------------- \n",
      "\n",
      "[5600] Time for 5600 iterations: 21.4 mins, Train Loss: (1.0804116, 0.65414065)\n",
      "\n",
      " ------------- \n",
      "\n",
      "[5800] Time for 5800 iterations: 22.2 mins, Train Loss: (1.0488182, 0.6689063)\n",
      "\n",
      " ------------- \n",
      "\n",
      "[6000] Time for 6000 iterations: 23.0 mins, Train Loss: (1.054338, 0.6640625)\n",
      "\n",
      " ------------- \n",
      "\n",
      "[6200] Time for 6200 iterations: 23.7 mins, Train Loss: (1.057698, 0.6678906)\n",
      "\n",
      " ------------- \n",
      "\n",
      "[6400] Time for 6400 iterations: 24.5 mins, Train Loss: (1.0301541, 0.67710936)\n",
      "\n",
      " ------------- \n",
      "\n",
      "[6600] Time for 6600 iterations: 25.2 mins, Train Loss: (1.0621567, 0.6592969)\n",
      "\n",
      " ------------- \n",
      "\n",
      "[6800] Time for 6800 iterations: 26.0 mins, Train Loss: (1.0359169, 0.6761719)\n",
      "\n",
      " ------------- \n",
      "\n",
      "[7000] Time for 7000 iterations: 26.7 mins, Train Loss: (1.0711583, 0.66085935)\n",
      "\n",
      " ------------- \n",
      "\n",
      "[7200] Time for 7200 iterations: 27.5 mins, Train Loss: (1.0541426, 0.6664063)\n",
      "\n",
      " ------------- \n",
      "\n",
      "[7400] Time for 7400 iterations: 28.2 mins, Train Loss: (1.0375184, 0.6707031)\n",
      "\n",
      " ------------- \n",
      "\n",
      "[7600] Time for 7600 iterations: 29.0 mins, Train Loss: (1.0457654, 0.6674219)\n",
      "\n",
      " ------------- \n",
      "\n",
      "[7800] Time for 7800 iterations: 29.7 mins, Train Loss: (1.021442, 0.6777344)\n",
      "\n",
      " ------------- \n",
      "\n",
      "[8000] Time for 8000 iterations: 30.5 mins, Train Loss: (1.0230477, 0.6777344)\n",
      "\n",
      " ------------- \n",
      "\n",
      "[8200] Time for 8200 iterations: 31.2 mins, Train Loss: (1.0255121, 0.67765623)\n",
      "\n",
      " ------------- \n",
      "\n",
      "[8400] Time for 8400 iterations: 32.0 mins, Train Loss: (1.0060145, 0.68171877)\n",
      "\n",
      " ------------- \n",
      "\n",
      "[8600] Time for 8600 iterations: 32.8 mins, Train Loss: (1.0438828, 0.6678906)\n",
      "\n",
      " ------------- \n",
      "\n",
      "[8800] Time for 8800 iterations: 33.6 mins, Train Loss: (1.0234569, 0.67679685)\n",
      "\n",
      " ------------- \n",
      "\n",
      "[9000] Time for 9000 iterations: 34.3 mins, Train Loss: (1.0122293, 0.67859375)\n",
      "\n",
      " ------------- \n",
      "\n",
      "[9200] Time for 9200 iterations: 35.1 mins, Train Loss: (0.9866919, 0.68953127)\n",
      "\n",
      " ------------- \n",
      "\n",
      "[9400] Time for 9400 iterations: 35.8 mins, Train Loss: (1.0134445, 0.6825)\n",
      "\n",
      " ------------- \n",
      "\n",
      "[9600] Time for 9600 iterations: 36.6 mins, Train Loss: (1.003616, 0.6863281)\n",
      "\n",
      " ------------- \n",
      "\n",
      "[9800] Time for 9800 iterations: 37.3 mins, Train Loss: (1.0048811, 0.6858594)\n",
      "\n",
      " ------------- \n",
      "\n",
      "[10000] Time for 10000 iterations: 38.1 mins, Train Loss: (1.0044185, 0.6840625)\n",
      "\n",
      " ------------- \n",
      "\n",
      "[10200] Time for 10200 iterations: 38.9 mins, Train Loss: (1.0033194, 0.6892969)\n",
      "\n",
      " ------------- \n",
      "\n",
      "[10400] Time for 10400 iterations: 39.6 mins, Train Loss: (0.9846647, 0.6910156)\n",
      "\n",
      " ------------- \n",
      "\n",
      "[10600] Time for 10600 iterations: 40.4 mins, Train Loss: (0.9974684, 0.6885156)\n",
      "\n",
      " ------------- \n",
      "\n",
      "[10800] Time for 10800 iterations: 41.1 mins, Train Loss: (0.98412025, 0.6910156)\n",
      "\n",
      " ------------- \n",
      "\n",
      "[11000] Time for 11000 iterations: 41.9 mins, Train Loss: (0.9908952, 0.6875)\n",
      "\n",
      " ------------- \n",
      "\n",
      "[11200] Time for 11200 iterations: 42.6 mins, Train Loss: (1.0169866, 0.68171877)\n",
      "\n",
      " ------------- \n",
      "\n",
      "[11400] Time for 11400 iterations: 43.4 mins, Train Loss: (0.9838256, 0.690625)\n",
      "\n",
      " ------------- \n",
      "\n",
      "[11600] Time for 11600 iterations: 44.1 mins, Train Loss: (0.9873774, 0.69070315)\n",
      "\n",
      " ------------- \n",
      "\n",
      "[11800] Time for 11800 iterations: 44.9 mins, Train Loss: (0.98323745, 0.6958594)\n",
      "\n",
      " ------------- \n",
      "\n",
      "[12000] Time for 12000 iterations: 45.7 mins, Train Loss: (0.96123856, 0.699375)\n",
      "\n",
      " ------------- \n",
      "\n",
      "[12200] Time for 12200 iterations: 46.5 mins, Train Loss: (1.0020305, 0.68460935)\n",
      "\n",
      " ------------- \n",
      "\n",
      "[12400] Time for 12400 iterations: 47.3 mins, Train Loss: (0.9949535, 0.69171876)\n",
      "\n",
      " ------------- \n",
      "\n",
      "[12600] Time for 12600 iterations: 48.1 mins, Train Loss: (0.9376471, 0.7117969)\n",
      "\n",
      " ------------- \n",
      "\n",
      "[12800] Time for 12800 iterations: 48.9 mins, Train Loss: (0.9510351, 0.704375)\n",
      "\n",
      " ------------- \n",
      "\n",
      "[13000] Time for 13000 iterations: 49.6 mins, Train Loss: (0.9763437, 0.7025)\n",
      "\n",
      " ------------- \n",
      "\n",
      "[13200] Time for 13200 iterations: 50.4 mins, Train Loss: (0.9857763, 0.6921875)\n",
      "\n",
      " ------------- \n",
      "\n",
      "[13400] Time for 13400 iterations: 51.1 mins, Train Loss: (0.9362232, 0.71054685)\n",
      "\n",
      " ------------- \n",
      "\n",
      "[13600] Time for 13600 iterations: 51.9 mins, Train Loss: (0.97774965, 0.698125)\n",
      "\n",
      " ------------- \n",
      "\n",
      "[13800] Time for 13800 iterations: 52.6 mins, Train Loss: (0.95851743, 0.7007812)\n",
      "\n",
      " ------------- \n",
      "\n",
      "[14000] Time for 14000 iterations: 53.4 mins, Train Loss: (0.9818036, 0.69523436)\n",
      "\n",
      " ------------- \n",
      "\n",
      "[14200] Time for 14200 iterations: 54.1 mins, Train Loss: (0.9907448, 0.6922656)\n",
      "\n",
      " ------------- \n",
      "\n",
      "[14400] Time for 14400 iterations: 54.9 mins, Train Loss: (0.97058004, 0.69757813)\n",
      "\n",
      " ------------- \n",
      "\n",
      "[14600] Time for 14600 iterations: 55.6 mins, Train Loss: (0.94250816, 0.7091406)\n",
      "\n",
      " ------------- \n",
      "\n",
      "[14800] Time for 14800 iterations: 56.4 mins, Train Loss: (0.9674272, 0.6994531)\n",
      "\n",
      " ------------- \n",
      "\n",
      "[15000] Time for 15000 iterations: 57.1 mins, Train Loss: (0.9469228, 0.70765626)\n"
     ]
    }
   ],
   "source": [
    "# Hyper parameters\n",
    "\n",
    "#K.set_value(adv_model.optimizer.lr, 1e-8)\n",
    "\n",
    "evaluate_every = 200 # interval for evaluating on one-shot tasks\n",
    "n_iter = 15000 # No. of training iterations\n",
    "n_val = 250 # how many one-shot tasks to validate on\n",
    "n_iteration=0\n",
    "\n",
    "loss_list = []\n",
    "emb_vals = []\n",
    "cat_vals = []\n",
    "\n",
    "print(\"Starting training process!\")\n",
    "print(\"-------------------------------------\")\n",
    "\n",
    "t_start = time.time()\n",
    "\n",
    "for i in range(1, n_iter+1):\n",
    "    \n",
    "    batch = train_generator.__next__()\n",
    "    \n",
    "    loss = adv_model.train_on_batch(batch[0], batch[1])\n",
    "    \n",
    "    emb_vals.append(loss[0])\n",
    "    cat_vals.append(loss[1])\n",
    "    \n",
    "    n_iteration += 1\n",
    "    \n",
    "    if i % 5000 == 0:\n",
    "        K.set_value(model.optimizer.lr, K.get_value(model.optimizer.lr)/5.0)\n",
    "    \n",
    "    if i % evaluate_every == 0:\n",
    "        ploss = (np.mean(emb_vals), np.mean(cat_vals))\n",
    "        loss_list.append(ploss)\n",
    "        emb_vals = []\n",
    "        cat_vals = []\n",
    "        print(\"\\n ------------- \\n\")\n",
    "        print(\"[{3}] Time for {0} iterations: {1:.1f} mins, Train Loss: {2}\".format(i, (time.time()-t_start)/60.0,ploss,n_iteration))"
   ]
  },
  {
   "cell_type": "code",
   "execution_count": 21,
   "metadata": {},
   "outputs": [
    {
     "data": {
      "image/png": "[encoded data removed]",
      "text/plain": [
       "<Figure size 432x288 with 1 Axes>"
      ]
     },
     "metadata": {
      "needs_background": "light"
     },
     "output_type": "display_data"
    }
   ],
   "source": [
    "x1 = [l[0] for l in loss_list[10:]]\n",
    "x2 = [l[1] for l in loss_list[10:]]\n",
    "plt.plot(x1)\n",
    "plt.plot(x2)\n",
    "plt.show()"
   ]
  },
  {
   "cell_type": "code",
   "execution_count": 18,
   "metadata": {},
   "outputs": [
    {
     "name": "stdout",
     "output_type": "stream",
     "text": [
      "10000/10000 [==============================] - 2s 226us/step\n",
      "loss 0.7007946513175964\n",
      "acc 0.8169\n",
      "Adv images:\n",
      "0.45025\n"
     ]
    }
   ],
   "source": [
    "eval_loss = adv_model.evaluate(x_test, val_test, verbose=1)\n",
    "\n",
    "for i, name in enumerate(adv_model.metrics_names):\n",
    "    print(name, eval_loss[i])\n",
    "    \n",
    "accs = []\n",
    "\n",
    "for i in range(0, 8000, 32):\n",
    "    adv_test = attack.generate(x_test[i:i+32])\n",
    "    eval_loss = adv_model.evaluate(adv_test, val_test[i:i+32], verbose=0)\n",
    "    accs.append(eval_loss[1])\n",
    "\n",
    "print(\"Adv images:\")\n",
    "print(np.mean(accs))"
   ]
  },
  {
   "cell_type": "code",
   "execution_count": null,
   "metadata": {},
   "outputs": [],
   "source": [
    "dist_matrix = np.zeros(shape=(10, 10))\n",
    "\n",
    "for i in range(10):\n",
    "    start = time.time()\n",
    "    outs_1 = pen_output([dataset_train[i]])[0]\n",
    "    print(i)\n",
    "    for j in range(10):\n",
    "        outs_2 = pen_output([attack.generate(dataset_train[j][:2000])])[0]\n",
    "        norms = []\n",
    "        for k in range(1000):\n",
    "            norms.append(norm(outs_1[\n",
    "                np.random.randint(0, 5000)] - outs_2[\n",
    "                np.random.randint(0, 2000)]))\n",
    "        dist_matrix[i][j] = np.mean(norms)\n",
    "    end = time.time()\n",
    "    print(end-start)\n",
    "\n",
    "print(dist_matrix.round(3))\n",
    "\n",
    "plt.imshow(dist_matrix / dist_matrix.max(), cmap=\"Greys\")\n",
    "plt.show()"
   ]
  },
  {
   "cell_type": "code",
   "execution_count": 57,
   "metadata": {},
   "outputs": [
    {
     "data": {
      "text/plain": [
       "[2.229891538619995, 0.34375]"
      ]
     },
     "execution_count": 57,
     "metadata": {},
     "output_type": "execute_result"
    }
   ],
   "source": [
    "eval_loss"
   ]
  },
  {
   "cell_type": "code",
   "execution_count": 17,
   "metadata": {},
   "outputs": [
    {
     "data": {
      "image/png": "[encoded data removed]",
      "text/plain": [
       "<Figure size 432x288 with 1 Axes>"
      ]
     },
     "metadata": {
      "needs_background": "light"
     },
     "output_type": "display_data"
    }
   ],
   "source": [
    "#x1 = [l[0] for l in loss_list]\n",
    "x2 = [l[1] for l in loss_list]\n",
    "#plt.plot(x1)\n",
    "plt.plot(x2)\n",
    "plt.show()"
   ]
  },
  {
   "cell_type": "code",
   "execution_count": 20,
   "metadata": {},
   "outputs": [
    {
     "name": "stdout",
     "output_type": "stream",
     "text": [
      "Base images:\n",
      "   loss 0.7759025994300842\n",
      "   emb_out_loss 0.7952\n"
     ]
    },
    {
     "ename": "IndexError",
     "evalue": "list index out of range",
     "output_type": "error",
     "traceback": [
      "\u001b[0;31m---------------------------------------------------------------------------\u001b[0m",
      "\u001b[0;31mIndexError\u001b[0m                                Traceback (most recent call last)",
      "\u001b[0;32m<ipython-input-20-6057c349d042>\u001b[0m in \u001b[0;36m<module>\u001b[0;34m\u001b[0m\n\u001b[1;32m      3\u001b[0m \u001b[0mprint\u001b[0m\u001b[0;34m(\u001b[0m\u001b[0;34m\"Base images:\"\u001b[0m\u001b[0;34m)\u001b[0m\u001b[0;34m\u001b[0m\u001b[0;34m\u001b[0m\u001b[0m\n\u001b[1;32m      4\u001b[0m \u001b[0;32mfor\u001b[0m \u001b[0mi\u001b[0m\u001b[0;34m,\u001b[0m \u001b[0mname\u001b[0m \u001b[0;32min\u001b[0m \u001b[0menumerate\u001b[0m\u001b[0;34m(\u001b[0m\u001b[0mmodel\u001b[0m\u001b[0;34m.\u001b[0m\u001b[0mmetrics_names\u001b[0m\u001b[0;34m)\u001b[0m\u001b[0;34m:\u001b[0m\u001b[0;34m\u001b[0m\u001b[0;34m\u001b[0m\u001b[0m\n\u001b[0;32m----> 5\u001b[0;31m     \u001b[0mprint\u001b[0m\u001b[0;34m(\u001b[0m\u001b[0;34m\"  \"\u001b[0m\u001b[0;34m,\u001b[0m \u001b[0mname\u001b[0m\u001b[0;34m,\u001b[0m \u001b[0meval_loss\u001b[0m\u001b[0;34m[\u001b[0m\u001b[0mi\u001b[0m\u001b[0;34m]\u001b[0m\u001b[0;34m)\u001b[0m\u001b[0;34m\u001b[0m\u001b[0;34m\u001b[0m\u001b[0m\n\u001b[0m\u001b[1;32m      6\u001b[0m \u001b[0;34m\u001b[0m\u001b[0m\n\u001b[1;32m      7\u001b[0m \u001b[0maccs\u001b[0m \u001b[0;34m=\u001b[0m \u001b[0;34m[\u001b[0m\u001b[0;34m]\u001b[0m\u001b[0;34m\u001b[0m\u001b[0;34m\u001b[0m\u001b[0m\n",
      "\u001b[0;31mIndexError\u001b[0m: list index out of range"
     ]
    }
   ],
   "source": [
    "eval_loss = adv_model.evaluate(x_test, val_test, verbose=0)\n",
    "\n",
    "print(\"Base images:\")\n",
    "for i, name in enumerate(model.metrics_names):\n",
    "    print(\"  \", name, eval_loss[i])\n",
    "    \n",
    "accs = []\n",
    "\n",
    "for i in range(0, 3000, 32):\n",
    "    adv_test = attack.generate(x_test[i:i+32])\n",
    "    eval_loss = adv_model.evaluate(adv_test, val_test[i:i+32], verbose=0)\n",
    "    accs.append(eval_loss[1])\n",
    "\n",
    "print(\"Adv images:\")\n",
    "np.mean(accs)"
   ]
  },
  {
   "cell_type": "code",
   "execution_count": 18,
   "metadata": {},
   "outputs": [
    {
     "data": {
      "image/png": "[encoded data removed]",
      "text/plain": [
       "<Figure size 432x288 with 1 Axes>"
      ]
     },
     "metadata": {
      "needs_background": "light"
     },
     "output_type": "display_data"
    }
   ],
   "source": [
    "x1 = [l[1] for l in loss_list]\n",
    "x2 = [l[4] for l in loss_list]\n",
    "plt.plot(x1)\n",
    "plt.plot(x2)\n",
    "plt.show()"
   ]
  },
  {
   "cell_type": "code",
   "execution_count": 17,
   "metadata": {},
   "outputs": [
    {
     "name": "stdout",
     "output_type": "stream",
     "text": [
      "Base images:\n",
      "   loss 0.8174479370117187\n",
      "   emb_out_loss 0.9238985250473023\n",
      "   cat_out_loss 0.612490875196457\n",
      "   emb_out_acc 0.0\n",
      "   cat_out_acc 0.7954\n",
      "Adv images:\n",
      "   loss 1.4589559022903442\n",
      "   emb_out_loss 0.9801555199623108\n",
      "   cat_out_loss 1.504821113204956\n",
      "   emb_out_acc 0.0\n",
      "   cat_out_acc 0.4236\n"
     ]
    }
   ],
   "source": [
    "eval_loss = model.evaluate(x_test, [y_test, val_test], verbose=0)\n",
    "\n",
    "print(\"Base images:\")\n",
    "for i, name in enumerate(model.metrics_names):\n",
    "    print(\"  \", name, eval_loss[i])\n",
    "    \n",
    "adv_test = attack.generate(x_test)\n",
    "eval_loss = model.evaluate(adv_test, [y_test, val_test], verbose=0)\n",
    "\n",
    "print(\"Adv images:\")\n",
    "for i, name in enumerate(model.metrics_names):\n",
    "    print(\"  \", name, eval_loss[i])"
   ]
  },
  {
   "cell_type": "code",
   "execution_count": 18,
   "metadata": {},
   "outputs": [
    {
     "data": {
      "image/png": "[encoded data removed]",
      "text/plain": [
       "<Figure size 432x288 with 1 Axes>"
      ]
     },
     "metadata": {
      "needs_background": "light"
     },
     "output_type": "display_data"
    }
   ],
   "source": [
    "x1 = [l[1] for l in loss_list]\n",
    "plt.plot(x1)\n",
    "plt.show()"
   ]
  },
  {
   "cell_type": "code",
   "execution_count": 19,
   "metadata": {},
   "outputs": [
    {
     "name": "stdout",
     "output_type": "stream",
     "text": [
      "Base images:\n",
      "   loss 0.702584770488739\n",
      "   acc 0.8136\n",
      "Adv images:\n",
      "   loss 1.6653723711013795\n",
      "   acc 0.4161\n"
     ]
    }
   ],
   "source": [
    "eval_loss = adv_model.evaluate(x_test, val_test, verbose=0)\n",
    "\n",
    "print(\"Base images:\")\n",
    "for i, name in enumerate(adv_model.metrics_names):\n",
    "    print(\"  \", name, eval_loss[i])\n",
    "    \n",
    "adv_test = attack.generate(x_test)\n",
    "eval_loss = adv_model.evaluate(adv_test, val_test, verbose=0)\n",
    "\n",
    "print(\"Adv images:\")\n",
    "for i, name in enumerate(adv_model.metrics_names):\n",
    "    print(\"  \", name, eval_loss[i])"
   ]
  },
  {
   "cell_type": "code",
   "execution_count": null,
   "metadata": {},
   "outputs": [],
   "source": []
  },
  {
   "cell_type": "code",
   "execution_count": null,
   "metadata": {},
   "outputs": [],
   "source": []
  },
  {
   "cell_type": "code",
   "execution_count": null,
   "metadata": {},
   "outputs": [],
   "source": []
  },
  {
   "cell_type": "code",
   "execution_count": null,
   "metadata": {},
   "outputs": [],
   "source": []
  },
  {
   "cell_type": "code",
   "execution_count": null,
   "metadata": {},
   "outputs": [],
   "source": []
  },
  {
   "cell_type": "code",
   "execution_count": null,
   "metadata": {},
   "outputs": [],
   "source": []
  },
  {
   "cell_type": "code",
   "execution_count": null,
   "metadata": {},
   "outputs": [],
   "source": []
  }
 ],
 "metadata": {
  "kernelspec": {
   "display_name": "Python 3",
   "language": "python",
   "name": "python3"
  },
  "language_info": {
   "codemirror_mode": {
    "name": "ipython",
    "version": 3
   },
   "file_extension": ".py",
   "mimetype": "text/x-python",
   "name": "python",
   "nbconvert_exporter": "python",
   "pygments_lexer": "ipython3",
   "version": "3.6.8"
  }
 },
 "nbformat": 4,
 "nbformat_minor": 2
}
