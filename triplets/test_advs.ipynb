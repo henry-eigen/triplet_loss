{
 "cells": [
  {
   "cell_type": "code",
   "execution_count": 1,
   "metadata": {},
   "outputs": [
    {
     "name": "stderr",
     "output_type": "stream",
     "text": [
      "Using TensorFlow backend.\n"
     ]
    }
   ],
   "source": [
    "import time\n",
    "import keras\n",
    "from keras.preprocessing.image import ImageDataGenerator\n",
    "from keras.models import Sequential\n",
    "from keras import optimizers\n",
    "import numpy as np\n",
    "from keras.layers.core import Lambda\n",
    "from keras import backend as K\n",
    "from keras import regularizers\n",
    "from numpy.linalg import norm\n",
    "\n",
    "import matplotlib.pyplot as plt\n",
    "\n",
    "from custom_lib.build_vgg import build_cifar_model\n",
    "from custom_lib.triplet_utils import buildDataSet\n",
    "\n",
    "from keras.datasets import cifar10\n",
    "from keras.utils import to_categorical\n",
    "\n",
    "from art.classifiers import KerasClassifier\n",
    "from art.attacks.fast_gradient import FastGradientMethod\n",
    "from art.attacks.carlini import CarliniL2Method\n",
    "from art.attacks.projected_gradient_descent import ProjectedGradientDescent\n",
    "\n",
    "import time"
   ]
  },
  {
   "cell_type": "code",
   "execution_count": 2,
   "metadata": {},
   "outputs": [],
   "source": [
    "num_classes = 10\n",
    "weight_decay = 0.005\n",
    "x_shape = [32,32,3]\n",
    "\n",
    "(x_train, y_train), (x_test, y_test) = cifar10.load_data()\n",
    "\n",
    "x_train = x_train / 255.\n",
    "x_test = x_test / 255.\n",
    "\n",
    "y_train = to_categorical(y_train, 10)\n",
    "y_test = to_categorical(y_test, 10)"
   ]
  },
  {
   "cell_type": "code",
   "execution_count": 3,
   "metadata": {},
   "outputs": [],
   "source": [
    "nb_classes = 10\n",
    "img_rows, img_cols = 32, 32\n",
    "input_shape = (img_rows, img_cols, 3)\n",
    "\n",
    "dataset_train, dataset_test, x_train_origin, y_train_origin, x_test_origin, y_test_origin = buildDataSet(cifar=True)"
   ]
  },
  {
   "cell_type": "code",
   "execution_count": 4,
   "metadata": {},
   "outputs": [],
   "source": [
    "import psutil\n",
    "\n",
    "p = psutil.Process()\n",
    "\n",
    "for i in p.threads():\n",
    "    temp = psutil.Process(i.id)\n",
    "\n",
    "    temp.cpu_affinity([i for i in range(8)])"
   ]
  },
  {
   "cell_type": "markdown",
   "metadata": {},
   "source": [
    "## Base Network"
   ]
  },
  {
   "cell_type": "code",
   "execution_count": 8,
   "metadata": {},
   "outputs": [],
   "source": [
    "model = build_cifar_model(num_classes, x_shape, conv_dropout=0.1 , dense_dropout=0.1)\n",
    "\n",
    "model.load_weights('/data1/Henry/cifar10vgg.h5')\n",
    "\n",
    "op = optimizers.SGD(lr=0.001, decay=1e-4, momentum=0.9, nesterov=True)\n",
    "\n",
    "model.compile(loss='categorical_crossentropy', optimizer=op, metrics=['accuracy'])\n",
    "\n",
    "pen_output = K.function([model.layers[0].input, K.learning_phase()],[model.layers[-5].output])"
   ]
  },
  {
   "cell_type": "code",
   "execution_count": 11,
   "metadata": {},
   "outputs": [],
   "source": [
    "art_model = KerasClassifier(clip_values=(0, 1.), model=model, use_logits=False)\n",
    "attack = ProjectedGradientDescent(art_model, norm=2, random_eps=7, batch_size=32)\n",
    "\n",
    "adv_x = attack.generate(x_test)"
   ]
  },
  {
   "cell_type": "code",
   "execution_count": 12,
   "metadata": {},
   "outputs": [
    {
     "name": "stdout",
     "output_type": "stream",
     "text": [
      "10000/10000 [==============================] - 2s 184us/step\n",
      "[2.510446421813965, 0.9299]\n",
      "10000/10000 [==============================] - 2s 171us/step\n",
      "[11.238630561065674, 0.1793]\n"
     ]
    }
   ],
   "source": [
    "print(model.evaluate(x_test, y_test))\n",
    "print(model.evaluate(adv_x, y_test))"
   ]
  },
  {
   "cell_type": "code",
   "execution_count": 22,
   "metadata": {},
   "outputs": [
    {
     "name": "stdout",
     "output_type": "stream",
     "text": [
      "[[16.361 16.902 17.127 20.84  18.275 17.861 17.794 18.948 14.643 16.338]\n",
      " [18.231 14.361 18.76  20.688 19.247 18.85  18.036 19.142 17.274 11.797]\n",
      " [14.246 18.299 17.316 20.016 16.426 19.021 16.384 19.265 17.642 18.073]\n",
      " [17.825 17.905 16.89  18.128 17.024 12.74  15.927 18.93  16.84  16.881]\n",
      " [17.958 18.147 16.729 19.611  9.554 19.688 18.104 16.713 17.306 17.791]\n",
      " [19.809 18.829 18.915 17.642 19.153 19.895 19.887 18.249 19.712 18.991]\n",
      " [18.257 18.16  17.082 18.675 18.267 18.484 17.837 19.852 17.688 17.828]\n",
      " [19.131 18.387 18.728 18.365 17.109 19.133 18.941 18.881 18.801 18.106]\n",
      " [16.919 16.281 17.437 20.773 18.694 18.194 17.135 18.295 14.645 16.048]\n",
      " [17.025 16.604 17.924 18.384 18.726 19.201 17.316 18.867 15.389 15.273]]\n"
     ]
    },
    {
     "data": {
      "image/png": "[encoded data removed]",
      "text/plain": [
       "<Figure size 432x288 with 1 Axes>"
      ]
     },
     "metadata": {
      "needs_background": "light"
     },
     "output_type": "display_data"
    }
   ],
   "source": [
    "dist_matrix = np.zeros(shape=(10, 10))\n",
    "\n",
    "for i in range(10):\n",
    "    start = time.time()\n",
    "    outs_1 = pen_output([dataset_train[i]])[0]\n",
    "    print(i)\n",
    "    for j in range(10):\n",
    "        outs_2 = pen_output([attack.generate(dataset_train[j][:2000])])[0]\n",
    "        norms = []\n",
    "        for k in range(1000):\n",
    "            norms.append(norm(outs_1[\n",
    "                np.random.randint(0, 5000)] - outs_2[\n",
    "                np.random.randint(0, 2000)]))\n",
    "        dist_matrix[i][j] = np.mean(norms)\n",
    "    end = time.time()\n",
    "    print(end-start)\n",
    "\n",
    "print(dist_matrix.round(3))\n",
    "\n",
    "plt.imshow(dist_matrix / dist_matrix.max(), cmap=\"Greys\")\n",
    "plt.show()"
   ]
  },
  {
   "cell_type": "markdown",
   "metadata": {},
   "source": [
    "## Full Adv Trained"
   ]
  },
  {
   "cell_type": "code",
   "execution_count": 4,
   "metadata": {},
   "outputs": [
    {
     "name": "stdout",
     "output_type": "stream",
     "text": [
      "WARNING:tensorflow:From /home/heigen/.conda/envs/cenv/lib/python3.6/site-packages/tensorflow/python/framework/op_def_library.py:263: colocate_with (from tensorflow.python.framework.ops) is deprecated and will be removed in a future version.\n",
      "Instructions for updating:\n",
      "Colocations handled automatically by placer.\n",
      "WARNING:tensorflow:From /home/heigen/.conda/envs/cenv/lib/python3.6/site-packages/keras/backend/tensorflow_backend.py:3445: calling dropout (from tensorflow.python.ops.nn_ops) with keep_prob is deprecated and will be removed in a future version.\n",
      "Instructions for updating:\n",
      "Please use `rate` instead of `keep_prob`. Rate should be set to `rate = 1 - keep_prob`.\n"
     ]
    }
   ],
   "source": [
    "model = build_cifar_model(num_classes, x_shape, conv_dropout=0.1 , dense_dropout=0.1)\n",
    "\n",
    "model.load_weights('/data1/Henry/adv_full.h5')\n",
    "\n",
    "op = optimizers.SGD(lr=0.001, decay=1e-4, momentum=0.9, nesterov=True)\n",
    "\n",
    "model.compile(loss='categorical_crossentropy', optimizer=op, metrics=['accuracy'])\n",
    "\n",
    "pen_output = K.function([model.layers[0].input, K.learning_phase()],[model.layers[-5].output])"
   ]
  },
  {
   "cell_type": "code",
   "execution_count": 5,
   "metadata": {},
   "outputs": [
    {
     "name": "stdout",
     "output_type": "stream",
     "text": [
      "WARNING:tensorflow:From /home/heigen/.conda/envs/cenv/lib/python3.6/site-packages/keras/backend/tensorflow_backend.py:3298: softmax_cross_entropy_with_logits (from tensorflow.python.ops.nn_ops) is deprecated and will be removed in a future version.\n",
      "Instructions for updating:\n",
      "\n",
      "Future major versions of TensorFlow will allow gradients to flow\n",
      "into the labels input on backprop by default.\n",
      "\n",
      "See `tf.nn.softmax_cross_entropy_with_logits_v2`.\n",
      "\n",
      "WARNING:tensorflow:From /home/heigen/.conda/envs/cenv/lib/python3.6/site-packages/tensorflow/python/ops/math_ops.py:3066: to_int32 (from tensorflow.python.ops.math_ops) is deprecated and will be removed in a future version.\n",
      "Instructions for updating:\n",
      "Use tf.cast instead.\n"
     ]
    }
   ],
   "source": [
    "art_model = KerasClassifier(clip_values=(0, 1.), model=model, use_logits=False)\n",
    "attack = ProjectedGradientDescent(art_model, norm=2, random_eps=7, batch_size=32)\n",
    "\n",
    "adv_x = attack.generate(x_test)"
   ]
  },
  {
   "cell_type": "code",
   "execution_count": 6,
   "metadata": {},
   "outputs": [
    {
     "name": "stdout",
     "output_type": "stream",
     "text": [
      "10000/10000 [==============================] - 3s 265us/step\n",
      "[1.1162128475189208, 0.8365]\n",
      "10000/10000 [==============================] - 2s 207us/step\n",
      "[2.049755135345459, 0.4888]\n"
     ]
    }
   ],
   "source": [
    "print(model.evaluate(x_test, y_test))\n",
    "print(model.evaluate(adv_x, y_test))"
   ]
  },
  {
   "cell_type": "code",
   "execution_count": 7,
   "metadata": {},
   "outputs": [
    {
     "name": "stdout",
     "output_type": "stream",
     "text": [
      "0\n",
      "70.72841596603394\n",
      "1\n",
      "65.89768767356873\n",
      "2\n",
      "64.07165026664734\n",
      "3\n",
      "64.69380164146423\n",
      "4\n",
      "63.932416915893555\n",
      "5\n",
      "63.2187397480011\n",
      "6\n",
      "64.15293502807617\n",
      "7\n",
      "64.07754397392273\n",
      "8\n",
      "63.818849086761475\n",
      "9\n",
      "63.02549648284912\n",
      "[[ 6.952 13.896 10.455 11.383 11.015 11.309 11.167 13.517 10.986 11.249]\n",
      " [15.945 11.556 18.392 18.708 18.357 18.768 17.558 19.415 15.029 15.261]\n",
      " [10.565 13.424  7.506 10.073  9.474 10.052 10.02  11.657 11.393 12.931]\n",
      " [10.066 13.645  9.072  7.203  8.756  7.606  8.555 16.502 10.359 11.028]\n",
      " [ 9.284 12.044  7.497  9.451  6.449  8.181  8.036 10.265 11.126 11.34 ]\n",
      " [11.825 14.024 10.624  9.927 10.648  9.043 12.498 13.129 11.985 12.474]\n",
      " [11.122 11.864 10.279 10.357 10.247 11.329  8.084 12.232 10.618 11.515]\n",
      " [27.626 27.631 26.655 26.597 26.588 25.882 26.454 25.204 25.689 28.18 ]\n",
      " [11.211 11.865 12.809 13.164 13.184 13.5   12.112 16.331  6.44  12.37 ]\n",
      " [11.977 10.874 12.926 12.568 12.627 12.86  12.537 14.81  11.516  6.627]]\n"
     ]
    },
    {
     "data": {
      "image/png": "[encoded data removed]",
      "text/plain": [
       "<Figure size 432x288 with 1 Axes>"
      ]
     },
     "metadata": {
      "needs_background": "light"
     },
     "output_type": "display_data"
    }
   ],
   "source": [
    "dist_matrix = np.zeros(shape=(10, 10))\n",
    "\n",
    "for i in range(10):\n",
    "    start = time.time()\n",
    "    outs_1 = pen_output([dataset_train[i]])[0]\n",
    "    print(i)\n",
    "    for j in range(10):\n",
    "        outs_2 = pen_output([attack.generate(dataset_train[j][:2000])])[0]\n",
    "        norms = []\n",
    "        for k in range(1000):\n",
    "            norms.append(norm(outs_1[\n",
    "                np.random.randint(0, 5000)] - outs_2[\n",
    "                np.random.randint(0, 2000)]))\n",
    "        dist_matrix[i][j] = np.mean(norms)\n",
    "    end = time.time()\n",
    "    print(end-start)\n",
    "\n",
    "print(dist_matrix.round(3))\n",
    "\n",
    "plt.imshow(dist_matrix / dist_matrix.max(), cmap=\"Greys\")\n",
    "plt.show()"
   ]
  },
  {
   "cell_type": "code",
   "execution_count": null,
   "metadata": {},
   "outputs": [],
   "source": []
  },
  {
   "cell_type": "markdown",
   "metadata": {},
   "source": [
    "## Top Adv Trained"
   ]
  },
  {
   "cell_type": "code",
   "execution_count": 4,
   "metadata": {},
   "outputs": [
    {
     "name": "stdout",
     "output_type": "stream",
     "text": [
      "WARNING:tensorflow:From /home/heigen/.conda/envs/cenv/lib/python3.6/site-packages/tensorflow/python/framework/op_def_library.py:263: colocate_with (from tensorflow.python.framework.ops) is deprecated and will be removed in a future version.\n",
      "Instructions for updating:\n",
      "Colocations handled automatically by placer.\n",
      "WARNING:tensorflow:From /home/heigen/.conda/envs/cenv/lib/python3.6/site-packages/keras/backend/tensorflow_backend.py:3445: calling dropout (from tensorflow.python.ops.nn_ops) with keep_prob is deprecated and will be removed in a future version.\n",
      "Instructions for updating:\n",
      "Please use `rate` instead of `keep_prob`. Rate should be set to `rate = 1 - keep_prob`.\n"
     ]
    }
   ],
   "source": [
    "model = build_cifar_model(num_classes, x_shape, conv_dropout=0.1 , dense_dropout=0.1)\n",
    "\n",
    "model.load_weights('/data1/Henry/adv_top.h5')\n",
    "\n",
    "op = optimizers.SGD(lr=0.001, decay=1e-4, momentum=0.9, nesterov=True)\n",
    "\n",
    "model.compile(loss='categorical_crossentropy', optimizer=op, metrics=['accuracy'])\n",
    "\n",
    "pen_output = K.function([model.layers[0].input, K.learning_phase()],\n",
    "                                  [model.layers[-5].output])"
   ]
  },
  {
   "cell_type": "code",
   "execution_count": 5,
   "metadata": {},
   "outputs": [
    {
     "name": "stdout",
     "output_type": "stream",
     "text": [
      "WARNING:tensorflow:From /home/heigen/.conda/envs/cenv/lib/python3.6/site-packages/keras/backend/tensorflow_backend.py:3298: softmax_cross_entropy_with_logits (from tensorflow.python.ops.nn_ops) is deprecated and will be removed in a future version.\n",
      "Instructions for updating:\n",
      "\n",
      "Future major versions of TensorFlow will allow gradients to flow\n",
      "into the labels input on backprop by default.\n",
      "\n",
      "See `tf.nn.softmax_cross_entropy_with_logits_v2`.\n",
      "\n",
      "WARNING:tensorflow:From /home/heigen/.conda/envs/cenv/lib/python3.6/site-packages/tensorflow/python/ops/math_ops.py:3066: to_int32 (from tensorflow.python.ops.math_ops) is deprecated and will be removed in a future version.\n",
      "Instructions for updating:\n",
      "Use tf.cast instead.\n"
     ]
    }
   ],
   "source": [
    "art_model = KerasClassifier(clip_values=(0, 1.), model=model, use_logits=False)\n",
    "attack = ProjectedGradientDescent(art_model, norm=2, random_eps=7, batch_size=32)\n",
    "\n",
    "adv_x = attack.generate(x_test)"
   ]
  },
  {
   "cell_type": "code",
   "execution_count": 6,
   "metadata": {},
   "outputs": [
    {
     "name": "stdout",
     "output_type": "stream",
     "text": [
      "10000/10000 [==============================] - 3s 285us/step\n",
      "[2.510446307373047, 0.9299]\n",
      "10000/10000 [==============================] - 2s 217us/step\n",
      "[11.331190688323975, 0.1805]\n"
     ]
    }
   ],
   "source": [
    "print(model.evaluate(x_test, y_test))\n",
    "print(model.evaluate(adv_x, y_test))"
   ]
  },
  {
   "cell_type": "code",
   "execution_count": null,
   "metadata": {},
   "outputs": [],
   "source": []
  },
  {
   "cell_type": "code",
   "execution_count": null,
   "metadata": {},
   "outputs": [],
   "source": []
  }
 ],
 "metadata": {
  "kernelspec": {
   "display_name": "Python 3",
   "language": "python",
   "name": "python3"
  },
  "language_info": {
   "codemirror_mode": {
    "name": "ipython",
    "version": 3
   },
   "file_extension": ".py",
   "mimetype": "text/x-python",
   "name": "python",
   "nbconvert_exporter": "python",
   "pygments_lexer": "ipython3",
   "version": "3.6.8"
  }
 },
 "nbformat": 4,
 "nbformat_minor": 2
}
