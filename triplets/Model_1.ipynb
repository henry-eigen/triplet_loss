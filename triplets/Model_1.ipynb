{
 "cells": [
  {
   "cell_type": "code",
   "execution_count": 1,
   "metadata": {},
   "outputs": [],
   "source": [
    "import sys\n",
    "sys.path.append('..')\n",
    "\n",
    "import os\n",
    "import psutil\n",
    "os.environ[\"CUDA_VISIBLE_DEVICES\"]=\"1\"\n",
    "\n",
    "import numpy as np\n",
    "np.random.seed(0)"
   ]
  },
  {
   "cell_type": "code",
   "execution_count": 2,
   "metadata": {},
   "outputs": [
    {
     "name": "stderr",
     "output_type": "stream",
     "text": [
      "Using TensorFlow backend.\n"
     ]
    }
   ],
   "source": [
    "import matplotlib.pyplot as plt\n",
    "from pylab import *\n",
    "from keras.models import Sequential\n",
    "from keras import optimizers\n",
    "from keras.models import load_model\n",
    "from keras.optimizers import Adam, SGD\n",
    "from keras.layers import Conv2D, ZeroPadding2D, Activation, Input, concatenate, Dropout, Convolution2D, Dense\n",
    "from keras.models import Model\n",
    "from keras.datasets import cifar10\n",
    "\n",
    "from keras.layers.normalization import BatchNormalization\n",
    "from keras.layers.pooling import MaxPooling2D\n",
    "from keras.layers.merge import Concatenate\n",
    "from keras.layers.core import Lambda, Flatten, Dense\n",
    "from keras.initializers import glorot_uniform,he_uniform\n",
    "\n",
    "from keras.preprocessing.image import ImageDataGenerator\n",
    "from keras.engine.topology import Layer\n",
    "from keras.regularizers import l2\n",
    "from keras import backend as K\n",
    "\n",
    "from IPython.display import SVG\n",
    "from keras.utils.vis_utils import model_to_dot\n",
    "\n",
    "from custom_lib.triplet_utils import buildDataSet, build_model\n",
    "from custom_lib.triplet_utils import get_batch_hard, compute_probs\n",
    "from custom_lib.triplet_utils import add_top, remove_top\n",
    "\n",
    "from art.classifiers import KerasClassifier\n",
    "from art.attacks.projected_gradient_descent import ProjectedGradientDescent\n",
    "from art.attacks.iterative_method import BasicIterativeMethod\n",
    "from art.defences.adversarial_trainer import AdversarialTrainer\n",
    "from art.attacks.fast_gradient import FastGradientMethod\n",
    "\n",
    "from custom_lib.build_resnet import resnet_v1, resnet_emb"
   ]
  },
  {
   "cell_type": "code",
   "execution_count": 12,
   "metadata": {},
   "outputs": [],
   "source": [
    "from custom_lib.triplet_loss import batch_hard_triplet_loss\n",
    "from custom_lib.triplet_loss import batch_all_triplet_loss\n",
    "from custom_lib.triplet_loss import mixed_loss\n",
    "from tensorflow.contrib.losses import metric_learning\n",
    "\n",
    "def keras_batch_hard_triplet_loss(labels, y_pred):\n",
    "    labels = K.flatten(labels)\n",
    "    return batch_hard_triplet_loss(labels, y_pred, margin = 0.05)\n",
    "\n",
    "def keras_batch_all_triplet_loss(labels, y_pred):\n",
    "    labels = K.flatten(labels)\n",
    "    return batch_all_triplet_loss(labels, y_pred, margin = 0.7)\n",
    "\n",
    "def keras_semi_hard_loss(labels, y_pred):\n",
    "    labels = K.flatten(labels)\n",
    "    return metric_learning.triplet_semihard_loss(labels, y_pred, margin=0.5)\n",
    "\n",
    "def keras_mixed_loss(labels, y_pred):\n",
    "    labels = K.flatten(labels)\n",
    "    return mixed_loss(labels, y_pred, margin = 0.7, ratio=0.2)"
   ]
  },
  {
   "cell_type": "code",
   "execution_count": 4,
   "metadata": {},
   "outputs": [],
   "source": [
    "def restrict_cpu():\n",
    "    p = psutil.Process()\n",
    "\n",
    "    for i in p.threads():\n",
    "        temp = psutil.Process(i.id)\n",
    "\n",
    "        temp.cpu_affinity([i for i in range(10)])"
   ]
  },
  {
   "cell_type": "code",
   "execution_count": 5,
   "metadata": {},
   "outputs": [],
   "source": [
    "from keras.utils import to_categorical\n",
    "\n",
    "(x_train, y_train), (x_test, y_test) = cifar10.load_data()\n",
    "\n",
    "x_train = x_train / 255.\n",
    "x_test = x_test / 255.\n",
    "\n",
    "val_train = to_categorical(y_train, 10)\n",
    "val_test = to_categorical(y_test, 10)"
   ]
  },
  {
   "cell_type": "code",
   "execution_count": 7,
   "metadata": {},
   "outputs": [],
   "source": [
    "import itertools\n",
    "import random\n",
    "\n",
    "learning_rate = 5e-6\n",
    "batch_size=64\n",
    "epochs=10\n",
    "\n",
    "nb_classes = 10\n",
    "img_rows, img_cols = 32, 32\n",
    "input_shape = (img_rows, img_cols, 3)\n",
    "in_shape = input_shape\n",
    "\n",
    "'''\n",
    "dataset_train, dataset_test, x_train_origin, y_train_origin, x_test_origin, y_test_origin = buildDataSet(cifar=True)\n",
    "\n",
    "del x_train_origin, y_train_origin, x_test_origin, y_test_origin\n",
    "\n",
    "dataset_train = np.array(list(itertools.chain.from_iterable(dataset_train)))\n",
    "dataset_test = np.array(list(itertools.chain.from_iterable(dataset_test)))\n",
    "\n",
    "dataset_y = np.array([i // 5000 for i in range(50000)])\n",
    "dataset_y = np.expand_dims(dataset_y, axis=1)\n",
    "\n",
    "dataset_y_c = to_categorical(dataset_y, 10)\n",
    "'''\n",
    "None"
   ]
  },
  {
   "cell_type": "code",
   "execution_count": null,
   "metadata": {},
   "outputs": [],
   "source": []
  },
  {
   "cell_type": "code",
   "execution_count": 8,
   "metadata": {},
   "outputs": [],
   "source": [
    "'''\n",
    "temp = resnet_v1(input_shape)\n",
    "\n",
    "temp.load_weights(\"saved_models/resnet.h5\")\n",
    "temp.compile(optimizer=Adam(lr=5e-4), loss='categorical_crossentropy', metrics=[\"accuracy\"])\n",
    "\n",
    "base_model = resnet_emb(input_shape)\n",
    "\n",
    "for i, layer in enumerate(base_model.layers):\n",
    "    layer.set_weights(temp.layers[i].get_weights())\n",
    "    \n",
    "base_model.save_weights(\"old_base.h5\")\n",
    "'''\n",
    "None"
   ]
  },
  {
   "cell_type": "code",
   "execution_count": 9,
   "metadata": {},
   "outputs": [
    {
     "name": "stdout",
     "output_type": "stream",
     "text": [
      "WARNING:tensorflow:From /home/heigen/.conda/envs/cenv/lib/python3.6/site-packages/tensorflow/python/framework/op_def_library.py:263: colocate_with (from tensorflow.python.framework.ops) is deprecated and will be removed in a future version.\n",
      "Instructions for updating:\n",
      "Colocations handled automatically by placer.\n",
      "WARNING:tensorflow:From /home/heigen/.conda/envs/cenv/lib/python3.6/site-packages/keras/backend/tensorflow_backend.py:3445: calling dropout (from tensorflow.python.ops.nn_ops) with keep_prob is deprecated and will be removed in a future version.\n",
      "Instructions for updating:\n",
      "Please use `rate` instead of `keep_prob`. Rate should be set to `rate = 1 - keep_prob`.\n"
     ]
    },
    {
     "data": {
      "image/svg+xml": [
       "<svg height=\"191pt\" viewBox=\"0.00 0.00 241.50 191.00\" width=\"242pt\" xmlns=\"http://www.w3.org/2000/svg\" xmlns:xlink=\"http://www.w3.org/1999/xlink\">\n",
       "<g class=\"graph\" id=\"graph0\" transform=\"scale(1 1) rotate(0) translate(4 187)\">\n",
       "<title>G</title>\n",
       "<polygon fill=\"white\" points=\"-4,4 -4,-187 237.5,-187 237.5,4 -4,4\" stroke=\"none\"/>\n",
       "<!-- 139650931291472 -->\n",
       "<g class=\"node\" id=\"node1\"><title>139650931291472</title>\n",
       "<polygon fill=\"none\" points=\"59,-146.5 59,-182.5 184,-182.5 184,-146.5 59,-146.5\" stroke=\"black\"/>\n",
       "<text font-family=\"Times,serif\" font-size=\"14.00\" text-anchor=\"middle\" x=\"121.5\" y=\"-160.8\">input_2: InputLayer</text>\n",
       "</g>\n",
       "<!-- 139650931291248 -->\n",
       "<g class=\"node\" id=\"node2\"><title>139650931291248</title>\n",
       "<polygon fill=\"none\" points=\"67.5,-73.5 67.5,-109.5 175.5,-109.5 175.5,-73.5 67.5,-73.5\" stroke=\"black\"/>\n",
       "<text font-family=\"Times,serif\" font-size=\"14.00\" text-anchor=\"middle\" x=\"121.5\" y=\"-87.8\">model_1: Model</text>\n",
       "</g>\n",
       "<!-- 139650931291472&#45;&gt;139650931291248 -->\n",
       "<g class=\"edge\" id=\"edge1\"><title>139650931291472-&gt;139650931291248</title>\n",
       "<path d=\"M121.5,-146.313C121.5,-138.289 121.5,-128.547 121.5,-119.569\" fill=\"none\" stroke=\"black\"/>\n",
       "<polygon fill=\"black\" points=\"125,-119.529 121.5,-109.529 118,-119.529 125,-119.529\" stroke=\"black\"/>\n",
       "</g>\n",
       "<!-- 139650466359784 -->\n",
       "<g class=\"node\" id=\"node3\"><title>139650466359784</title>\n",
       "<polygon fill=\"none\" points=\"0,-0.5 0,-36.5 117,-36.5 117,-0.5 0,-0.5\" stroke=\"black\"/>\n",
       "<text font-family=\"Times,serif\" font-size=\"14.00\" text-anchor=\"middle\" x=\"58.5\" y=\"-14.8\">emb_out: Lambda</text>\n",
       "</g>\n",
       "<!-- 139650931291248&#45;&gt;139650466359784 -->\n",
       "<g class=\"edge\" id=\"edge2\"><title>139650931291248-&gt;139650466359784</title>\n",
       "<path d=\"M106.249,-73.3129C98.511,-64.5918 88.9709,-53.8402 80.4576,-44.2459\" fill=\"none\" stroke=\"black\"/>\n",
       "<polygon fill=\"black\" points=\"82.8652,-41.6858 73.6101,-36.5288 77.6293,-46.3318 82.8652,-41.6858\" stroke=\"black\"/>\n",
       "</g>\n",
       "<!-- 139657579492184 -->\n",
       "<g class=\"node\" id=\"node4\"><title>139657579492184</title>\n",
       "<polygon fill=\"none\" points=\"135.5,-0.5 135.5,-36.5 233.5,-36.5 233.5,-0.5 135.5,-0.5\" stroke=\"black\"/>\n",
       "<text font-family=\"Times,serif\" font-size=\"14.00\" text-anchor=\"middle\" x=\"184.5\" y=\"-14.8\">cat_out: Dense</text>\n",
       "</g>\n",
       "<!-- 139650931291248&#45;&gt;139657579492184 -->\n",
       "<g class=\"edge\" id=\"edge3\"><title>139650931291248-&gt;139657579492184</title>\n",
       "<path d=\"M136.751,-73.3129C144.489,-64.5918 154.029,-53.8402 162.542,-44.2459\" fill=\"none\" stroke=\"black\"/>\n",
       "<polygon fill=\"black\" points=\"165.371,-46.3318 169.39,-36.5288 160.135,-41.6858 165.371,-46.3318\" stroke=\"black\"/>\n",
       "</g>\n",
       "</g>\n",
       "</svg>"
      ],
      "text/plain": [
       "<IPython.core.display.SVG object>"
      ]
     },
     "execution_count": 9,
     "metadata": {},
     "output_type": "execute_result"
    }
   ],
   "source": [
    "# -------------------- Base Model --------------------------\n",
    "\n",
    "base_model = resnet_emb(input_shape)\n",
    "base_model.load_weights(\"saved_models/old_base.h5\")\n",
    "\n",
    "base_in = Input(shape=in_shape)\n",
    "base_out = base_model(base_in)\n",
    "\n",
    "# -------------------- Emb Model ---------------------------\n",
    "\n",
    "emb_branch = Lambda(lambda  t: K.l2_normalize(t,axis=-1), name=\"emb_out\")(base_out)\n",
    "                                                  \n",
    "# -------------------- Categorical Model -------------------\n",
    "\n",
    "cat_branch = Dense(10, activation='softmax', name=\"cat_out\")(base_out)\n",
    "\n",
    "# -------------------- Compile -----------------------------\n",
    "\n",
    "model = Model(inputs=base_in, \n",
    "              outputs=[emb_branch, cat_branch], \n",
    "              name=\"fullnet\")\n",
    "\n",
    "SVG(model_to_dot(model).create(prog='dot', format='svg'))"
   ]
  },
  {
   "cell_type": "code",
   "execution_count": 13,
   "metadata": {},
   "outputs": [],
   "source": [
    "losses = {\n",
    "    \"emb_out\": keras_batch_hard_triplet_loss,\n",
    "    \"cat_out\": \"categorical_crossentropy\",\n",
    "}\n",
    "\n",
    "lossWeights = {\"emb_out\": 2, \"cat_out\": 0.3}\n",
    "\n",
    "model.compile(optimizer=Adam(lr=5e-4), loss=losses, loss_weights=lossWeights, metrics=[\"accuracy\"])"
   ]
  },
  {
   "cell_type": "code",
   "execution_count": 14,
   "metadata": {},
   "outputs": [],
   "source": [
    "b_in = Input(shape=in_shape)\n",
    "b_out = model(b_in)[1]\n",
    "\n",
    "adv_model = Model(inputs=b_in, outputs=b_out)\n",
    "adv_model.compile(loss=\"categorical_crossentropy\", optimizer=Adam(5e-4), metrics=[\"accuracy\"])"
   ]
  },
  {
   "cell_type": "code",
   "execution_count": 15,
   "metadata": {},
   "outputs": [
    {
     "name": "stdout",
     "output_type": "stream",
     "text": [
      "WARNING:tensorflow:From /home/heigen/.conda/envs/cenv/lib/python3.6/site-packages/tensorflow/python/ops/math_ops.py:3066: to_int32 (from tensorflow.python.ops.math_ops) is deprecated and will be removed in a future version.\n",
      "Instructions for updating:\n",
      "Use tf.cast instead.\n",
      "WARNING:tensorflow:From /home/heigen/.conda/envs/cenv/lib/python3.6/site-packages/tensorflow/python/ops/math_grad.py:102: div (from tensorflow.python.ops.math_ops) is deprecated and will be removed in a future version.\n",
      "Instructions for updating:\n",
      "Deprecated in favor of operator or tf.math.divide.\n",
      "Train on 50000 samples, validate on 10000 samples\n",
      "Epoch 1/1\n",
      "50000/50000 [==============================] - 81s 2ms/step - loss: 0.4496 - emb_out_loss: 0.1127 - cat_out_loss: 0.3702 - emb_out_acc: 0.0000e+00 - cat_out_acc: 0.8866 - val_loss: 0.4021 - val_emb_out_loss: 0.0843 - val_cat_out_loss: 0.4064 - val_emb_out_acc: 0.0000e+00 - val_cat_out_acc: 0.8670\n"
     ]
    },
    {
     "data": {
      "text/plain": [
       "<keras.callbacks.History at 0x7f0519b519e8>"
      ]
     },
     "execution_count": 15,
     "metadata": {},
     "output_type": "execute_result"
    }
   ],
   "source": [
    "model.fit(x_train, [y_train, val_train],\n",
    "          validation_data=(x_test, [y_test, val_test]),\n",
    "          epochs=1, \n",
    "          batch_size=32,\n",
    "          verbose=1)"
   ]
  },
  {
   "cell_type": "code",
   "execution_count": 16,
   "metadata": {},
   "outputs": [
    {
     "name": "stdout",
     "output_type": "stream",
     "text": [
      "WARNING:tensorflow:From /home/heigen/.conda/envs/cenv/lib/python3.6/site-packages/keras/backend/tensorflow_backend.py:3298: softmax_cross_entropy_with_logits (from tensorflow.python.ops.nn_ops) is deprecated and will be removed in a future version.\n",
      "Instructions for updating:\n",
      "\n",
      "Future major versions of TensorFlow will allow gradients to flow\n",
      "into the labels input on backprop by default.\n",
      "\n",
      "See `tf.nn.softmax_cross_entropy_with_logits_v2`.\n",
      "\n"
     ]
    }
   ],
   "source": [
    "art_model = KerasClassifier(clip_values=(0, 1.), model=adv_model, use_logits=False)\n",
    "attack = ProjectedGradientDescent(art_model, norm=2, eps=5, random_eps=True, eps_step=0.8, max_iter=6, batch_size=16)\n",
    "\n",
    "adv_test = attack.generate(x_test[:10])\n",
    "\n",
    "restrict_cpu()"
   ]
  },
  {
   "cell_type": "code",
   "execution_count": 13,
   "metadata": {},
   "outputs": [
    {
     "name": "stdout",
     "output_type": "stream",
     "text": [
      "Base images:\n",
      "loss 0.47745966601371764\n",
      "acc 0.8793\n",
      "\n",
      "Adv images:\n",
      "loss 13.410612855196\n",
      "acc 0.092625\n"
     ]
    }
   ],
   "source": [
    "eval_loss = adv_model.evaluate(x_test, val_test, verbose=0)\n",
    "\n",
    "print(\"Base images:\")\n",
    "for i, name in enumerate(adv_model.metrics_names):\n",
    "    print(name, eval_loss[i])\n",
    "    \n",
    "losses = []\n",
    "accs = []\n",
    "\n",
    "\n",
    "for i in range(0, 8000, 32):\n",
    "    adv_test = attack.generate(x_test[i:i+32])\n",
    "    eval_loss = adv_model.evaluate(adv_test, val_test[i:i+32], verbose=0)\n",
    "    losses.append(eval_loss[0])\n",
    "    accs.append(eval_loss[1])\n",
    "\n",
    "print(\"\\nAdv images:\")\n",
    "print('loss', np.mean(losses))\n",
    "print('acc', np.mean(accs))"
   ]
  },
  {
   "cell_type": "code",
   "execution_count": 17,
   "metadata": {},
   "outputs": [],
   "source": [
    "def batch_generator(X, Y, VAL, batch_size = 64):\n",
    "    \n",
    "    indices = np.arange(len(X)) \n",
    "    \n",
    "    #class_idx = random.randint(0, 9)\n",
    "    #indices = list(range(5000 * class_idx, (5000 * (class_idx + 1))))\n",
    "    \n",
    "    batch=[]\n",
    "    while True:\n",
    "            # it might be a good idea to shuffle your data before each epoch\n",
    "            np.random.shuffle(indices) \n",
    "            for i in indices:\n",
    "                batch.append(i)\n",
    "                if len(batch)==batch_size:\n",
    "                    adv_x = X[batch]\n",
    "                    adv_x[:128] = attack.generate(adv_x[:128])\n",
    "                    yield adv_x, [Y[batch], VAL[batch]]\n",
    "                    batch=[]\n",
    "\n",
    "train_generator = batch_generator(x_train, y_train, val_train, batch_size = 256)\n",
    "#train_generator = batch_generator(dataset_train, dataset_y, dataset_y_c, batch_size = 256)"
   ]
  },
  {
   "cell_type": "code",
   "execution_count": 28,
   "metadata": {},
   "outputs": [
    {
     "data": {
      "text/plain": [
       "['loss', 'emb_out_loss', 'cat_out_loss', 'emb_out_acc', 'cat_out_acc']"
      ]
     },
     "execution_count": 28,
     "metadata": {},
     "output_type": "execute_result"
    }
   ],
   "source": [
    "asdf = {key:[] for key in model.metrics_names}\n",
    "\n",
    "model.metrics_names"
   ]
  },
  {
   "cell_type": "code",
   "execution_count": 42,
   "metadata": {},
   "outputs": [],
   "source": [
    "#K.set_value(model.optimizer.lr, 5e-4)"
   ]
  },
  {
   "cell_type": "code",
   "execution_count": null,
   "metadata": {},
   "outputs": [
    {
     "name": "stdout",
     "output_type": "stream",
     "text": [
      "Starting training process!\n",
      "-------------------------------------\n",
      "\n",
      " ------------- \n",
      "\n",
      "[125] Time for 125 iterations: 2.0 mins, Train Loss: (0.11673343, 1.9577178, 0.5165312)\n",
      "\n",
      " ------------- \n",
      "\n",
      "[250] Time for 250 iterations: 4.0 mins, Train Loss: (0.098639384, 1.5557694, 0.5215625)\n",
      "\n",
      " ------------- \n",
      "\n",
      "[375] Time for 375 iterations: 5.9 mins, Train Loss: (0.09473609, 1.5482008, 0.51575)\n",
      "\n",
      " ------------- \n",
      "\n",
      "[500] Time for 500 iterations: 7.9 mins, Train Loss: (0.09134113, 1.5434161, 0.522375)\n",
      "\n",
      " ------------- \n",
      "\n",
      "[625] Time for 625 iterations: 9.9 mins, Train Loss: (0.08906166, 1.5632133, 0.51034373)\n",
      "\n",
      " ------------- \n",
      "\n",
      "[750] Time for 750 iterations: 11.9 mins, Train Loss: (0.08761311, 1.462558, 0.5398125)\n",
      "\n",
      " ------------- \n",
      "\n",
      "[875] Time for 875 iterations: 13.8 mins, Train Loss: (0.08660543, 1.4436023, 0.544125)\n",
      "\n",
      " ------------- \n",
      "\n",
      "[1000] Time for 1000 iterations: 15.8 mins, Train Loss: (0.08473483, 1.4050677, 0.5605625)\n",
      "\n",
      " ------------- \n",
      "\n",
      "[1125] Time for 1125 iterations: 17.7 mins, Train Loss: (0.083757006, 1.370434, 0.56053126)\n",
      "\n",
      " ------------- \n",
      "\n",
      "[1250] Time for 1250 iterations: 19.6 mins, Train Loss: (0.0827102, 1.3218921, 0.56909376)\n",
      "\n",
      " ------------- \n",
      "\n",
      "[1375] Time for 1375 iterations: 21.6 mins, Train Loss: (0.08177708, 1.314555, 0.57365626)\n",
      "\n",
      " ------------- \n",
      "\n",
      "[1500] Time for 1500 iterations: 23.6 mins, Train Loss: (0.081344925, 1.227159, 0.5894688)\n",
      "\n",
      " ------------- \n",
      "\n",
      "[1625] Time for 1625 iterations: 25.6 mins, Train Loss: (0.080301486, 1.2643015, 0.58225)\n",
      "\n",
      " ------------- \n",
      "\n",
      "[1750] Time for 1750 iterations: 27.5 mins, Train Loss: (0.079708785, 1.1814934, 0.606125)\n",
      "\n",
      " ------------- \n",
      "\n",
      "[1875] Time for 1875 iterations: 29.5 mins, Train Loss: (0.078786455, 1.1824387, 0.59928125)\n",
      "\n",
      " ------------- \n",
      "\n",
      "[2000] Time for 2000 iterations: 31.4 mins, Train Loss: (0.07785025, 1.1686893, 0.605)\n",
      "\n",
      " ------------- \n",
      "\n",
      "[2125] Time for 2125 iterations: 33.3 mins, Train Loss: (0.0772182, 1.1585517, 0.601625)\n",
      "\n",
      " ------------- \n",
      "\n",
      "[2250] Time for 2250 iterations: 35.2 mins, Train Loss: (0.07629658, 1.1130983, 0.61990625)\n",
      "\n",
      " ------------- \n",
      "\n",
      "[2375] Time for 2375 iterations: 37.2 mins, Train Loss: (0.07586249, 1.1171707, 0.617875)\n",
      "\n",
      " ------------- \n",
      "\n",
      "[2500] Time for 2500 iterations: 39.2 mins, Train Loss: (0.07518017, 1.0846808, 0.6301875)\n",
      "\n",
      " ------------- \n",
      "\n",
      "[2625] Time for 2625 iterations: 41.1 mins, Train Loss: (0.07481625, 1.0578454, 0.63615626)\n",
      "\n",
      " ------------- \n",
      "\n",
      "[2750] Time for 2750 iterations: 43.0 mins, Train Loss: (0.07412146, 1.1020869, 0.62640625)\n",
      "\n",
      " ------------- \n",
      "\n",
      "[2875] Time for 2875 iterations: 45.0 mins, Train Loss: (0.07381211, 1.0259876, 0.6531562)\n",
      "\n",
      " ------------- \n",
      "\n",
      "[3000] Time for 3000 iterations: 46.9 mins, Train Loss: (0.07314483, 1.0455737, 0.63953125)\n",
      "\n",
      " ------------- \n",
      "\n",
      "[3125] Time for 3125 iterations: 48.9 mins, Train Loss: (0.07291899, 1.0589818, 0.63225)\n",
      "\n",
      " ------------- \n",
      "\n",
      "[3250] Time for 3250 iterations: 50.9 mins, Train Loss: (0.07240624, 0.9834271, 0.65659374)\n",
      "\n",
      " ------------- \n",
      "\n",
      "[3375] Time for 3375 iterations: 52.9 mins, Train Loss: (0.071914494, 0.96782, 0.659)\n",
      "\n",
      " ------------- \n",
      "\n",
      "[3500] Time for 3500 iterations: 54.9 mins, Train Loss: (0.07149287, 1.0058888, 0.6445)\n",
      "\n",
      " ------------- \n",
      "\n",
      "[3625] Time for 3625 iterations: 56.9 mins, Train Loss: (0.071256645, 0.95695704, 0.6688125)\n",
      "\n",
      " ------------- \n",
      "\n",
      "[3750] Time for 3750 iterations: 58.9 mins, Train Loss: (0.0708118, 0.9675031, 0.663125)\n",
      "\n",
      " ------------- \n",
      "\n",
      "[3875] Time for 3875 iterations: 60.9 mins, Train Loss: (0.07063546, 0.97615623, 0.6536875)\n",
      "\n",
      " ------------- \n",
      "\n",
      "[4000] Time for 4000 iterations: 62.8 mins, Train Loss: (0.07010759, 0.9006133, 0.6874375)\n",
      "\n",
      " ------------- \n",
      "\n",
      "[4125] Time for 4125 iterations: 64.7 mins, Train Loss: (0.06973801, 0.8715215, 0.6945937)\n",
      "\n",
      " ------------- \n",
      "\n",
      "[4250] Time for 4250 iterations: 66.7 mins, Train Loss: (0.069468796, 0.8707496, 0.68915623)\n",
      "\n",
      " ------------- \n",
      "\n",
      "[4375] Time for 4375 iterations: 68.7 mins, Train Loss: (0.06950412, 0.84291583, 0.6965625)\n",
      "\n",
      " ------------- \n",
      "\n",
      "[4500] Time for 4500 iterations: 70.6 mins, Train Loss: (0.06929396, 0.8374474, 0.6941875)\n",
      "\n",
      " ------------- \n",
      "\n",
      "[4625] Time for 4625 iterations: 72.6 mins, Train Loss: (0.069077715, 0.8036378, 0.704875)\n",
      "\n",
      " ------------- \n",
      "\n",
      "[4750] Time for 4750 iterations: 74.5 mins, Train Loss: (0.069133274, 0.8369166, 0.6931875)\n",
      "\n",
      " ------------- \n",
      "\n",
      "[4875] Time for 4875 iterations: 76.5 mins, Train Loss: (0.06883621, 0.84840345, 0.6879375)\n",
      "\n",
      " ------------- \n",
      "\n",
      "[5000] Time for 5000 iterations: 78.4 mins, Train Loss: (0.06872789, 0.8230617, 0.69675)\n",
      "\n",
      " ------------- \n",
      "\n",
      "[5125] Time for 5125 iterations: 80.4 mins, Train Loss: (0.06849851, 0.8112804, 0.7021875)\n",
      "\n",
      " ------------- \n",
      "\n",
      "[5250] Time for 5250 iterations: 82.3 mins, Train Loss: (0.06836833, 0.7732822, 0.7123125)\n",
      "\n",
      " ------------- \n",
      "\n",
      "[5375] Time for 5375 iterations: 84.3 mins, Train Loss: (0.06805396, 0.76197517, 0.7174375)\n",
      "\n",
      " ------------- \n",
      "\n",
      "[5500] Time for 5500 iterations: 86.3 mins, Train Loss: (0.06790328, 0.7919269, 0.7082813)\n",
      "\n",
      " ------------- \n",
      "\n",
      "[5625] Time for 5625 iterations: 88.1 mins, Train Loss: (0.067626245, 0.83055615, 0.6918125)\n",
      "\n",
      " ------------- \n",
      "\n",
      "[5750] Time for 5750 iterations: 89.9 mins, Train Loss: (0.0674419, 0.7766527, 0.7098125)\n",
      "\n",
      " ------------- \n",
      "\n",
      "[5875] Time for 5875 iterations: 91.7 mins, Train Loss: (0.06731885, 0.777494, 0.7157813)\n",
      "\n",
      " ------------- \n",
      "\n",
      "[6000] Time for 6000 iterations: 93.5 mins, Train Loss: (0.067149796, 0.7379386, 0.72309375)\n",
      "\n",
      " ------------- \n",
      "\n",
      "[6125] Time for 6125 iterations: 95.4 mins, Train Loss: (0.067062676, 0.7589075, 0.71871877)\n",
      "\n",
      " ------------- \n",
      "\n",
      "[6250] Time for 6250 iterations: 97.2 mins, Train Loss: (0.06688768, 0.7540733, 0.7199063)\n",
      "\n",
      " ------------- \n",
      "\n",
      "[6375] Time for 6375 iterations: 99.0 mins, Train Loss: (0.06669814, 0.7525958, 0.7191875)\n"
     ]
    }
   ],
   "source": [
    "# Hyper parameters\n",
    "evaluate_every = 125 # interval for evaluating on one-shot tasks\n",
    "n_iter = 16_000 # No. of training iterations\n",
    "n_val = 250 # how many one-shot tasks to validate on\n",
    "n_iteration=0\n",
    "\n",
    "loss_list = []\n",
    "total_loss = []\n",
    "\n",
    "emb_vals = []\n",
    "cat_vals = []\n",
    "acc_vals = []\n",
    "\n",
    "print(\"Starting training process!\")\n",
    "print(\"-------------------------------------\")\n",
    "\n",
    "t_start = time.time()\n",
    "\n",
    "for i in range(1, n_iter+1):\n",
    "    \n",
    "    batch = train_generator.__next__()\n",
    "    \n",
    "    loss = model.train_on_batch(batch[0], batch[1])\n",
    "    \n",
    "    emb_vals.append(loss[1])\n",
    "    cat_vals.append(loss[2])\n",
    "    acc_vals.append(loss[4])\n",
    "    \n",
    "    n_iteration += 1\n",
    "    \n",
    "    if i % 4000 == 0:\n",
    "        K.set_value(model.optimizer.lr, K.get_value(model.optimizer.lr)/2.0)\n",
    "    \n",
    "    if i % evaluate_every == 0:\n",
    "        ploss = (np.mean(emb_vals), np.mean(cat_vals), np.mean(acc_vals))\n",
    "        loss_list.append(ploss)\n",
    "        emb_vals = []\n",
    "        cat_vals = []\n",
    "        acc_vals = []\n",
    "        print(\"\\n ------------- \\n\")\n",
    "        print(\"[{3}] Time for {0} iterations: {1:.1f} mins, Train Loss: {2}\".format(i, (time.time()-t_start)/60.0,ploss,n_iteration))"
   ]
  },
  {
   "cell_type": "code",
   "execution_count": 44,
   "metadata": {},
   "outputs": [
    {
     "name": "stdout",
     "output_type": "stream",
     "text": [
      "Base images:\n",
      "loss 14.616768774414062\n",
      "acc 0.1\n"
     ]
    },
    {
     "ename": "KeyboardInterrupt",
     "evalue": "",
     "output_type": "error",
     "traceback": [
      "\u001b[0;31m---------------------------------------------------------------------------\u001b[0m",
      "\u001b[0;31mKeyboardInterrupt\u001b[0m                         Traceback (most recent call last)",
      "\u001b[0;32m<ipython-input-44-b6086f6d58f3>\u001b[0m in \u001b[0;36m<module>\u001b[0;34m\u001b[0m\n\u001b[1;32m     10\u001b[0m \u001b[0;34m\u001b[0m\u001b[0m\n\u001b[1;32m     11\u001b[0m \u001b[0;32mfor\u001b[0m \u001b[0mi\u001b[0m \u001b[0;32min\u001b[0m \u001b[0mrange\u001b[0m\u001b[0;34m(\u001b[0m\u001b[0;36m0\u001b[0m\u001b[0;34m,\u001b[0m \u001b[0;36m8000\u001b[0m\u001b[0;34m,\u001b[0m \u001b[0;36m32\u001b[0m\u001b[0;34m)\u001b[0m\u001b[0;34m:\u001b[0m\u001b[0;34m\u001b[0m\u001b[0;34m\u001b[0m\u001b[0m\n\u001b[0;32m---> 12\u001b[0;31m     \u001b[0madv_test\u001b[0m \u001b[0;34m=\u001b[0m \u001b[0mattack\u001b[0m\u001b[0;34m.\u001b[0m\u001b[0mgenerate\u001b[0m\u001b[0;34m(\u001b[0m\u001b[0mx_test\u001b[0m\u001b[0;34m[\u001b[0m\u001b[0mi\u001b[0m\u001b[0;34m:\u001b[0m\u001b[0mi\u001b[0m\u001b[0;34m+\u001b[0m\u001b[0;36m32\u001b[0m\u001b[0;34m]\u001b[0m\u001b[0;34m)\u001b[0m\u001b[0;34m\u001b[0m\u001b[0;34m\u001b[0m\u001b[0m\n\u001b[0m\u001b[1;32m     13\u001b[0m     \u001b[0meval_loss\u001b[0m \u001b[0;34m=\u001b[0m \u001b[0madv_model\u001b[0m\u001b[0;34m.\u001b[0m\u001b[0mevaluate\u001b[0m\u001b[0;34m(\u001b[0m\u001b[0madv_test\u001b[0m\u001b[0;34m,\u001b[0m \u001b[0mval_test\u001b[0m\u001b[0;34m[\u001b[0m\u001b[0mi\u001b[0m\u001b[0;34m:\u001b[0m\u001b[0mi\u001b[0m\u001b[0;34m+\u001b[0m\u001b[0;36m32\u001b[0m\u001b[0;34m]\u001b[0m\u001b[0;34m,\u001b[0m \u001b[0mverbose\u001b[0m\u001b[0;34m=\u001b[0m\u001b[0;36m0\u001b[0m\u001b[0;34m)\u001b[0m\u001b[0;34m\u001b[0m\u001b[0;34m\u001b[0m\u001b[0m\n\u001b[1;32m     14\u001b[0m     \u001b[0mlosses\u001b[0m\u001b[0;34m.\u001b[0m\u001b[0mappend\u001b[0m\u001b[0;34m(\u001b[0m\u001b[0meval_loss\u001b[0m\u001b[0;34m[\u001b[0m\u001b[0;36m0\u001b[0m\u001b[0;34m]\u001b[0m\u001b[0;34m)\u001b[0m\u001b[0;34m\u001b[0m\u001b[0;34m\u001b[0m\u001b[0m\n",
      "\u001b[0;32m~/.conda/envs/cenv/lib/python3.6/site-packages/art/attacks/projected_gradient_descent.py\u001b[0m in \u001b[0;36mgenerate\u001b[0;34m(self, x, y, **kwargs)\u001b[0m\n\u001b[1;32m    144\u001b[0m \u001b[0;34m\u001b[0m\u001b[0m\n\u001b[1;32m    145\u001b[0m         logger.info('Success rate of attack: %.2f%%', rate_best if rate_best is not None else\n\u001b[0;32m--> 146\u001b[0;31m                     100 * compute_success(self.classifier, x, y, adv_x, self.targeted, batch_size=self.batch_size))\n\u001b[0m\u001b[1;32m    147\u001b[0m \u001b[0;34m\u001b[0m\u001b[0m\n\u001b[1;32m    148\u001b[0m         \u001b[0;32mreturn\u001b[0m \u001b[0madv_x_best\u001b[0m\u001b[0;34m\u001b[0m\u001b[0;34m\u001b[0m\u001b[0m\n",
      "\u001b[0;32m~/.conda/envs/cenv/lib/python3.6/site-packages/art/utils.py\u001b[0m in \u001b[0;36mcompute_success\u001b[0;34m(classifier, x_clean, labels, x_adv, targeted, batch_size)\u001b[0m\n\u001b[1;32m    363\u001b[0m         \u001b[0mrate\u001b[0m \u001b[0;34m=\u001b[0m \u001b[0mnp\u001b[0m\u001b[0;34m.\u001b[0m\u001b[0msum\u001b[0m\u001b[0;34m(\u001b[0m\u001b[0madv_preds\u001b[0m \u001b[0;34m==\u001b[0m \u001b[0mnp\u001b[0m\u001b[0;34m.\u001b[0m\u001b[0margmax\u001b[0m\u001b[0;34m(\u001b[0m\u001b[0mlabels\u001b[0m\u001b[0;34m,\u001b[0m \u001b[0maxis\u001b[0m\u001b[0;34m=\u001b[0m\u001b[0;36m1\u001b[0m\u001b[0;34m)\u001b[0m\u001b[0;34m)\u001b[0m \u001b[0;34m/\u001b[0m \u001b[0mx_adv\u001b[0m\u001b[0;34m.\u001b[0m\u001b[0mshape\u001b[0m\u001b[0;34m[\u001b[0m\u001b[0;36m0\u001b[0m\u001b[0;34m]\u001b[0m\u001b[0;34m\u001b[0m\u001b[0;34m\u001b[0m\u001b[0m\n\u001b[1;32m    364\u001b[0m     \u001b[0;32melse\u001b[0m\u001b[0;34m:\u001b[0m\u001b[0;34m\u001b[0m\u001b[0;34m\u001b[0m\u001b[0m\n\u001b[0;32m--> 365\u001b[0;31m         \u001b[0mpreds\u001b[0m \u001b[0;34m=\u001b[0m \u001b[0mnp\u001b[0m\u001b[0;34m.\u001b[0m\u001b[0margmax\u001b[0m\u001b[0;34m(\u001b[0m\u001b[0mclassifier\u001b[0m\u001b[0;34m.\u001b[0m\u001b[0mpredict\u001b[0m\u001b[0;34m(\u001b[0m\u001b[0mx_clean\u001b[0m\u001b[0;34m,\u001b[0m \u001b[0mbatch_size\u001b[0m\u001b[0;34m=\u001b[0m\u001b[0mbatch_size\u001b[0m\u001b[0;34m)\u001b[0m\u001b[0;34m,\u001b[0m \u001b[0maxis\u001b[0m\u001b[0;34m=\u001b[0m\u001b[0;36m1\u001b[0m\u001b[0;34m)\u001b[0m\u001b[0;34m\u001b[0m\u001b[0;34m\u001b[0m\u001b[0m\n\u001b[0m\u001b[1;32m    366\u001b[0m         \u001b[0mrate\u001b[0m \u001b[0;34m=\u001b[0m \u001b[0mnp\u001b[0m\u001b[0;34m.\u001b[0m\u001b[0msum\u001b[0m\u001b[0;34m(\u001b[0m\u001b[0madv_preds\u001b[0m \u001b[0;34m!=\u001b[0m \u001b[0mpreds\u001b[0m\u001b[0;34m)\u001b[0m \u001b[0;34m/\u001b[0m \u001b[0mx_adv\u001b[0m\u001b[0;34m.\u001b[0m\u001b[0mshape\u001b[0m\u001b[0;34m[\u001b[0m\u001b[0;36m0\u001b[0m\u001b[0;34m]\u001b[0m\u001b[0;34m\u001b[0m\u001b[0;34m\u001b[0m\u001b[0m\n\u001b[1;32m    367\u001b[0m \u001b[0;34m\u001b[0m\u001b[0m\n",
      "\u001b[0;32m~/.conda/envs/cenv/lib/python3.6/site-packages/art/classifiers/keras.py\u001b[0m in \u001b[0;36mpredict\u001b[0;34m(self, x, batch_size, **kwargs)\u001b[0m\n\u001b[1;32m    275\u001b[0m \u001b[0;34m\u001b[0m\u001b[0m\n\u001b[1;32m    276\u001b[0m         \u001b[0;31m# Apply defences\u001b[0m\u001b[0;34m\u001b[0m\u001b[0;34m\u001b[0m\u001b[0;34m\u001b[0m\u001b[0m\n\u001b[0;32m--> 277\u001b[0;31m         \u001b[0mx_preprocessed\u001b[0m\u001b[0;34m,\u001b[0m \u001b[0m_\u001b[0m \u001b[0;34m=\u001b[0m \u001b[0mself\u001b[0m\u001b[0;34m.\u001b[0m\u001b[0m_apply_preprocessing\u001b[0m\u001b[0;34m(\u001b[0m\u001b[0mx\u001b[0m\u001b[0;34m,\u001b[0m \u001b[0my\u001b[0m\u001b[0;34m=\u001b[0m\u001b[0;32mNone\u001b[0m\u001b[0;34m,\u001b[0m \u001b[0mfit\u001b[0m\u001b[0;34m=\u001b[0m\u001b[0;32mFalse\u001b[0m\u001b[0;34m)\u001b[0m\u001b[0;34m\u001b[0m\u001b[0;34m\u001b[0m\u001b[0m\n\u001b[0m\u001b[1;32m    278\u001b[0m \u001b[0;34m\u001b[0m\u001b[0m\n\u001b[1;32m    279\u001b[0m         \u001b[0;31m# Run predictions with batching\u001b[0m\u001b[0;34m\u001b[0m\u001b[0;34m\u001b[0m\u001b[0;34m\u001b[0m\u001b[0m\n",
      "\u001b[0;32m~/.conda/envs/cenv/lib/python3.6/site-packages/art/classifiers/classifier.py\u001b[0m in \u001b[0;36m_apply_preprocessing\u001b[0;34m(self, x, y, fit)\u001b[0m\n\u001b[1;32m    166\u001b[0m         \u001b[0my\u001b[0m \u001b[0;34m=\u001b[0m \u001b[0mcheck_and_transform_label_format\u001b[0m\u001b[0;34m(\u001b[0m\u001b[0my\u001b[0m\u001b[0;34m,\u001b[0m \u001b[0mself\u001b[0m\u001b[0;34m.\u001b[0m\u001b[0mnb_classes\u001b[0m\u001b[0;34m(\u001b[0m\u001b[0;34m)\u001b[0m\u001b[0;34m)\u001b[0m\u001b[0;34m\u001b[0m\u001b[0;34m\u001b[0m\u001b[0m\n\u001b[1;32m    167\u001b[0m         \u001b[0mx_preprocessed\u001b[0m\u001b[0;34m,\u001b[0m \u001b[0my_preprocessed\u001b[0m \u001b[0;34m=\u001b[0m \u001b[0mself\u001b[0m\u001b[0;34m.\u001b[0m\u001b[0m_apply_preprocessing_defences\u001b[0m\u001b[0;34m(\u001b[0m\u001b[0mx\u001b[0m\u001b[0;34m,\u001b[0m \u001b[0my\u001b[0m\u001b[0;34m,\u001b[0m \u001b[0mfit\u001b[0m\u001b[0;34m=\u001b[0m\u001b[0mfit\u001b[0m\u001b[0;34m)\u001b[0m\u001b[0;34m\u001b[0m\u001b[0;34m\u001b[0m\u001b[0m\n\u001b[0;32m--> 168\u001b[0;31m         \u001b[0mx_preprocessed\u001b[0m \u001b[0;34m=\u001b[0m \u001b[0mself\u001b[0m\u001b[0;34m.\u001b[0m\u001b[0m_apply_preprocessing_standardisation\u001b[0m\u001b[0;34m(\u001b[0m\u001b[0mx_preprocessed\u001b[0m\u001b[0;34m)\u001b[0m\u001b[0;34m\u001b[0m\u001b[0;34m\u001b[0m\u001b[0m\n\u001b[0m\u001b[1;32m    169\u001b[0m         \u001b[0;32mreturn\u001b[0m \u001b[0mx_preprocessed\u001b[0m\u001b[0;34m,\u001b[0m \u001b[0my_preprocessed\u001b[0m\u001b[0;34m\u001b[0m\u001b[0;34m\u001b[0m\u001b[0m\n\u001b[1;32m    170\u001b[0m \u001b[0;34m\u001b[0m\u001b[0m\n",
      "\u001b[0;32m~/.conda/envs/cenv/lib/python3.6/site-packages/art/classifiers/classifier.py\u001b[0m in \u001b[0;36m_apply_preprocessing_standardisation\u001b[0;34m(self, x)\u001b[0m\n\u001b[1;32m    208\u001b[0m             \u001b[0mdiv\u001b[0m \u001b[0;34m=\u001b[0m \u001b[0mnp\u001b[0m\u001b[0;34m.\u001b[0m\u001b[0masarray\u001b[0m\u001b[0;34m(\u001b[0m\u001b[0mdiv\u001b[0m\u001b[0;34m,\u001b[0m \u001b[0mdtype\u001b[0m\u001b[0;34m=\u001b[0m\u001b[0mx\u001b[0m\u001b[0;34m.\u001b[0m\u001b[0mdtype\u001b[0m\u001b[0;34m)\u001b[0m\u001b[0;34m\u001b[0m\u001b[0;34m\u001b[0m\u001b[0m\n\u001b[1;32m    209\u001b[0m \u001b[0;34m\u001b[0m\u001b[0m\n\u001b[0;32m--> 210\u001b[0;31m             \u001b[0mres\u001b[0m \u001b[0;34m=\u001b[0m \u001b[0mx\u001b[0m \u001b[0;34m-\u001b[0m \u001b[0msub\u001b[0m\u001b[0;34m\u001b[0m\u001b[0;34m\u001b[0m\u001b[0m\n\u001b[0m\u001b[1;32m    211\u001b[0m             \u001b[0mres\u001b[0m \u001b[0;34m=\u001b[0m \u001b[0mres\u001b[0m \u001b[0;34m/\u001b[0m \u001b[0mdiv\u001b[0m\u001b[0;34m\u001b[0m\u001b[0;34m\u001b[0m\u001b[0m\n\u001b[1;32m    212\u001b[0m \u001b[0;34m\u001b[0m\u001b[0m\n",
      "\u001b[0;31mKeyboardInterrupt\u001b[0m: "
     ]
    }
   ],
   "source": [
    "eval_loss = adv_model.evaluate(x_test, val_test, verbose=0)\n",
    "\n",
    "print(\"Base images:\")\n",
    "for i, name in enumerate(adv_model.metrics_names):\n",
    "    print(name, eval_loss[i])\n",
    "\n",
    "losses = []\n",
    "accs = []\n",
    "\n",
    "\n",
    "for i in range(0, 8000, 32):\n",
    "    adv_test = attack.generate(x_test[i:i+32])\n",
    "    eval_loss = adv_model.evaluate(adv_test, val_test[i:i+32], verbose=0)\n",
    "    losses.append(eval_loss[0])\n",
    "    accs.append(eval_loss[1])\n",
    "\n",
    "print(\"\\nAdv images:\")\n",
    "print('loss', np.mean(losses))\n",
    "print('acc', np.mean(accs))"
   ]
  },
  {
   "cell_type": "code",
   "execution_count": 31,
   "metadata": {},
   "outputs": [],
   "source": [
    "#model.save_weights(\"saved_models/adv_model_1_2.h5\")"
   ]
  },
  {
   "cell_type": "code",
   "execution_count": 26,
   "metadata": {},
   "outputs": [],
   "source": [
    "#old_loss = loss_list"
   ]
  },
  {
   "cell_type": "code",
   "execution_count": 27,
   "metadata": {},
   "outputs": [
    {
     "data": {
      "image/png": "[encoded data removed]",
      "text/plain": [
       "<Figure size 432x288 with 1 Axes>"
      ]
     },
     "metadata": {
      "needs_background": "light"
     },
     "output_type": "display_data"
    },
    {
     "data": {
      "image/png": "[encoded data removed]",
      "text/plain": [
       "<Figure size 432x288 with 1 Axes>"
      ]
     },
     "metadata": {
      "needs_background": "light"
     },
     "output_type": "display_data"
    },
    {
     "data": {
      "image/png": "[encoded data removed]",
      "text/plain": [
       "<Figure size 432x288 with 1 Axes>"
      ]
     },
     "metadata": {
      "needs_background": "light"
     },
     "output_type": "display_data"
    }
   ],
   "source": [
    "y_axis = [l[0] for l in loss_list]\n",
    "x_axis = np.linspace(0, 10_000, len(y_axis)).round()\n",
    "plt.plot(x_axis, y_axis)\n",
    "plt.title(\"Triplet loss\")\n",
    "plt.show()\n",
    "\n",
    "y_axis = [l[1] for l in loss_list]\n",
    "x_axis = np.linspace(0, 10_000, len(y_axis)).round()\n",
    "plt.plot(x_axis, y_axis, 'm')\n",
    "plt.title(\"Categorical loss\")\n",
    "plt.show()\n",
    "\n",
    "y_axis = [l[2] for l in loss_list]\n",
    "x_axis = np.linspace(0, 10_000, len(y_axis)).round()\n",
    "plt.plot(x_axis, y_axis, 'm')\n",
    "plt.title(\"Accuracy\")\n",
    "plt.show()"
   ]
  },
  {
   "cell_type": "code",
   "execution_count": null,
   "metadata": {},
   "outputs": [],
   "source": []
  },
  {
   "cell_type": "code",
   "execution_count": null,
   "metadata": {},
   "outputs": [],
   "source": []
  },
  {
   "cell_type": "code",
   "execution_count": null,
   "metadata": {},
   "outputs": [],
   "source": []
  },
  {
   "cell_type": "code",
   "execution_count": null,
   "metadata": {},
   "outputs": [],
   "source": []
  },
  {
   "cell_type": "code",
   "execution_count": null,
   "metadata": {},
   "outputs": [],
   "source": []
  },
  {
   "cell_type": "code",
   "execution_count": null,
   "metadata": {},
   "outputs": [],
   "source": []
  },
  {
   "cell_type": "code",
   "execution_count": null,
   "metadata": {},
   "outputs": [],
   "source": []
  }
 ],
 "metadata": {
  "kernelspec": {
   "display_name": "Python 3",
   "language": "python",
   "name": "python3"
  },
  "language_info": {
   "codemirror_mode": {
    "name": "ipython",
    "version": 3
   },
   "file_extension": ".py",
   "mimetype": "text/x-python",
   "name": "python",
   "nbconvert_exporter": "python",
   "pygments_lexer": "ipython3",
   "version": "3.6.8"
  }
 },
 "nbformat": 4,
 "nbformat_minor": 2
}
