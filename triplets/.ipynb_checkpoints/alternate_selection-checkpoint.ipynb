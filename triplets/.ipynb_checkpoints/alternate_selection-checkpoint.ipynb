{
 "cells": [
  {
   "cell_type": "code",
   "execution_count": null,
   "metadata": {},
   "outputs": [],
   "source": [
    "import sys\n",
    "sys.path.append('..')\n",
    "\n",
    "import os\n",
    "import psutil\n",
    "\n",
    "import numpy as np\n",
    "np.random.seed(0)"
   ]
  },
  {
   "cell_type": "code",
   "execution_count": 2,
   "metadata": {},
   "outputs": [
    {
     "name": "stderr",
     "output_type": "stream",
     "text": [
      "Using TensorFlow backend.\n"
     ]
    }
   ],
   "source": [
    "import matplotlib.pyplot as plt\n",
    "from pylab import *\n",
    "from keras.models import Sequential\n",
    "from keras import optimizers\n",
    "from keras.models import load_model\n",
    "from keras.optimizers import Adam, SGD\n",
    "from keras.layers import Conv2D, ZeroPadding2D, Activation, Input, concatenate, Dropout, Convolution2D\n",
    "from keras.models import Model\n",
    "from keras.datasets import cifar10\n",
    "\n",
    "from keras.layers.normalization import BatchNormalization\n",
    "from keras.layers.pooling import MaxPooling2D\n",
    "from keras.layers.merge import Concatenate\n",
    "from keras.layers.core import Lambda, Flatten, Dense\n",
    "\n",
    "from keras.preprocessing.image import ImageDataGenerator\n",
    "from keras.engine.topology import Layer\n",
    "from keras.regularizers import l2\n",
    "from keras import backend as K\n",
    "from keras.utils import plot_model,normalize\n",
    "\n",
    "from IPython.display import SVG\n",
    "from keras.utils.vis_utils import model_to_dot\n",
    "\n",
    "from custom_lib.triplet_utils import buildDataSet, build_model\n",
    "from custom_lib.triplet_utils import get_batch_hard, compute_probs\n",
    "from custom_lib.triplet_utils import add_top, remove_top\n",
    "\n",
    "from art.classifiers import KerasClassifier\n",
    "from art.attacks.projected_gradient_descent import ProjectedGradientDescent\n",
    "from art.attacks.iterative_method import BasicIterativeMethod\n",
    "from art.defences.adversarial_trainer import AdversarialTrainer\n",
    "from art.attacks.fast_gradient import FastGradientMethod\n",
    "\n",
    "from custom_lib.build_resnet import resnet_v1, resnet_emb"
   ]
  },
  {
   "cell_type": "code",
   "execution_count": 3,
   "metadata": {},
   "outputs": [],
   "source": [
    "from custom_lib.triplet_loss import batch_hard_triplet_loss\n",
    "from custom_lib.triplet_loss import batch_all_triplet_loss\n",
    "from custom_lib.triplet_loss import mixed_loss\n",
    "from tensorflow.contrib.losses import metric_learning\n",
    "\n",
    "def keras_batch_hard_triplet_loss(labels, y_pred):\n",
    "    labels = K.flatten(labels)\n",
    "    return batch_hard_triplet_loss(labels, y_pred, margin = 0.7)\n",
    "\n",
    "def keras_batch_all_triplet_loss(labels, y_pred):\n",
    "    labels = K.flatten(labels)\n",
    "    return batch_all_triplet_loss(labels, y_pred, margin = 0.7)\n",
    "\n",
    "def keras_semi_hard_loss(labels, y_pred):\n",
    "    labels = K.flatten(labels)\n",
    "    return metric_learning.triplet_semihard_loss(labels, y_pred, margin=0.7)\n",
    "\n",
    "def keras_mixed_loss(labels, y_pred):\n",
    "    labels = K.flatten(labels)\n",
    "    return mixed_loss(labels, y_pred, margin = 0.7, ratio=0.2)"
   ]
  },
  {
   "cell_type": "code",
   "execution_count": 5,
   "metadata": {},
   "outputs": [],
   "source": [
    "def restrict_cpu():\n",
    "    p = psutil.Process()\n",
    "\n",
    "    for i in p.threads():\n",
    "        temp = psutil.Process(i.id)\n",
    "\n",
    "        temp.cpu_affinity([i for i in range(4)])"
   ]
  },
  {
   "cell_type": "code",
   "execution_count": 9,
   "metadata": {},
   "outputs": [],
   "source": [
    "from keras.utils import to_categorical\n",
    "\n",
    "(x_train, y_train), (x_test, y_test) = cifar10.load_data()\n",
    "\n",
    "x_train = x_train / 255.\n",
    "x_test = x_test / 255.\n",
    "\n",
    "val_train = to_categorical(y_train, 10)\n",
    "val_test = to_categorical(y_test, 10)"
   ]
  },
  {
   "cell_type": "code",
   "execution_count": 10,
   "metadata": {},
   "outputs": [],
   "source": [
    "nb_classes = 10\n",
    "img_rows, img_cols = 32, 32\n",
    "input_shape = (img_rows, img_cols, 3)\n",
    "in_shape = input_shape\n",
    "\n",
    "dataset_train, dataset_test, x_train_origin, y_train_origin, x_test_origin, y_test_origin = buildDataSet(cifar=True)"
   ]
  },
  {
   "cell_type": "code",
   "execution_count": 11,
   "metadata": {},
   "outputs": [],
   "source": [
    "'''\n",
    "model = resnet_v1(input_shape=in_shape)\n",
    "model.load_weights(\"resnet.h5\")\n",
    "\n",
    "sgd = SGD(lr=0.01, momentum=0.9, nesterov=True)\n",
    "model.compile(loss='categorical_crossentropy', optimizer=sgd,metrics=['accuracy'])\n",
    "'''\n",
    "None"
   ]
  },
  {
   "cell_type": "code",
   "execution_count": 12,
   "metadata": {},
   "outputs": [
    {
     "name": "stdout",
     "output_type": "stream",
     "text": [
      "WARNING:tensorflow:From /home/heigen/.conda/envs/cenv/lib/python3.6/site-packages/tensorflow/python/framework/op_def_library.py:263: colocate_with (from tensorflow.python.framework.ops) is deprecated and will be removed in a future version.\n",
      "Instructions for updating:\n",
      "Colocations handled automatically by placer.\n",
      "WARNING:tensorflow:From /home/heigen/.conda/envs/cenv/lib/python3.6/site-packages/keras/backend/tensorflow_backend.py:3445: calling dropout (from tensorflow.python.ops.nn_ops) with keep_prob is deprecated and will be removed in a future version.\n",
      "Instructions for updating:\n",
      "Please use `rate` instead of `keep_prob`. Rate should be set to `rate = 1 - keep_prob`.\n",
      "WARNING:tensorflow:From ../custom_lib/triplet_loss.py:43: to_float (from tensorflow.python.ops.math_ops) is deprecated and will be removed in a future version.\n",
      "Instructions for updating:\n",
      "Use tf.cast instead.\n"
     ]
    }
   ],
   "source": [
    "learning_rate = 5e-6\n",
    "batch_size=64\n",
    "epochs=10\n",
    "\n",
    "model_end = resnet_emb(input_shape)\n",
    "model_end.load_weights(\"resnet_adv.h5\")\n",
    "\n",
    "model_end.compile(loss=keras_mixed_loss,\n",
    "              optimizer=Adam(learning_rate))"
   ]
  },
  {
   "cell_type": "code",
   "execution_count": 11,
   "metadata": {},
   "outputs": [],
   "source": [
    "base_in = Input(shape=in_shape)\n",
    "base_out = model_end(base_in)\n",
    "x = Dense(10, activation='softmax')(base_out)\n",
    "\n",
    "full_model = Model(inputs=base_in, outputs=x)"
   ]
  },
  {
   "cell_type": "code",
   "execution_count": 12,
   "metadata": {},
   "outputs": [
    {
     "name": "stdout",
     "output_type": "stream",
     "text": [
      "WARNING:tensorflow:From /home/heigen/.conda/envs/cenv/lib/python3.6/site-packages/tensorflow/python/ops/math_ops.py:3066: to_int32 (from tensorflow.python.ops.math_ops) is deprecated and will be removed in a future version.\n",
      "Instructions for updating:\n",
      "Use tf.cast instead.\n",
      "Train on 50000 samples, validate on 10000 samples\n",
      "Epoch 1/2\n",
      "50000/50000 [==============================] - 22s 434us/step - loss: 2.1843 - acc: 0.6515 - val_loss: 1.9612 - val_acc: 0.8588\n",
      "Epoch 2/2\n",
      "50000/50000 [==============================] - 16s 321us/step - loss: 1.7414 - acc: 0.9051 - val_loss: 1.5797 - val_acc: 0.8617\n",
      "WARNING:tensorflow:From /home/heigen/.conda/envs/cenv/lib/python3.6/site-packages/keras/backend/tensorflow_backend.py:3298: softmax_cross_entropy_with_logits (from tensorflow.python.ops.nn_ops) is deprecated and will be removed in a future version.\n",
      "Instructions for updating:\n",
      "\n",
      "Future major versions of TensorFlow will allow gradients to flow\n",
      "into the labels input on backprop by default.\n",
      "\n",
      "See `tf.nn.softmax_cross_entropy_with_logits_v2`.\n",
      "\n"
     ]
    }
   ],
   "source": [
    "train_full()\n",
    "\n",
    "adv_train, adv_test = generate_advs()"
   ]
  },
  {
   "cell_type": "code",
   "execution_count": 13,
   "metadata": {},
   "outputs": [
    {
     "name": "stdout",
     "output_type": "stream",
     "text": [
      "WARNING:tensorflow:From /home/heigen/.conda/envs/cenv/lib/python3.6/site-packages/tensorflow/python/ops/math_grad.py:102: div (from tensorflow.python.ops.math_ops) is deprecated and will be removed in a future version.\n",
      "Instructions for updating:\n",
      "Deprecated in favor of operator or tf.math.divide.\n",
      "Train on 100000 samples, validate on 10000 samples\n",
      "Epoch 1/20\n",
      "100000/100000 [==============================] - 94s 936us/step - loss: 1.3527 - val_loss: 1.0805\n",
      "Epoch 2/20\n",
      "100000/100000 [==============================] - 82s 815us/step - loss: 0.9650 - val_loss: 0.8477\n",
      "Epoch 3/20\n",
      "100000/100000 [==============================] - 81s 808us/step - loss: 0.8689 - val_loss: 0.8278\n",
      "Epoch 4/20\n",
      "100000/100000 [==============================] - 112s 1ms/step - loss: 0.8510 - val_loss: 0.8179\n",
      "Epoch 5/20\n",
      "100000/100000 [==============================] - 73s 730us/step - loss: 0.8381 - val_loss: 0.8100\n",
      "Epoch 6/20\n",
      "100000/100000 [==============================] - 82s 820us/step - loss: 0.8263 - val_loss: 0.8016\n",
      "Epoch 7/20\n",
      "100000/100000 [==============================] - 82s 821us/step - loss: 0.8142 - val_loss: 0.7923\n",
      "Epoch 8/20\n",
      "100000/100000 [==============================] - 81s 814us/step - loss: 0.8020 - val_loss: 0.7828\n",
      "Epoch 9/20\n",
      "100000/100000 [==============================] - 80s 795us/step - loss: 0.7905 - val_loss: 0.7738\n",
      "Epoch 10/20\n",
      "100000/100000 [==============================] - 78s 782us/step - loss: 0.7798 - val_loss: 0.7655\n",
      "Epoch 11/20\n",
      "100000/100000 [==============================] - 79s 787us/step - loss: 0.7702 - val_loss: 0.7584\n",
      "Epoch 12/20\n",
      "100000/100000 [==============================] - 77s 771us/step - loss: 0.7619 - val_loss: 0.7523\n",
      "Epoch 13/20\n",
      "100000/100000 [==============================] - 106s 1ms/step - loss: 0.7548 - val_loss: 0.7473\n",
      "Epoch 14/20\n",
      "100000/100000 [==============================] - 79s 794us/step - loss: 0.7490 - val_loss: 0.7430\n",
      "Epoch 15/20\n",
      "100000/100000 [==============================] - 82s 822us/step - loss: 0.7443 - val_loss: 0.7400\n",
      "Epoch 16/20\n",
      "100000/100000 [==============================] - 82s 817us/step - loss: 0.7407 - val_loss: 0.7372\n",
      "Epoch 17/20\n",
      "100000/100000 [==============================] - 78s 777us/step - loss: 0.7371 - val_loss: 0.7359\n",
      "Epoch 18/20\n",
      "100000/100000 [==============================] - 77s 773us/step - loss: 0.7233 - val_loss: 0.7210\n",
      "Epoch 19/20\n",
      "100000/100000 [==============================] - 77s 769us/step - loss: 0.6942 - val_loss: 0.7222\n",
      "Epoch 20/20\n",
      "100000/100000 [==============================] - 78s 775us/step - loss: 0.6740 - val_loss: 0.7281\n"
     ]
    },
    {
     "data": {
      "text/plain": [
       "<keras.callbacks.History at 0x7f33b8742f98>"
      ]
     },
     "execution_count": 13,
     "metadata": {},
     "output_type": "execute_result"
    }
   ],
   "source": [
    "train_set = np.concatenate((x_train, adv_train), axis=0)\n",
    "test_set = np.concatenate((y_train, y_train), axis=0)\n",
    "\n",
    "batch_size=64\n",
    "epochs=20\n",
    "learning_rate = 2e-5\n",
    "\n",
    "model_end.compile(loss=keras_batch_hard_triplet_loss,\n",
    "              optimizer=Adam(learning_rate))\n",
    "\n",
    "model_end.fit(train_set, test_set,\n",
    "              batch_size=batch_size,\n",
    "              epochs=epochs,\n",
    "              verbose=1,\n",
    "              shuffle=True,\n",
    "              validation_data=(x_test, y_test))"
   ]
  },
  {
   "cell_type": "code",
   "execution_count": 14,
   "metadata": {},
   "outputs": [],
   "source": [
    "model_end.save_weights(\"resnet_ad_t.h5\")"
   ]
  },
  {
   "cell_type": "code",
   "execution_count": 16,
   "metadata": {},
   "outputs": [
    {
     "name": "stdout",
     "output_type": "stream",
     "text": [
      "Train on 50000 samples, validate on 10000 samples\n",
      "Epoch 1/2\n",
      "50000/50000 [==============================] - 16s 321us/step - loss: 2.0830 - acc: 0.3417 - val_loss: 2.0305 - val_acc: 0.3783\n",
      "Epoch 2/2\n",
      "50000/50000 [==============================] - 12s 244us/step - loss: 1.9708 - acc: 0.3898 - val_loss: 1.9442 - val_acc: 0.3813\n",
      "10000/10000 [==============================] - 2s 167us/step\n"
     ]
    },
    {
     "data": {
      "text/plain": [
       "[2.126754496383667, 0.2666]"
      ]
     },
     "execution_count": 16,
     "metadata": {},
     "output_type": "execute_result"
    }
   ],
   "source": [
    "train_full(2)\n",
    "\n",
    "adv_train, adv_test = generate_advs()\n",
    "\n",
    "full_model.evaluate(adv_test, val_test)"
   ]
  },
  {
   "cell_type": "code",
   "execution_count": 44,
   "metadata": {},
   "outputs": [
    {
     "data": {
      "text/plain": [
       "8976"
      ]
     },
     "execution_count": 44,
     "metadata": {},
     "output_type": "execute_result"
    }
   ],
   "source": [
    "#preds = full_model.predict(x_test)\n",
    "\n",
    "(np.argmax(preds, axis=1) == 4).sum()"
   ]
  },
  {
   "cell_type": "code",
   "execution_count": 33,
   "metadata": {},
   "outputs": [
    {
     "name": "stdout",
     "output_type": "stream",
     "text": [
      "Train on 100000 samples, validate on 10000 samples\n",
      "Epoch 1/15\n",
      "100000/100000 [==============================] - 253s 3ms/step - loss: 1.5367 - val_loss: 1.0269\n",
      "Epoch 2/15\n",
      "100000/100000 [==============================] - 115s 1ms/step - loss: 1.4099 - val_loss: 1.0999\n",
      "Epoch 3/15\n",
      "100000/100000 [==============================] - 67s 668us/step - loss: 1.2797 - val_loss: 1.1054\n",
      "Epoch 4/15\n",
      "100000/100000 [==============================] - 67s 672us/step - loss: 1.1495 - val_loss: 1.0202\n",
      "Epoch 5/15\n",
      "100000/100000 [==============================] - 66s 659us/step - loss: 0.9661 - val_loss: 0.8802\n",
      "Epoch 6/15\n",
      "100000/100000 [==============================] - 67s 668us/step - loss: 0.9000 - val_loss: 0.8504\n",
      "Epoch 7/15\n",
      "100000/100000 [==============================] - 75s 752us/step - loss: 0.8813 - val_loss: 0.8382\n",
      "Epoch 8/15\n",
      "100000/100000 [==============================] - 94s 942us/step - loss: 0.8699 - val_loss: 0.8310\n",
      "Epoch 9/15\n",
      "100000/100000 [==============================] - 108s 1ms/step - loss: 0.8616 - val_loss: 0.8262\n",
      "Epoch 10/15\n",
      "100000/100000 [==============================] - 68s 680us/step - loss: 0.8549 - val_loss: 0.8224\n",
      "Epoch 11/15\n",
      "100000/100000 [==============================] - 217s 2ms/step - loss: 0.8490 - val_loss: 0.8194\n",
      "Epoch 12/15\n",
      "100000/100000 [==============================] - 116s 1ms/step - loss: 0.8435 - val_loss: 0.8163\n",
      "Epoch 13/15\n",
      "100000/100000 [==============================] - 69s 690us/step - loss: 0.8380 - val_loss: 0.8129\n",
      "Epoch 14/15\n",
      "100000/100000 [==============================] - 96s 959us/step - loss: 0.8318 - val_loss: 0.8089\n",
      "Epoch 15/15\n",
      "100000/100000 [==============================] - 223s 2ms/step - loss: 0.8260 - val_loss: 0.8053\n"
     ]
    },
    {
     "data": {
      "text/plain": [
       "<keras.callbacks.History at 0x7fd7fe85c6a0>"
      ]
     },
     "execution_count": 33,
     "metadata": {},
     "output_type": "execute_result"
    }
   ],
   "source": [
    "train_set = np.concatenate((x_train, adv_train), axis=0)\n",
    "test_set = np.concatenate((y_train, y_train), axis=0)\n",
    "\n",
    "batch_size=64\n",
    "epochs=15\n",
    "learning_rate = 5e-6\n",
    "\n",
    "model_end.compile(loss=keras_batch_hard_triplet_loss,\n",
    "              optimizer=Adam(learning_rate))\n",
    "\n",
    "model_end.fit(train_set, test_set,\n",
    "              batch_size=batch_size,\n",
    "              epochs=epochs,\n",
    "              verbose=1,\n",
    "              shuffle=True,\n",
    "              validation_data=(x_test, y_test))"
   ]
  },
  {
   "cell_type": "code",
   "execution_count": 27,
   "metadata": {},
   "outputs": [
    {
     "name": "stdout",
     "output_type": "stream",
     "text": [
      "50000/50000 [==============================] - 17s 332us/step\n"
     ]
    },
    {
     "data": {
      "text/plain": [
       "[2.0507572882080076, 0.42604]"
      ]
     },
     "execution_count": 27,
     "metadata": {},
     "output_type": "execute_result"
    }
   ],
   "source": [
    "from art.attacks.fast_gradient import FastGradientMethod\n",
    "\n",
    "art_model = KerasClassifier(clip_values=(0, 1.), model=full_model, use_logits=False)\n",
    "attack = FastGradientMethod(art_model, eps=0.04, batch_size=64)\n",
    "\n",
    "adv_imgs = attack.generate(x_test[0:10])\n",
    "\n",
    "restrict_cpu()\n",
    "    \n",
    "adv_train = attack.generate(x_train)\n",
    "adv_test = attack.generate(x_test)\n",
    "\n",
    "full_model.evaluate(adv_imgs, to_categorical(y_train, 10))"
   ]
  },
  {
   "cell_type": "code",
   "execution_count": 22,
   "metadata": {},
   "outputs": [
    {
     "name": "stdout",
     "output_type": "stream",
     "text": [
      "Train on 50000 samples, validate on 10000 samples\n",
      "Epoch 1/50\n",
      "50000/50000 [==============================] - 64s 1ms/step - loss: 0.5396 - val_loss: 0.5849\n",
      "Epoch 2/50\n",
      "50000/50000 [==============================] - 51s 1ms/step - loss: 0.5148 - val_loss: 0.5714\n",
      "Epoch 3/50\n",
      "50000/50000 [==============================] - 50s 1ms/step - loss: 0.4962 - val_loss: 0.5621\n",
      "Epoch 4/50\n",
      "50000/50000 [==============================] - 51s 1ms/step - loss: 0.4832 - val_loss: 0.5536\n",
      "Epoch 5/50\n",
      "50000/50000 [==============================] - 49s 985us/step - loss: 0.4741 - val_loss: 0.5477\n",
      "Epoch 6/50\n",
      "50000/50000 [==============================] - 49s 975us/step - loss: 0.4643 - val_loss: 0.5416\n",
      "Epoch 7/50\n",
      "50000/50000 [==============================] - 49s 985us/step - loss: 0.4568 - val_loss: 0.5377\n",
      "Epoch 8/50\n",
      "50000/50000 [==============================] - 49s 987us/step - loss: 0.4520 - val_loss: 0.5352\n",
      "Epoch 9/50\n",
      "50000/50000 [==============================] - 50s 1ms/step - loss: 0.4464 - val_loss: 0.5312\n",
      "Epoch 10/50\n",
      "50000/50000 [==============================] - 50s 1ms/step - loss: 0.4438 - val_loss: 0.5275\n",
      "Epoch 11/50\n",
      "50000/50000 [==============================] - 48s 962us/step - loss: 0.4355 - val_loss: 0.5258\n",
      "Epoch 12/50\n",
      "50000/50000 [==============================] - 46s 924us/step - loss: 0.4326 - val_loss: 0.5251\n",
      "Epoch 13/50\n",
      "50000/50000 [==============================] - 49s 971us/step - loss: 0.4284 - val_loss: 0.5227\n",
      "Epoch 14/50\n",
      "50000/50000 [==============================] - 47s 940us/step - loss: 0.4211 - val_loss: 0.5201\n",
      "Epoch 15/50\n",
      "50000/50000 [==============================] - 49s 983us/step - loss: 0.4223 - val_loss: 0.5202\n",
      "Epoch 16/50\n",
      "50000/50000 [==============================] - 50s 1ms/step - loss: 0.4177 - val_loss: 0.5186\n",
      "Epoch 17/50\n",
      "50000/50000 [==============================] - 50s 991us/step - loss: 0.4149 - val_loss: 0.5165\n",
      "Epoch 18/50\n",
      "50000/50000 [==============================] - 49s 977us/step - loss: 0.4107 - val_loss: 0.5169\n",
      "Epoch 19/50\n",
      "50000/50000 [==============================] - 49s 983us/step - loss: 0.4135 - val_loss: 0.5147\n",
      "Epoch 20/50\n",
      "50000/50000 [==============================] - 49s 984us/step - loss: 0.4092 - val_loss: 0.5129\n",
      "Epoch 21/50\n",
      "50000/50000 [==============================] - 49s 978us/step - loss: 0.4071 - val_loss: 0.5124\n",
      "Epoch 22/50\n",
      "50000/50000 [==============================] - 49s 977us/step - loss: 0.4052 - val_loss: 0.5124\n",
      "Epoch 23/50\n",
      "50000/50000 [==============================] - 50s 1ms/step - loss: 0.4018 - val_loss: 0.5119\n",
      "Epoch 24/50\n",
      "23744/50000 [=============>................] - ETA: 24s - loss: 0.4019"
     ]
    },
    {
     "ename": "KeyboardInterrupt",
     "evalue": "",
     "output_type": "error",
     "traceback": [
      "\u001b[0;31m---------------------------------------------------------------------------\u001b[0m",
      "\u001b[0;31mKeyboardInterrupt\u001b[0m                         Traceback (most recent call last)",
      "\u001b[0;32m<ipython-input-22-79ea19adf29f>\u001b[0m in \u001b[0;36m<module>\u001b[0;34m\u001b[0m\n\u001b[1;32m      9\u001b[0m           \u001b[0mepochs\u001b[0m\u001b[0;34m=\u001b[0m\u001b[0mepochs\u001b[0m\u001b[0;34m,\u001b[0m\u001b[0;34m\u001b[0m\u001b[0;34m\u001b[0m\u001b[0m\n\u001b[1;32m     10\u001b[0m           \u001b[0mverbose\u001b[0m\u001b[0;34m=\u001b[0m\u001b[0;36m1\u001b[0m\u001b[0;34m,\u001b[0m\u001b[0;34m\u001b[0m\u001b[0;34m\u001b[0m\u001b[0m\n\u001b[0;32m---> 11\u001b[0;31m           validation_data=(adv_test, y_test))\n\u001b[0m",
      "\u001b[0;32m~/.conda/envs/cenv/lib/python3.6/site-packages/keras/engine/training.py\u001b[0m in \u001b[0;36mfit\u001b[0;34m(self, x, y, batch_size, epochs, verbose, callbacks, validation_split, validation_data, shuffle, class_weight, sample_weight, initial_epoch, steps_per_epoch, validation_steps, **kwargs)\u001b[0m\n\u001b[1;32m   1037\u001b[0m                                         \u001b[0minitial_epoch\u001b[0m\u001b[0;34m=\u001b[0m\u001b[0minitial_epoch\u001b[0m\u001b[0;34m,\u001b[0m\u001b[0;34m\u001b[0m\u001b[0;34m\u001b[0m\u001b[0m\n\u001b[1;32m   1038\u001b[0m                                         \u001b[0msteps_per_epoch\u001b[0m\u001b[0;34m=\u001b[0m\u001b[0msteps_per_epoch\u001b[0m\u001b[0;34m,\u001b[0m\u001b[0;34m\u001b[0m\u001b[0;34m\u001b[0m\u001b[0m\n\u001b[0;32m-> 1039\u001b[0;31m                                         validation_steps=validation_steps)\n\u001b[0m\u001b[1;32m   1040\u001b[0m \u001b[0;34m\u001b[0m\u001b[0m\n\u001b[1;32m   1041\u001b[0m     def evaluate(self, x=None, y=None,\n",
      "\u001b[0;32m~/.conda/envs/cenv/lib/python3.6/site-packages/keras/engine/training_arrays.py\u001b[0m in \u001b[0;36mfit_loop\u001b[0;34m(model, f, ins, out_labels, batch_size, epochs, verbose, callbacks, val_f, val_ins, shuffle, callback_metrics, initial_epoch, steps_per_epoch, validation_steps)\u001b[0m\n\u001b[1;32m    197\u001b[0m                     \u001b[0mins_batch\u001b[0m\u001b[0;34m[\u001b[0m\u001b[0mi\u001b[0m\u001b[0;34m]\u001b[0m \u001b[0;34m=\u001b[0m \u001b[0mins_batch\u001b[0m\u001b[0;34m[\u001b[0m\u001b[0mi\u001b[0m\u001b[0;34m]\u001b[0m\u001b[0;34m.\u001b[0m\u001b[0mtoarray\u001b[0m\u001b[0;34m(\u001b[0m\u001b[0;34m)\u001b[0m\u001b[0;34m\u001b[0m\u001b[0;34m\u001b[0m\u001b[0m\n\u001b[1;32m    198\u001b[0m \u001b[0;34m\u001b[0m\u001b[0m\n\u001b[0;32m--> 199\u001b[0;31m                 \u001b[0mouts\u001b[0m \u001b[0;34m=\u001b[0m \u001b[0mf\u001b[0m\u001b[0;34m(\u001b[0m\u001b[0mins_batch\u001b[0m\u001b[0;34m)\u001b[0m\u001b[0;34m\u001b[0m\u001b[0;34m\u001b[0m\u001b[0m\n\u001b[0m\u001b[1;32m    200\u001b[0m                 \u001b[0mouts\u001b[0m \u001b[0;34m=\u001b[0m \u001b[0mto_list\u001b[0m\u001b[0;34m(\u001b[0m\u001b[0mouts\u001b[0m\u001b[0;34m)\u001b[0m\u001b[0;34m\u001b[0m\u001b[0;34m\u001b[0m\u001b[0m\n\u001b[1;32m    201\u001b[0m                 \u001b[0;32mfor\u001b[0m \u001b[0ml\u001b[0m\u001b[0;34m,\u001b[0m \u001b[0mo\u001b[0m \u001b[0;32min\u001b[0m \u001b[0mzip\u001b[0m\u001b[0;34m(\u001b[0m\u001b[0mout_labels\u001b[0m\u001b[0;34m,\u001b[0m \u001b[0mouts\u001b[0m\u001b[0;34m)\u001b[0m\u001b[0;34m:\u001b[0m\u001b[0;34m\u001b[0m\u001b[0;34m\u001b[0m\u001b[0m\n",
      "\u001b[0;32m~/.conda/envs/cenv/lib/python3.6/site-packages/keras/backend/tensorflow_backend.py\u001b[0m in \u001b[0;36m__call__\u001b[0;34m(self, inputs)\u001b[0m\n\u001b[1;32m   2713\u001b[0m                 \u001b[0;32mreturn\u001b[0m \u001b[0mself\u001b[0m\u001b[0;34m.\u001b[0m\u001b[0m_legacy_call\u001b[0m\u001b[0;34m(\u001b[0m\u001b[0minputs\u001b[0m\u001b[0;34m)\u001b[0m\u001b[0;34m\u001b[0m\u001b[0;34m\u001b[0m\u001b[0m\n\u001b[1;32m   2714\u001b[0m \u001b[0;34m\u001b[0m\u001b[0m\n\u001b[0;32m-> 2715\u001b[0;31m             \u001b[0;32mreturn\u001b[0m \u001b[0mself\u001b[0m\u001b[0;34m.\u001b[0m\u001b[0m_call\u001b[0m\u001b[0;34m(\u001b[0m\u001b[0minputs\u001b[0m\u001b[0;34m)\u001b[0m\u001b[0;34m\u001b[0m\u001b[0;34m\u001b[0m\u001b[0m\n\u001b[0m\u001b[1;32m   2716\u001b[0m         \u001b[0;32melse\u001b[0m\u001b[0;34m:\u001b[0m\u001b[0;34m\u001b[0m\u001b[0;34m\u001b[0m\u001b[0m\n\u001b[1;32m   2717\u001b[0m             \u001b[0;32mif\u001b[0m \u001b[0mpy_any\u001b[0m\u001b[0;34m(\u001b[0m\u001b[0mis_tensor\u001b[0m\u001b[0;34m(\u001b[0m\u001b[0mx\u001b[0m\u001b[0;34m)\u001b[0m \u001b[0;32mfor\u001b[0m \u001b[0mx\u001b[0m \u001b[0;32min\u001b[0m \u001b[0minputs\u001b[0m\u001b[0;34m)\u001b[0m\u001b[0;34m:\u001b[0m\u001b[0;34m\u001b[0m\u001b[0;34m\u001b[0m\u001b[0m\n",
      "\u001b[0;32m~/.conda/envs/cenv/lib/python3.6/site-packages/keras/backend/tensorflow_backend.py\u001b[0m in \u001b[0;36m_call\u001b[0;34m(self, inputs)\u001b[0m\n\u001b[1;32m   2673\u001b[0m             \u001b[0mfetched\u001b[0m \u001b[0;34m=\u001b[0m \u001b[0mself\u001b[0m\u001b[0;34m.\u001b[0m\u001b[0m_callable_fn\u001b[0m\u001b[0;34m(\u001b[0m\u001b[0;34m*\u001b[0m\u001b[0marray_vals\u001b[0m\u001b[0;34m,\u001b[0m \u001b[0mrun_metadata\u001b[0m\u001b[0;34m=\u001b[0m\u001b[0mself\u001b[0m\u001b[0;34m.\u001b[0m\u001b[0mrun_metadata\u001b[0m\u001b[0;34m)\u001b[0m\u001b[0;34m\u001b[0m\u001b[0;34m\u001b[0m\u001b[0m\n\u001b[1;32m   2674\u001b[0m         \u001b[0;32melse\u001b[0m\u001b[0;34m:\u001b[0m\u001b[0;34m\u001b[0m\u001b[0;34m\u001b[0m\u001b[0m\n\u001b[0;32m-> 2675\u001b[0;31m             \u001b[0mfetched\u001b[0m \u001b[0;34m=\u001b[0m \u001b[0mself\u001b[0m\u001b[0;34m.\u001b[0m\u001b[0m_callable_fn\u001b[0m\u001b[0;34m(\u001b[0m\u001b[0;34m*\u001b[0m\u001b[0marray_vals\u001b[0m\u001b[0;34m)\u001b[0m\u001b[0;34m\u001b[0m\u001b[0;34m\u001b[0m\u001b[0m\n\u001b[0m\u001b[1;32m   2676\u001b[0m         \u001b[0;32mreturn\u001b[0m \u001b[0mfetched\u001b[0m\u001b[0;34m[\u001b[0m\u001b[0;34m:\u001b[0m\u001b[0mlen\u001b[0m\u001b[0;34m(\u001b[0m\u001b[0mself\u001b[0m\u001b[0;34m.\u001b[0m\u001b[0moutputs\u001b[0m\u001b[0;34m)\u001b[0m\u001b[0;34m]\u001b[0m\u001b[0;34m\u001b[0m\u001b[0;34m\u001b[0m\u001b[0m\n\u001b[1;32m   2677\u001b[0m \u001b[0;34m\u001b[0m\u001b[0m\n",
      "\u001b[0;32m~/.conda/envs/cenv/lib/python3.6/site-packages/tensorflow/python/client/session.py\u001b[0m in \u001b[0;36m__call__\u001b[0;34m(self, *args, **kwargs)\u001b[0m\n\u001b[1;32m   1437\u001b[0m           ret = tf_session.TF_SessionRunCallable(\n\u001b[1;32m   1438\u001b[0m               \u001b[0mself\u001b[0m\u001b[0;34m.\u001b[0m\u001b[0m_session\u001b[0m\u001b[0;34m.\u001b[0m\u001b[0m_session\u001b[0m\u001b[0;34m,\u001b[0m \u001b[0mself\u001b[0m\u001b[0;34m.\u001b[0m\u001b[0m_handle\u001b[0m\u001b[0;34m,\u001b[0m \u001b[0margs\u001b[0m\u001b[0;34m,\u001b[0m \u001b[0mstatus\u001b[0m\u001b[0;34m,\u001b[0m\u001b[0;34m\u001b[0m\u001b[0;34m\u001b[0m\u001b[0m\n\u001b[0;32m-> 1439\u001b[0;31m               run_metadata_ptr)\n\u001b[0m\u001b[1;32m   1440\u001b[0m         \u001b[0;32mif\u001b[0m \u001b[0mrun_metadata\u001b[0m\u001b[0;34m:\u001b[0m\u001b[0;34m\u001b[0m\u001b[0;34m\u001b[0m\u001b[0m\n\u001b[1;32m   1441\u001b[0m           \u001b[0mproto_data\u001b[0m \u001b[0;34m=\u001b[0m \u001b[0mtf_session\u001b[0m\u001b[0;34m.\u001b[0m\u001b[0mTF_GetBuffer\u001b[0m\u001b[0;34m(\u001b[0m\u001b[0mrun_metadata_ptr\u001b[0m\u001b[0;34m)\u001b[0m\u001b[0;34m\u001b[0m\u001b[0;34m\u001b[0m\u001b[0m\n",
      "\u001b[0;31mKeyboardInterrupt\u001b[0m: "
     ]
    }
   ],
   "source": [
    "batch_size=64\n",
    "epochs=50\n",
    "\n",
    "model_end.compile(loss=keras_semi_hard_loss,\n",
    "                  optimizer=Adam(5e-6))\n",
    "\n",
    "model_end.fit(adv_imgs, y_train,\n",
    "          batch_size=batch_size,\n",
    "          epochs=epochs,\n",
    "          verbose=1,\n",
    "          validation_data=(adv_test, y_test))"
   ]
  },
  {
   "cell_type": "code",
   "execution_count": 29,
   "metadata": {},
   "outputs": [],
   "source": [
    "model_end.save_weights(\"resnet_adv.h5\")"
   ]
  },
  {
   "cell_type": "code",
   "execution_count": 23,
   "metadata": {},
   "outputs": [
    {
     "name": "stdout",
     "output_type": "stream",
     "text": [
      "0\n",
      "1\n",
      "2\n",
      "3\n",
      "4\n",
      "5\n",
      "6\n",
      "7\n",
      "8\n",
      "9\n",
      "[[0.226 1.38  1.378 1.388 1.381 1.405 1.408 1.35  1.388 1.389]\n",
      " [1.379 0.163 1.393 1.397 1.407 1.382 1.394 1.395 1.366 1.377]\n",
      " [1.382 1.394 0.186 1.384 1.395 1.363 1.395 1.392 1.403 1.397]\n",
      " [1.388 1.396 1.387 0.296 1.374 1.359 1.384 1.375 1.363 1.387]\n",
      " [1.382 1.407 1.396 1.371 0.208 1.392 1.398 1.376 1.405 1.387]\n",
      " [1.406 1.382 1.359 1.356 1.392 0.239 1.398 1.376 1.404 1.4  ]\n",
      " [1.408 1.395 1.397 1.384 1.398 1.396 0.177 1.403 1.404 1.387]\n",
      " [1.351 1.394 1.39  1.377 1.377 1.375 1.403 0.173 1.407 1.4  ]\n",
      " [1.388 1.367 1.402 1.361 1.405 1.404 1.403 1.407 0.173 1.394]\n",
      " [1.389 1.379 1.399 1.388 1.387 1.399 1.388 1.401 1.395 0.185]]\n"
     ]
    },
    {
     "data": {
      "image/png": "[encoded data removed]",
      "text/plain": [
       "<Figure size 432x288 with 1 Axes>"
      ]
     },
     "metadata": {
      "needs_background": "light"
     },
     "output_type": "display_data"
    }
   ],
   "source": [
    "'''\n",
    "dist_matrix = np.zeros(shape=(10, 10))\n",
    "\n",
    "for i in range(10):\n",
    "    print(i)\n",
    "    for j in range(10):\n",
    "        outs_1 = model_end.predict(dataset_train[i])\n",
    "        outs_2 = model_end.predict(dataset_train[j])\n",
    "        \n",
    "        norms = []\n",
    "        for k in range(1000):\n",
    "            norms.append(norm(outs_1[\n",
    "                np.random.randint(0, 5000)] - outs_2[\n",
    "                np.random.randint(0, 5000)]))\n",
    "        dist_matrix[i][j] = np.mean(norms)\n",
    "        '''\n",
    "\n",
    "plt.imshow(dist_matrix / dist_matrix.max(), cmap=\"Greys\")\n",
    "print(dist_matrix.round(3))"
   ]
  },
  {
   "cell_type": "code",
   "execution_count": 19,
   "metadata": {},
   "outputs": [
    {
     "name": "stdout",
     "output_type": "stream",
     "text": [
      "[[0.528 1.27  1.221 1.243 1.305 1.313 1.324 1.29  1.217 1.263]\n",
      " [1.266 0.332 1.316 1.298 1.372 1.287 1.296 1.326 1.253 1.183]\n",
      " [1.217 1.311 0.51  1.206 1.228 1.223 1.264 1.292 1.324 1.335]\n",
      " [1.25  1.304 1.214 0.646 1.183 1.056 1.204 1.241 1.279 1.297]\n",
      " [1.297 1.37  1.232 1.181 0.532 1.217 1.245 1.211 1.352 1.346]\n",
      " [1.309 1.288 1.216 1.053 1.214 0.575 1.256 1.193 1.336 1.322]\n",
      " [1.328 1.295 1.266 1.198 1.248 1.263 0.371 1.334 1.33  1.299]\n",
      " [1.285 1.321 1.293 1.235 1.211 1.188 1.333 0.427 1.355 1.343]\n",
      " [1.22  1.259 1.322 1.279 1.349 1.337 1.328 1.358 0.42  1.286]\n",
      " [1.262 1.181 1.333 1.296 1.346 1.32  1.299 1.345 1.287 0.394]]\n"
     ]
    },
    {
     "data": {
      "image/png": "[encoded data removed]",
      "text/plain": [
       "<Figure size 432x288 with 1 Axes>"
      ]
     },
     "metadata": {
      "needs_background": "light"
     },
     "output_type": "display_data"
    }
   ],
   "source": [
    "dist_matrix = np.zeros(shape=(10, 10))\n",
    "\n",
    "for i in range(10):\n",
    "    print(i)\n",
    "    for j in range(10):\n",
    "        outs_1 = model_end.predict(dataset_train[i])\n",
    "        outs_2 = model_end.predict(dataset_train[j])\n",
    "        \n",
    "        norms = []\n",
    "        for k in range(1000):\n",
    "            norms.append(norm(outs_1[\n",
    "                np.random.randint(0, 5000)] - outs_2[\n",
    "                np.random.randint(0, 5000)]))\n",
    "        dist_matrix[i][j] = np.mean(norms)\n",
    "\n",
    "plt.imshow(dist_matrix / dist_matrix.max(), cmap=\"Greys\")\n",
    "print(dist_matrix.round(3))"
   ]
  },
  {
   "cell_type": "code",
   "execution_count": 34,
   "metadata": {},
   "outputs": [],
   "source": [
    "from art.attacks.fast_gradient import FastGradientMethod\n",
    "\n",
    "art_model = KerasClassifier(clip_values=(0, 1.), model=model, use_logits=False)\n",
    "attack = FastGradientMethod(art_model, eps=0.04, batch_size=16)"
   ]
  },
  {
   "cell_type": "code",
   "execution_count": 35,
   "metadata": {},
   "outputs": [],
   "source": [
    "adv_imgs = attack.generate(x_test[:2000])\n",
    "model.evaluate(adv_imgs, y_test[:2000])"
   ]
  },
  {
   "cell_type": "code",
   "execution_count": 47,
   "metadata": {},
   "outputs": [
    {
     "name": "stdout",
     "output_type": "stream",
     "text": [
      "[[1.015 1.247 1.083 1.08  1.21  1.242 1.009 1.324 1.135 1.276]\n",
      " [1.259 0.932 1.179 1.177 1.277 1.236 0.937 1.307 1.213 1.035]\n",
      " [1.22  1.285 1.017 1.041 1.163 1.2   0.848 1.313 1.274 1.295]\n",
      " [1.271 1.289 1.088 1.019 1.138 1.155 0.76  1.303 1.284 1.301]\n",
      " [1.257 1.312 1.083 1.02  1.057 1.188 0.831 1.282 1.31  1.327]\n",
      " [1.27  1.287 1.049 0.985 1.143 1.174 0.794 1.298 1.286 1.304]\n",
      " [1.283 1.296 1.066 1.041 1.134 1.232 0.797 1.324 1.29  1.301]\n",
      " [1.246 1.273 1.093 1.043 1.066 1.133 0.862 1.2   1.301 1.299]\n",
      " [1.069 1.203 1.143 1.09  1.224 1.256 0.912 1.331 1.093 1.265]\n",
      " [1.231 0.985 1.152 1.145 1.251 1.237 0.88  1.316 1.202 1.11 ]]\n"
     ]
    },
    {
     "data": {
      "image/png": "[encoded data removed]",
      "text/plain": [
       "<Figure size 432x288 with 1 Axes>"
      ]
     },
     "metadata": {
      "needs_background": "light"
     },
     "output_type": "display_data"
    }
   ],
   "source": [
    "dist_matrix = np.zeros(shape=(10, 10))\n",
    "\n",
    "for i in range(10):\n",
    "    print(i)\n",
    "    for j in range(10):\n",
    "        adv_imgs = attack.generate(dataset_train[i][:2500])\n",
    "        outs_1 = model_end.predict(adv_imgs)\n",
    "        outs_2 = model_end.predict(dataset_train[j])\n",
    "        \n",
    "        norms = []\n",
    "        for k in range(1000):\n",
    "            norms.append(norm(outs_1[\n",
    "                np.random.randint(0, 2500)] - outs_2[\n",
    "                np.random.randint(0, 5000)]))\n",
    "        dist_matrix[i][j] = np.mean(norms)\n",
    "\n",
    "plt.imshow(dist_matrix / dist_matrix.max(), cmap=\"Greys\")\n",
    "print(dist_matrix.round(3))"
   ]
  },
  {
   "cell_type": "code",
   "execution_count": null,
   "metadata": {},
   "outputs": [],
   "source": []
  },
  {
   "cell_type": "code",
   "execution_count": null,
   "metadata": {},
   "outputs": [],
   "source": []
  },
  {
   "cell_type": "code",
   "execution_count": null,
   "metadata": {},
   "outputs": [],
   "source": []
  }
 ],
 "metadata": {
  "kernelspec": {
   "display_name": "Python 3",
   "language": "python",
   "name": "python3"
  },
  "language_info": {
   "codemirror_mode": {
    "name": "ipython",
    "version": 3
   },
   "file_extension": ".py",
   "mimetype": "text/x-python",
   "name": "python",
   "nbconvert_exporter": "python",
   "pygments_lexer": "ipython3",
   "version": "3.6.8"
  }
 },
 "nbformat": 4,
 "nbformat_minor": 2
}
